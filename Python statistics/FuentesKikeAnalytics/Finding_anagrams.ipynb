{
 "metadata": {
  "language_info": {
   "codemirror_mode": {
    "name": "ipython",
    "version": 3
   },
   "file_extension": ".py",
   "mimetype": "text/x-python",
   "name": "python",
   "nbconvert_exporter": "python",
   "pygments_lexer": "ipython3",
   "version": "3.7.4-final"
  },
  "orig_nbformat": 2,
  "kernelspec": {
   "name": "python3",
   "display_name": "Python 3"
  }
 },
 "nbformat": 4,
 "nbformat_minor": 2,
 "cells": [
  {
   "cell_type": "code",
   "execution_count": 19,
   "metadata": {},
   "outputs": [],
   "source": [
    "import collections"
   ]
  },
  {
   "cell_type": "code",
   "execution_count": 15,
   "metadata": {},
   "outputs": [],
   "source": [
    "words = sorted({line.strip().lower() for line in open('..\\Python analytics\\Ex_Files_Python_Data_Analysis\\Exercise Files\\chapter3\\words.txt', 'r')})"
   ]
  },
  {
   "cell_type": "code",
   "execution_count": 13,
   "metadata": {},
   "outputs": [],
   "source": [
    "def crear_firma(palabra): #funcion que crea y devuelve la firma de la palabra que recibe por parametro\n",
    "    return ''.join(sorted(palabra.lower()))"
   ]
  },
  {
   "cell_type": "code",
   "execution_count": 14,
   "metadata": {},
   "outputs": [
    {
     "output_type": "execute_result",
     "data": {
      "text/plain": "'eikk'"
     },
     "metadata": {},
     "execution_count": 14
    }
   ],
   "source": [
    "crear_firma('Kike') #prueba de la función"
   ]
  },
  {
   "cell_type": "code",
   "execution_count": 16,
   "metadata": {},
   "outputs": [],
   "source": [
    "def buscar_anagrama(myword): #funcion que se recorre todo el diciconario y busca las palabras con la misma firma\n",
    "    mifirma = crear_firma(myword)\n",
    "\n",
    "    for palabra in words: #recorre el diccionario palabra a palabra\n",
    "        if mifirma == crear_firma(palabra): #crea la firma de cada palabra, y la compara con la firma de la dada por parametro\n",
    "            print (f'La palabra {palabra} tiene la misma firma')"
   ]
  },
  {
   "cell_type": "code",
   "execution_count": 17,
   "metadata": {
    "tags": []
   },
   "outputs": [
    {
     "output_type": "stream",
     "name": "stdout",
     "text": "La palabra dictionary tiene la misma firma\nLa palabra indicatory tiene la misma firma\n"
    }
   ],
   "source": [
    "buscar_anagrama('dictionary')"
   ]
  },
  {
   "cell_type": "code",
   "execution_count": 18,
   "metadata": {
    "tags": []
   },
   "outputs": [
    {
     "output_type": "stream",
     "name": "stdout",
     "text": "La palabra dictionary tiene la misma firma\nLa palabra indicatory tiene la misma firma\nWall time: 377 ms\n"
    }
   ],
   "source": [
    "%time buscar_anagrama('dictionary') # %time devuelve cuanto tarda en ejecutarse la función"
   ]
  },
  {
   "cell_type": "code",
   "execution_count": 23,
   "metadata": {},
   "outputs": [],
   "source": [
    "words_by_sig = collections.defaultdict(set)\n",
    "for word in words:\n",
    "    words_by_sig[crear_firma(word)].add(word)"
   ]
  },
  {
   "cell_type": "code",
   "execution_count": 24,
   "metadata": {},
   "outputs": [
    {
     "output_type": "execute_result",
     "data": {
      "text/plain": "     'abbdelorsy': {'absorbedly'},\n             'abbdeenorsss': {'absorbedness'},\n             'aabbceefinorst': {'absorbefacient'},\n             'abbcenorsy': {'absorbency'},\n             'abbenorst': {'absorbent'},\n             'abbeorrs': {'absorber', 'reabsorb'},\n             'abbginors': {'absorbing'},\n             'abbgilnorsy': {'absorbingly'},\n             'abbiinoorst': {'absorbition'},\n             'aboprst': {'absorpt', 'barpost'},\n             'aabcenoprst': {'absorptance'},\n             'abeeimooprrstt': {'absorptiometer'},\n             'abceiimooprrstt': {'absorptiometric'},\n             'abinooprst': {'absorption'},\n             'abeioprstv': {'absorptive'},\n             'abeiloprstvy': {'absorptively'},\n             'abeeinoprssstv': {'absorptiveness'},\n             'abiioprsttvy': {'absorptivity'},\n             'aaabelqsttuu': {'absquatulate'},\n             'aabinst': {'abstain'},\n             'aabeinrst': {'abstainer'},\n             'aabeimnnstt': {'abstainment'},\n             'abeimosstu': {'abstemious'},\n             'abeilmosstuy': {'abstemiously'},\n             'abeeimnosssstu': {'abstemiousness'},\n             'abeinnostt': {'abstention'},\n             'abeiinnossttt': {'abstentionist'},\n             'abeinossttu': {'abstentious'},\n             'abeegrst': {'absterge'},\n             'abeegnrstt': {'abstergent'},\n             'abeinorsst': {'abstersion'},\n             'abeeirsstv': {'abstersive'},\n             'abeeeinrsssstv': {'abstersiveness'},\n             'abceeinnst': {'abstinence'},\n             'abceinnsty': {'abstinency'},\n             'abeinnstt': {'abstinent'},\n             'aabeiilnnstt': {'abstinential'},\n             'abeilnnstty': {'abstinently'},\n             'aabcrstt': {'abstract'},\n             'aabcderstt': {'abstracted'},\n             'aabcdelrstty': {'abstractedly'},\n             'aabcdeenrssstt': {'abstractedness'},\n             'aabcerrstt': {'abstracter'},\n             'aabcinorstt': {'abstraction'},\n             'aaabcilnorstt': {'abstractional'},\n             'aabciimnorsstt': {'abstractionism'},\n             'aabciinorssttt': {'abstractionist'},\n             'aabciiorsstttu': {'abstractitious'},\n             'aabceirsttv': {'abstractive'},\n             'aabceilrsttvy': {'abstractively'},\n             'aabceeinrsssttv': {'abstractiveness'},\n             'aabclrstty': {'abstractly'},\n             'aabcenrssstt': {'abstractness'},\n             'aabcorrstt': {'abstractor'},\n             'aabehnrstt': {'abstrahent'},\n             'abcdeirstt': {'abstricted'},\n             'abciinorstt': {'abstriction'},\n             'abersstu': {'abstruse'},\n             'abelrsstuy': {'abstrusely'},\n             'abeenrsssstu': {'abstruseness'},\n             'abinorsstu': {'abstrusion'},\n             'abirssttuy': {'abstrusity'},\n             'abemsu': {'absume'},\n             'abimnopstu': {'absumption'},\n             'abdrsu': {'absurd'},\n             'abdirstuy': {'absurdity'},\n             'abdlrsuy': {'absurdly'},\n             'abdenrsssu': {'absurdness'},\n             'ablostv': {'absvolt'},\n             'abrsstuy': {'absyrtus'},\n             'aabeilmnrt': {'abterminal'},\n             'aabhint': {'abthain', 'habitan'},\n             'aabehiinrt': {'abthainrie'},\n             'aabhinrty': {'abthainry'},\n             'aaabeghnt': {'abthanage'},\n             'abu': {'abu'},\n             'abccou': {'abucco'},\n             'aabilu': {'abulia'},\n             'abcilu': {'abulic', 'baculi'},\n             'aaabilmnou': {'abulomania'},\n             'aabnu': {'abuna'},\n             'aabcdennu': {'abundance'},\n             'aabcdnnuy': {'abundancy'},\n             'aabdnntu': {'abundant'},\n             'aaabdinntu': {'abundantia'},\n             'aabdlnntuy': {'abundantly'},\n             'aabru': {'abura'},\n             'aabboruuz': {'aburabozu'},\n             'aabbnru': {'aburban'},\n             'abrstu': {'aburst'},\n             'abnortu': {'aburton'},\n             'aabbelsu': {'abusable'},\n             'abesu': {'abuse'},\n             'abdelsuy': {'abusedly'},\n             'abeesu': {'abusee'},\n             'abeflsuu': {'abuseful'},\n             'abefllsuuy': {'abusefully'},\n             'abeeflnsssuu': {'abusefulness'},\n             'abersu': {'abuser'},\n             'abinosu': {'abusion'},\n             'abiossuu': {'abusious'},\n             'abeisuv': {'abusive'},\n             'abeilsuvy': {'abusively'},\n             'abeeinsssuv': {'abusiveness'},\n             'abtu': {'abut', 'tabu', 'tuba'},\n             'aabtu': {'abuta', 'bauta'},\n             'abemnttu': {'abutment'},\n             'aablttu': {'abuttal'},\n             'aberttu': {'abutter'},\n             'abginttu': {'abutting'},\n             'abuzz': {'abuzz'},\n             'ablotv': {'abvolt'},\n             'aabbw': {'abwab'},\n             'aby': {'aby', 'bay'},\n             'abmsy': {'abysm'},\n             'aablmsy': {'abysmal', 'balsamy'},\n             'aabllmsyy': {'abysmally'},\n             'abssy': {'abyss'},\n             'aablssy': {'abyssal'},\n             'aabiinnssy': {'abyssinian'},\n             'abbcehinnoossty': {'abyssobenthonic'},\n             'abhilossty': {'abyssolith'},\n             'aabcegilopssy': {'abyssopelagic'},\n             'aaacccehint': {'acacatechin'},\n             'aaacccehlot': {'acacatechol'},\n             'aacceint': {'acacetin'},\n             'aaacci': {'acacia'},\n             'aaaccin': {'acacian'},\n             'aacciin': {'acaciin'},\n             'aaccin': {'acacin'},\n             'aacdeem': {'academe'},\n             'aaacdeilm': {'academial'},\n             'aaacdeimn': {'academian'},\n             'aaccdeim': {'academic'},\n             'aaaccdeilm': {'academical'},\n             'aaaccdeillmy': {'academically'},\n             'aaaccdeilms': {'academicals'},\n             'aaaccdeiimn': {'academician'},\n             'aaccdeiimms': {'academicism'},\n             'aacdeimms': {'academism'},\n             'aacdeimst': {'academist'},\n             'aacdeeimt': {'academite', 'acetamide'},\n             'aaacdeiimnotz': {'academization'},\n             'aacdeeimz': {'academize'},\n             'aacdemsu': {'academus'},\n             'aacdemy': {'academy'},\n             'aaacdi': {'acadia'},\n             'aaacdeiilt': {'acadialite'},\n             'aaacdin': {'acadian'},\n             'aacdei': {'acadie', 'acedia', 'adicea'},\n             'aaacen': {'acaena'},\n             'aacjou': {'acajou'},\n             'aacehlp': {'acaleph', 'acephal'},\n             'aaacehlp': {'acalepha', 'acephala'},\n             'aaaceehlp': {'acalephae', 'apalachee'},\n             'aaacehlnp': {'acalephan', 'acephalan'},\n             'aacdehilop': {'acalephoid'},\n             'aaacclly': {'acalycal'},\n             'aacceilny': {'acalycine'},\n             'aaccilnosuy': {'acalycinous'},\n             'aaaccelltuy': {'acalyculate'},\n             'aaachlpy': {'acalypha'},\n             'aaaceelprty': {'acalypterae'},\n             'aaaaclprtty': {'acalyptrata'},\n             'aaaacelprtty': {'acalyptratae'},\n             'aaacelprtty': {'acalyptrate', 'calyptratae'},\n             'aaacmr': {'acamar', 'camara', 'maraca'},\n             'aaacimps': {'acampsia'},\n             'aaacn': {'acana'},\n             'aaaccenosu': {'acanaceous'},\n             'aaaccilnno': {'acanonical'},\n             'aachnt': {'acanth', 'anchat', 'tanach'},\n             'aaachnt': {'acantha'},\n             'aaaacceehnt': {'acanthaceae'},\n             'aaaccehnostu': {'acanthaceous'},\n             'aaacdhnt': {'acanthad'},\n             'aaaachinrt': {'acantharia'},\n             'aaachint': {'acanthia', 'achatina'},\n             'aaachilnt': {'acanthial', 'calathian'},\n             'aachinnt': {'acanthin', 'chinanta'},\n             'aacehinnt': {'acanthine'},\n             'aachinnot': {'acanthion'},\n             'aacehintt': {'acanthite'},\n             'aaacchnooprstu': {'acanthocarpous'},\n             'aaaaccehhlnopt': {'acanthocephala'},\n             'aaaaccehhlnnopt': {'acanthocephalan'},\n             'aaaccehhilnopt': {'acanthocephali'},\n             'aaaccehhlnoopstu': {'acanthocephalous'},\n             'aacceehnorstu': {'acanthocereus'},\n             'aaaccdhlnoostu': {'acanthocladous'},\n             'aaacdehnot': {'acanthodea'},\n             'aaacdehnnot': {'acanthodean'},\n             'aacdehinot': {'acanthodei'},\n             'aacdehnost': {'acanthodes'},\n             'aaacdhinnot': {'acanthodian'},\n             'aaacddehinot': {'acanthodidae'},\n             'aacdhiinot': {'acanthodii'},\n             'aacdhiinnot': {'acanthodini'},\n             'aacdhinot': {'acanthoid'},\n             'aachilmnnoot': {'acantholimon'},\n             'aaaccghillnoot': {'acanthological'},\n             'aacghlnooty': {'acanthology'},\n             'aachilnossty': {'acantholysis'},\n             'aaachmnot': {'acanthoma'},\n             'aaacdeehimnort': {'acanthomeridae'},\n             'aachnnot': {'acanthon'},\n             'aaaachnnoptx': {'acanthopanax'},\n             'aachhinopst': {'acanthophis'},\n             'aachhnoooprstu': {'acanthophorous'},\n             'aacdhnoopt': {'acanthopod'},\n             'aacdhnooopstu': {'acanthopodous'},\n             'aaachmnooopsttu': {'acanthopomatous'},\n             'aacehnooprt': {'acanthopore'},\n             'aaacehnnoprtt': {'acanthopteran'},\n             'aacehinoprtt': {'acanthopteri'},\n             'aacehnooprsttu': {'acanthopterous'},\n             'aaaceghinnoprtty': {'acanthopterygian'},\n             'aaceghiinoprtty': {'acanthopterygii'},\n             'aachinosst': {'acanthosis'},\n             'aachnostu': {'acanthous'},\n             'aaacdehinrtu': {'acanthuridae'},\n             'aachnrstuu': {'acanthurus'},\n             'aachnstu': {'acanthus'},\n             'aaacinp': {'acapnia'},\n             'aaacilnp': {'acapnial'},\n             'aaaclprsu': {'acapsular'},\n             'aacpu': {'acapu'},\n             'aacclopu': {'acapulco'},\n             'aaacr': {'acara', 'araca'},\n             'aaaciprs': {'acarapis'},\n             'aaacdir': {'acardia', 'acarida', 'arcadia'},\n             'aaaccdir': {'acardiac'},\n             'aacir': {'acari'},\n             'aaacinr': {'acarian', 'acarina', 'acrania'},\n             'aaaciirss': {'acariasis'},\n             'aaaccdiilr': {'acaricidal'},\n             'aaccdeiir': {'acaricide'},\n             'aacdir': {'acarid', 'cardia', 'carida'},\n             'aaacdeir': {'acaridea'},\n             'aaacdeinr': {'acaridean'},\n             'aaacdiimmortu': {'acaridomatium'},\n             'aacfimorr': {'acariform'},\n             'aaceinr': {'acarine', 'acraein', 'arecain'},\n             'aaciinorss': {'acarinosis'},\n             'aacccdeiimoru': {'acarocecidium'},\n             'aaacdeiimorrstt': {'acarodermatitis'},\n             'aacdior': {'acaroid'},\n             'aaclor': {'acarol'},\n             'aacgiloorst': {'acarologist'},\n             'aacgloory': {'acarology'},\n             'aachilooprsu': {'acarophilous'},\n             'aaabchioopr': {'acarophobia'},\n             'aaccioortx': {'acarotoxic'},\n             'aaceloprsu': {'acarpelous'},\n             'aacoprsu': {'acarpous'},\n             'aacrsu': {'acarus'},\n             'aacsstu': {'acastus', 'astacus'},\n             'aaaccceiltt': {'acatalectic'},\n             'aaaaceilpst': {'acatalepsia'},\n             'aaacelpsty': {'acatalepsy'},\n             'aaacceilptt': {'acataleptic'},\n             'aaaacccilltt': {'acatallactic'},\n             'aaaaacehimstt': {'acatamathesia'},\n             'aaaaachipst': {'acataphasia'},\n             'aaaciopsst': {'acataposis'},\n             'aaaaacisstt': {'acatastasia'},\n             'aaaaccisttt': {'acatastatic'},\n             'aacet': {'acate'},\n             'aaaccegilort': {'acategorical'},\n             'aacerty': {'acatery'},\n             'aaaachirst': {'acatharsia'},\n             'aaachrsty': {'acatharsy'},\n             'aacchilot': {'acatholic', 'chaotical'},\n             'aaacdlu': {'acaudal'},\n             'aaacdetu': {'acaudate', 'ecaudata'},\n             'aacceelnstu': {'acaulescent'},\n             'aaceilnu': {'acauline'},\n             'aacelosu': {'acaulose'},\n             'aaclosuu': {'acaulous'},\n             'aacc': {'acca', 'caca'},\n             'accdee': {'accede'},\n             'acccdeeen': {'accedence'},\n             'accdeer': {'acceder'},\n             'aabcceeellr': {'accelerable'},\n             'aaccdeelnor': {'accelerando'},\n             'aacceelnrt': {'accelerant'},\n             'aacceeelrt': {'accelerate'},\n             'aaccdeeelrt': {'accelerated'},\n             'aaccdeeellrty': {'acceleratedly'},\n             'aacceeilnort': {'acceleration'},\n             'aacceeeilrtv': {'accelerative'},\n             'aacceelorrt': {'accelerator', 'retrocaecal'},\n             'aacceelorrty': {'acceleratory'},\n             'aacceeghloprr': {'accelerograph'},\n             'acceeeelmorrt': {'accelerometer'},\n             'accden': {'accend'},\n             'abccdeiiilnty': {'accendibility'},\n             'abccdeeiln': {'accendible'},\n             'acceinnos': {'accension'},\n             'accenors': {'accensor'},\n             'accent': {'accent'},\n             'acceelnsst': {'accentless'},\n             'accenort': {'accentor'},\n             'aabcceelntu': {'accentuable'},\n             'aaccelntu': {'accentual'},\n             'aacceilnttuy': {'accentuality'},\n             'aaccellntuy': {'accentually'},\n             'aacceenttu': {'accentuate'},\n             'aacceinnottu': {'accentuation'},\n             'aaccenorttu': {'accentuator'},\n             'accenstu': {'accentus'},\n             'accept': {'accept'},\n             'aabcceiilptty': {'acceptability'},\n             'aabcceelpt': {'acceptable'},\n             'aabcceeelnpsst': {'acceptableness'},\n             'aabccelpty': {'acceptably'},\n             'aaccceenpt': {'acceptance'},\n             'aacccenpty': {'acceptancy'},\n             'aaccenptt': {'acceptant'},\n             'aacceinoptt': {'acceptation'},\n             'accdeept': {'accepted'},\n             'accdeelpty': {'acceptedly'},\n             'acceeprt': {'accepter'},\n             'aacceeilptt': {'acceptilate'},\n             'aacceiilnoptt': {'acceptilation'},\n             'acceinopt': {'acception', 'peccation'},\n             'acceeiptv': {'acceptive'},\n             'acceoprt': {'acceptor'},\n             'acceeprsst': {'acceptress'},\n             'acceers': {'accerse'},\n             'acceiinorst': {'accersition'},\n             'acceiorrst': {'accersitor'},\n             'access': {'access'},\n             'aacceilrssy': {'accessarily'},\n             'aacceeinrssss': {'accessariness'},\n             'aaccerssy': {'accessary'},\n             'aaccehiprsssy': {'accessaryship'},\n             'abcceiiilssty': {'accessibility'},\n             'abcceeilss': {'accessible'},\n             'abcceilssy': {'accessibly'},\n             'acceinoss': {'accession'},\n             'aacceilnoss': {'accessional'},\n             'acceeinorss': {'accessioner', 'reaccession'},\n             'acceeissv': {'accessive'},\n             'acceeilssvy': {'accessively'},\n             'acceelssss': {'accessless'},\n             'aacceilorss': {'accessorial'},\n             'acceilorssy': {'accessorily'},\n             'acceeinorssss': {'accessoriness'},\n             'acceiorsssu': {'accessorius'},\n             'acceorssy': {'accessory'},\n             'acccdeein': {'accidence'},\n             'acccdeiny': {'accidency'},\n             'accdeint': {'accident'},\n             'aaccdeilnt': {'accidental'},\n             'aaccdeiilmnst': {'accidentalism'},\n             'aaccdeiilnstt': {'accidentalist'},\n             'aaccdeiilntty': {'accidentality'},\n             'aaccdeillnty': {'accidentally'},\n             'aaccdeeilnnsst': {'accidentalness'},\n             'accddeeint': {'accidented'},\n             'aaccdeiilnt': {'accidential'},\n             'aaccdeiiilntty': {'accidentiality'},\n             'accdeilnty': {'accidently'},\n             'aaccdii': {'accidia'},\n             'accdeii': {'accidie'},\n             'accegin': {'accinge'},\n             'acceiinpt': {'accipient'},\n             'acceiiprt': {'accipiter'},\n             'aacciilprt': {'accipitral'},\n             'aacciiprrty': {'accipitrary'},\n             'acceiiprst': {'accipitres', 'preascitic'},\n             'acceiiinprt': {'accipitrine'},\n             'accimssu': {'accismus'},\n             'acceit': {'accite', 'acetic'},\n             'aaccilm': {'acclaim'},\n             'aaabcceillm': {'acclaimable'},\n             'aacceilmr': {'acclaimer'},\n             'aaaccilmnot': {'acclamation'},\n             'aaacclmort': {'acclamator'},\n             'aaacclmorty': {'acclamatory'},\n             'aaabcceillmt': {'acclimatable'},\n             'aaacciilmnott': {'acclimatation'},\n             'aacceilmt': {'acclimate'},\n             'aacceeilmmntt': {'acclimatement'},\n             'aacciilmnot': {'acclimation'},\n             'aaabcceiillmtz': {'acclimatizable'},\n             'aaacciiilmnottz': {'acclimatization'},\n             'aacceiilmtz': {'acclimatize'},\n             'aacceiilmrtz': {'acclimatizer'},\n             'aacceilmrtu': {'acclimature'},\n             'aaccilln': {'acclinal'},\n             'aacceilnt': {'acclinate', 'analectic'},\n             'acciilostuv': {'acclivitous'},\n             'acciiltvy': {'acclivity'},\n             'accilosuv': {'acclivous'},\n             'accloy': {'accloy'},\n             'aaccost': {'accoast'},\n             'accilo': {'accoil', 'calico'},\n             'aaccdelo': {'accolade'},\n             'aaccddelo': {'accoladed'},\n             'aaccdelot': {'accolated'},\n             'accelnot': {'accolent'},\n             'accello': {'accolle'},\n             'aabcciimnnoot': {'accombination'},\n             'aabccdelmmoo': {'accommodable'},\n             'aabccdeelmmnooss': {'accommodableness'},\n             'aaccdemmoot': {'accommodate'},\n             'aaccdelmmooty': {'accommodately'},\n             'aaccdeemmnoosst': {'accommodateness'},\n             'aaccdgimmnoot': {'accommodating'},\n             'aaccdgilmmnooty': {'accommodatingly'},\n             'aaccdimmnooot': {'accommodation'},\n             'aaaccdilmmnooot': {'accommodational'},\n             'aaccdeimmootv': {'accommodative'},\n             'aaccdeeimmnoosstv': {'accommodativeness'},\n             'aaccdmmooort': {'accommodator'},\n             'aacceimnopr': {'accompanier'},\n             'aacceimmnnopt': {'accompaniment'},\n             'aaacceilmmnnopt': {'accompanimental'},\n             'aaccimnopst': {'accompanist'},\n             'aaccmnopy': {'accompany'},\n             'aaccimnopsty': {'accompanyist'},\n             'acceeilmoptv': {'accompletive'},\n             'accceilmop': {'accomplice'},\n             'acccehiilmopps': {'accompliceship'},\n             'accciilmopty': {'accomplicity'},\n             'acchilmops': {'accomplish'},\n             'aabccehillmops': {'accomplishable'},\n             'accdehilmops': {'accomplished'},\n             'accehilmoprs': {'accomplisher', 'reaccomplish'},\n             'accehilmmnopst': {'accomplishment'},\n             'acchilmopst': {'accomplisht'},\n             'accmopt': {'accompt', 'compact'},\n             'accdor': {'accord'},\n             'aabccdelor': {'accordable'},\n             'aacccdenor': {'accordance'},\n             'aacccdnory': {'accordancy'},\n             'aaccdnort': {'accordant'},\n             'aaccdlnorty': {'accordantly'},\n             'accdeorr': {'accorder', 'reaccord'},\n             'accdginor': {'according'},\n             'accdgilnory': {'accordingly'},\n             'accdinoor': {'accordion'},\n             'accdiinoorst': {'accordionist'},\n             'aacceooprrt': {'accorporate'},\n             'aaccinoooprrt': {'accorporation'},\n             'accost': {'accost'},\n             'aabccelost': {'accostable'},\n             'accdeost': {'accosted'},\n             'acccehou': {'accouche'},\n             'accceehmnotu': {'accouchement'},\n             'acccehoruu': {'accoucheur'},\n             'accceehosuu': {'accoucheuse'},\n             'accnotu': {'account'},\n             ...})"
     },
     "metadata": {},
     "execution_count": 24
    }
   ],
   "source": [
    "words_by_sig"
   ]
  },
  {
   "cell_type": "code",
   "execution_count": 27,
   "metadata": {},
   "outputs": [],
   "source": [
    "def buscar_anagrama_opt(myword):\n",
    "    mifirma = crear_firma(myword)\n",
    "\n",
    "    #bloque try-except por si se busca una palabra que no esta en el diccionario\n",
    "    try:\n",
    "        return words_by_sig[mifirma]\n",
    "    except KeyError:\n",
    "        return set() #devuelve la propia palabra buscada"
   ]
  },
  {
   "cell_type": "code",
   "execution_count": 29,
   "metadata": {
    "tags": []
   },
   "outputs": [
    {
     "output_type": "stream",
     "name": "stdout",
     "text": "Wall time: 1.01 ms\n"
    },
    {
     "output_type": "execute_result",
     "data": {
      "text/plain": "{'dictionary', 'indicatory'}"
     },
     "metadata": {},
     "execution_count": 29
    }
   ],
   "source": [
    "%time buscar_anagrama_opt('dictionary')"
   ]
  },
  {
   "cell_type": "code",
   "execution_count": 30,
   "metadata": {},
   "outputs": [
    {
     "output_type": "execute_result",
     "data": {
      "text/plain": "{'kike'}"
     },
     "metadata": {},
     "execution_count": 30
    }
   ],
   "source": [
    "buscar_anagrama_opt('kike')"
   ]
  },
  {
   "cell_type": "code",
   "execution_count": 33,
   "metadata": {},
   "outputs": [],
   "source": [
    "#prueba de crear el diccionario indexado por firma\n",
    "d={}\n",
    "for w in words:\n",
    "    f=''.join(sorted(w))\n",
    "    f2=set(f)\n",
    "    firma = ''.join(sorted(f2))\n",
    "    if firma in d:\n",
    "        l=[]\n",
    "        l=d.get(firma)\n",
    "        l.append(w)\n",
    "        d[firma] = l\n",
    "    else:\n",
    "        l=[]\n",
    "        l.append(w)\n",
    "        d[firma] = l"
   ]
  }
 ]
}