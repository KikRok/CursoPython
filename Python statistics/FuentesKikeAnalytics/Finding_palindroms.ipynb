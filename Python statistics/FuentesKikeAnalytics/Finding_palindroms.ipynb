{
 "metadata": {
  "language_info": {
   "codemirror_mode": {
    "name": "ipython",
    "version": 3
   },
   "file_extension": ".py",
   "mimetype": "text/x-python",
   "name": "python",
   "nbconvert_exporter": "python",
   "pygments_lexer": "ipython3",
   "version": "3.7.4-final"
  },
  "orig_nbformat": 2,
  "kernelspec": {
   "name": "python3",
   "display_name": "Python 3"
  }
 },
 "nbformat": 4,
 "nbformat_minor": 2,
 "cells": [
  {
   "cell_type": "code",
   "execution_count": 1,
   "metadata": {},
   "outputs": [],
   "source": [
    "import collections"
   ]
  },
  {
   "cell_type": "code",
   "execution_count": 2,
   "metadata": {},
   "outputs": [],
   "source": [
    "words = sorted({line.strip().lower() for line in open('..\\Python analytics\\Ex_Files_Python_Data_Analysis\\Exercise Files\\chapter3\\words.txt', 'r')})"
   ]
  },
  {
   "cell_type": "code",
   "execution_count": 3,
   "metadata": {},
   "outputs": [],
   "source": [
    "def crear_firma(palabra): #funcion que crea y devuelve la firma de la palabra que recibe por parametro\n",
    "    return ''.join(sorted(palabra.lower()))"
   ]
  },
  {
   "cell_type": "code",
   "execution_count": 4,
   "metadata": {},
   "outputs": [],
   "source": [
    "words_by_sig = collections.defaultdict(set)\n",
    "for word in words:\n",
    "    words_by_sig[crear_firma(word)].add(word)"
   ]
  },
  {
   "cell_type": "code",
   "execution_count": 5,
   "metadata": {},
   "outputs": [],
   "source": [
    "def buscar_anagrama_opt(myword):\n",
    "    mifirma = crear_firma(myword)\n",
    "\n",
    "    #bloque try-except por si se busca una palabra que no esta en el diccionario\n",
    "    try:\n",
    "        return words_by_sig[mifirma]\n",
    "    except KeyError:\n",
    "        return set() #devuelve la propia palabra buscada"
   ]
  },
  {
   "cell_type": "code",
   "execution_count": 8,
   "metadata": {},
   "outputs": [
    {
     "output_type": "execute_result",
     "data": {
      "text/plain": "{'drawer', 'redraw', 'reward', 'warder'}"
     },
     "metadata": {},
     "execution_count": 8
    }
   ],
   "source": [
    "buscar_anagrama_opt('reward')"
   ]
  },
  {
   "cell_type": "code",
   "execution_count": 9,
   "metadata": {},
   "outputs": [],
   "source": [
    "def invertir_palabra(myword):\n",
    "    return myword[::-1]"
   ]
  },
  {
   "cell_type": "code",
   "execution_count": 10,
   "metadata": {},
   "outputs": [
    {
     "output_type": "execute_result",
     "data": {
      "text/plain": "'drawer'"
     },
     "metadata": {},
     "execution_count": 10
    }
   ],
   "source": [
    "invertir_palabra('reward')"
   ]
  },
  {
   "cell_type": "code",
   "execution_count": 12,
   "metadata": {},
   "outputs": [],
   "source": [
    "def buscar_palindromo (myword):\n",
    "    try:\n",
    "        mifirma = crear_firma(myword)\n",
    "        invertida = invertir_palabra(myword)\n",
    "    \n",
    "\n",
    "        for w in words_by_sig[mifirma]:\n",
    "            if w == invertida:\n",
    "                return invertida\n",
    "    except KeyError:\n",
    "        return set() #devuelve la propia palabra buscada"
   ]
  },
  {
   "cell_type": "code",
   "execution_count": 16,
   "metadata": {},
   "outputs": [],
   "source": [
    "buscar_palindromo('aaron')"
   ]
  },
  {
   "cell_type": "code",
   "execution_count": 17,
   "metadata": {},
   "outputs": [],
   "source": [
    "words_palindroms = collections.defaultdict(set)\n",
    "for word in words:\n",
    "    if (buscar_palindromo (word) != None):\n",
    "        words_palindroms[crear_firma(word)].add(word)"
   ]
  },
  {
   "cell_type": "code",
   "execution_count": 18,
   "metadata": {},
   "outputs": [
    {
     "output_type": "execute_result",
     "data": {
      "text/plain": "          'bdir': {'bird', 'drib'},\n             'bis': {'bis', 'sib'},\n             'bit': {'bit', 'tib'},\n             'ably': {'blay', 'yalb'},\n             'bblu': {'blub', 'bulb'},\n             'bbo': {'bob'},\n             'abbco': {'bobac', 'cabob'},\n             'bdo': {'bod', 'dob'},\n             'bgo': {'bog', 'gob'},\n             'bhoor': {'bohor', 'rohob'},\n             'bmo': {'bom', 'mob'},\n             'bno': {'bon', 'nob'},\n             'bkno': {'bonk', 'knob'},\n             'bboo': {'boob'},\n             'bdoo': {'bood', 'doob'},\n             'bop': {'bop', 'pob'},\n             'bor': {'bor', 'rob'},\n             'beorr': {'borer', 'rerob'},\n             'bos': {'bos', 'sob'},\n             'bow': {'bow', 'wob'},\n             'abgr': {'brag', 'garb'},\n             'abry': {'bray', 'yarb'},\n             'bery': {'brey', 'yerb'},\n             'bgor': {'brog', 'gorb'},\n             'brtu': {'brut', 'burt', 'trub', 'turb'},\n             'bbu': {'bub'},\n             'bdu': {'bud', 'dub'},\n             'bnu': {'bun', 'nub'},\n             'bknu': {'bunk', 'knub'},\n             'bru': {'bur', 'rub'},\n             'bdru': {'burd', 'drub'},\n             'bgru': {'burg', 'grub'},\n             'bsu': {'bus', 'sub'},\n             'btu': {'but', 'tub'},\n             'c': {'c'},\n             'acl': {'cal', 'lac'},\n             'acm': {'cam', 'mac'},\n             'acmsu': {'camus', 'sumac'},\n             'acp': {'cap', 'pac'},\n             'acw': {'caw', 'wac'},\n             'ceps': {'ceps', 'spec'},\n             'cit': {'cit', 'tic'},\n             'cciiv': {'civic'},\n             'aclt': {'clat', 'talc'},\n             'cdo': {'cod', 'doc'},\n             'cor': {'cor', 'cro', 'orc', 'roc'},\n             'cos': {'cos', 'soc'},\n             'acmr': {'cram', 'marc'},\n             'ceru': {'cure', 'eruc'},\n             'd': {'d'},\n             'acde': {'dace', 'ecad'},\n             'add': {'dad'},\n             'ader': {'daer', 'read'},\n             'adg': {'dag', 'gad'},\n             'adgs': {'dags', 'sgad'},\n             'adh': {'dah', 'had'},\n             'adl': {'dal', 'lad'},\n             'adm': {'dam', 'mad'},\n             'admno': {'damon', 'nomad'},\n             'adp': {'dap', 'pad'},\n             'adr': {'dar', 'rad'},\n             'aadfr': {'daraf', 'farad'},\n             'adgr': {'darg', 'grad'},\n             'aderrt': {'darter', 'redart', 'retrad', 'trader'},\n             'adrst': {'darts', 'strad'},\n             'ads': {'das', 'sad'},\n             'addu': {'daud', 'duad'},\n             'adw': {'daw', 'wad'},\n             'ady': {'day', 'yad'},\n             'de': {'de', 'ed'},\n             'acdel': {'decal', 'laced'},\n             'acdep': {'decap', 'paced'},\n             'ddee': {'deed'},\n             'dddeeee': {'deedeed'},\n             'deem': {'deem', 'meed'},\n             'deep': {'deep', 'peed'},\n             'deer': {'deer', 'reed'},\n             'deg': {'deg', 'ged'},\n             'ddeegg': {'degged'},\n             'del': {'del', 'led'},\n             'defl': {'delf', 'fled'},\n             'deimt': {'demit', 'timed'},\n             'den': {'den', 'ned'},\n             'dehop': {'depoh', 'hoped'},\n             'deersst': {'dessert', 'tressed'},\n             'adert': {'detar', 'rated'},\n             'deilv': {'devil', 'lived'},\n             'dew': {'dew', 'wed'},\n             'deerw': {'dewer', 'rewed'},\n             'dey': {'dey', 'yed'},\n             'di': {'di', 'id'},\n             'adil': {'dial', 'laid'},\n             'adin': {'dian', 'naid'},\n             'bdimor': {'dibrom', 'morbid'},\n             'ddi': {'did'},\n             'deir': {'dier', 'reid'},\n             'dgi': {'dig', 'gid'},\n             'dilo': {'dilo', 'olid'},\n             'dim': {'dim', 'mid'},\n             'diimt': {'dimit', 'timid'},\n             'din': {'din', 'nid'},\n             'adinr': {'dinar', 'ranid'},\n             'dein': {'dine', 'enid'},\n             'dis': {'dis', 'sid'},\n             'dit': {'dit', 'tid'},\n             'do': {'do', 'od'},\n             'ddo': {'dod'},\n             'dgo': {'dog', 'god'},\n             'dlo': {'dol', 'lod'},\n             'delo': {'dole', 'elod'},\n             'dmo': {'dom', 'mod'},\n             'dno': {'don', 'nod'},\n             'dloo': {'dool', 'lood'},\n             'dmoo': {'doom', 'mood'},\n             'door': {'door', 'rood'},\n             'dop': {'dop', 'pod'},\n             'dor': {'dor', 'rod'},\n             'dopr': {'dorp', 'prod'},\n             'dos': {'dos', 'sod'},\n             'dot': {'dot', 'tod'},\n             'dow': {'dow', 'wod'},\n             'adilr': {'drail', 'liard'},\n             'adrw': {'draw', 'ward'},\n             'aderrw': {'drawer', 'redraw', 'reward', 'warder'},\n             'adry': {'dray', 'yard'},\n             'dorw': {'drow', 'word'},\n             'adlu': {'dual', 'laud'},\n             'ddu': {'dud'},\n             'delu': {'duel', 'leud'},\n             'dgu': {'dug', 'gud'},\n             'dmu': {'dum', 'mud'},\n             'dpu': {'dup', 'pud'},\n             'e': {'e'},\n             'aen': {'ean', 'nae'},\n             'ceinot': {'eciton', 'notice'},\n             'deit': {'edit', 'tide'},\n             'deo': {'edo', 'ode'},\n             'eel': {'eel', 'lee'},\n             'eer': {'eer', 'ere', 'ree'},\n             'eglo': {'egol', 'loge'},\n             'eh': {'eh', 'he'},\n             'eek': {'eke'},\n             'aelps': {'elaps', 'spale'},\n             'beelrt': {'elbert', 'treble'},\n             'efiln': {'elfin', 'nifle'},\n             'eell': {'elle'},\n             'aehlo': {'eloah', 'haole'},\n             'elops': {'elops', 'spole'},\n             'em': {'em', 'me'},\n             'eem': {'eme'},\n             'eilm': {'emil', 'lime'},\n             'eimm': {'emim', 'mime'},\n             'eimr': {'emir', 'imer', 'remi', 'rime'},\n             'eimt': {'emit', 'time'},\n             'emu': {'emu', 'ume'},\n             'en': {'en', 'ne'},\n             'aemnor': {'enamor', 'romane'},\n             'efin': {'enif', 'fine'},\n             'elno': {'enol', 'leon', 'lone', 'noel'},\n             'enow': {'enow', 'wone'},\n             'eens': {'ense', 'esne'},\n             'eops': {'epos', 'sope'},\n             'er': {'er', 're'},\n             'eors': {'eros', 'sore'},\n             'es': {'es', 'se'},\n             'aenv': {'evan', 'nave'},\n             'eev': {'eve'},\n             'eenv': {'even', 'neve'},\n             'eerv': {'ever', 'reve'},\n             'eilv': {'evil', 'live'},\n             'eew': {'ewe'},\n             'ey': {'ey', 'ye'},\n             'eey': {'eye'},\n             'eny': {'eyn', 'nye'},\n             'f': {'f'},\n             'eefr': {'feer', 'reef'},\n             'efil': {'feil', 'lief'},\n             'efn': {'fen', 'nef'},\n             'fi': {'fi', 'if'},\n             'afir': {'fiar', 'raif'},\n             'fgi': {'fig', 'gif'},\n             'eflw': {'flew', 'welf'},\n             'fglo': {'flog', 'golf'},\n             'flow': {'flow', 'wolf'},\n             'fo': {'fo', 'of'},\n             'floo': {'fool', 'loof'},\n             'foost': {'foots', 'stoof'},\n             'for': {'fro', 'orf'},\n             'g': {'g'},\n             'agg': {'gag'},\n             'agj': {'gaj', 'jag'},\n             'agl': {'gal', 'lag'},\n             'agm': {'gam', 'mag'},\n             'agn': {'gan', 'nag'},\n             'aaggnn': {'gangan', 'nagnag'},\n             'agr': {'gar', 'rag'},\n             'ags': {'gas', 'sag'},\n             'agt': {'gat', 'tag'},\n             'aegrt': {'gater', 'retag'},\n             'agw': {'gaw', 'wag'},\n             'agz': {'gaz', 'zag'},\n             'egl': {'gel', 'leg'},\n             'deeglr': {'gelder', 'redleg'},\n             'egm': {'gem', 'meg'},\n             'egr': {'ger', 'reg'},\n             'egs': {'ges', 'seg'},\n             'egt': {'get', 'teg'},\n             'ggi': {'gig'},\n             'gim': {'gim', 'mig'},\n             'gin': {'gin', 'nig'},\n             'gip': {'gip', 'pig'},\n             'girt': {'girt', 'trig'},\n             'git': {'git', 'tig'},\n             'agnr': {'gnar', 'rang'},\n             'agnt': {'gnat', 'tang'},\n             'agnw': {'gnaw', 'wang'},\n             'go': {'go', 'og'},\n             'ggo': {'gog'},\n             'glo': {'gol', 'log'},\n             'efglor': {'golfer', 'reflog'},\n             'gno': {'gon', 'nog'},\n             'gor': {'gor', 'rog'},\n             'gos': {'gos', 'sog'},\n             'got': {'got', 'tog'},\n             'glu': {'gul', 'lug'},\n             'glpu': {'gulp', 'plug'},\n             'gmu': {'gum', 'mug'},\n             'gpu': {'gup', 'pug'},\n             'gru': {'gur', 'rug'},\n             'grtu': {'gurt', 'trug'},\n             'gtu': {'gut', 'tug'},\n             'h': {'h'},\n             'ahh': {'hah'},\n             'aahkm': {'hakam', 'makah'},\n             'aahhll': {'hallah'},\n             'aahlln': {'hallan', 'nallah'},\n             'ahm': {'ham', 'mah'},\n             'ahp': {'hap', 'pah'},\n             'ahirrs': {'harris', 'sirrah'},\n             'ahrt': {'hart', 'trah'},\n             'ahw': {'haw', 'wah'},\n             'ahy': {'hay', 'yah'},\n             'ehr': {'her', 'reh'},\n             'ho': {'ho', 'oh'},\n             'hoop': {'hoop', 'pooh'},\n             'hop': {'hop', 'poh'},\n             'hhu': {'huh'},\n             'i': {'i'},\n             'bio': {'ibo', 'obi'},\n             'hii': {'ihi'},\n             'iim': {'imi'},\n             'iimm': {'immi'},\n             'in': {'in', 'ni'},\n             'ikor': {'irok', 'kori'},\n             'inor': {'iron', 'nori'},\n             'is': {'is', 'si'},\n             'iiss': {'isis', 'sisi'},\n             'it': {'it', 'ti'},\n             'eint': {'iten', 'neti'},\n             'j': {'j'},\n             'ajr': {'jar', 'raj'},\n             'ajt': {'jat', 'taj'},\n             'k': {'k'},\n             'aakkkk': {'kakkak'},\n             'akn': {'kan', 'nak'},\n             'aaknp': {'kanap', 'panak'},\n             'aaknt': {'kanat', 'tanak'},\n             'aakkss': {'kassak'},\n             'aky': {'kay', 'yak'},\n             'aakky': {'kayak'},\n             'aakkz': {'kazak'},\n             'adekr': {'kedar', 'radek'},\n             'eekk': {'keek'},\n             'eekl': {'keel', 'leek'},\n             'eekp': {'keep', 'peek'},\n             'eeks': {'kees', 'seek'},\n             'eekkl': {'kelek'},\n             'ikp': {'kip', 'pik'},\n             'klop': {'klop', 'polk'},\n             'aknp': {'knap', 'pank'},\n             'aknr': {'knar', 'kran', 'nark', 'rank'},\n             'iknt': {'knit', 'tink'},\n             'knot': {'knot', 'tonk'},\n             'kntu': {'knut', 'tunk'},\n             'ko': {'ko', 'ok'},\n             'kor': {'kor', 'rok'},\n             'kos': {'kos', 'sok'},\n             'aklr': {'kral', 'lark'},\n             'akrs': {'kras', 'sark'},\n             'akru': {'kuar', 'rauk'},\n             'l': {'l'},\n             'adiln': {'ladin', 'nidal'},\n             'aelt': {'laet', 'leat', 'tael', 'teal'},\n             'aeglr': {'lager', 'regal'},\n             'alm': {'lam', 'mal'},\n             'alp': {'lap', 'pal'},\n             'alnop': {'lapon', 'nopal'},\n             'alrsu': {'larus', 'sural'},\n             'als': {'las', 'sal'},\n             'aloss': {'lasso', 'ossal'},\n             'alt': {'lat', 'tal'},\n             'aeln': {'lean', 'nael'},\n             'eelp': {'leep', 'peel'},\n             'eelr': {'leer', 'reel'},\n             'eels': {'lees', 'seel'},\n             'eelt': {'leet', 'teel'},\n             'eellm': {'lemel'},\n             'eelpr': {'leper', 'repel'},\n             'elr': {'ler', 'rel'},\n             'eellv': {'level'},\n             'eeellrv': {'leveler', 'relevel'},\n             'eelrv': {'lever', 'revel'},\n             'eilrv': {'levir', 'rivel'},\n             'ails': {'lias', 'sail'},\n             'eiln': {'lien', 'neil'},\n             'ilm': {'lim', 'mil'},\n             'iln': {'lin', 'nil'},\n             'ilnsu': {'linus', 'sunil'},\n             'ilno': {'lion', 'noil'},\n             'ils': {'lis', 'sil'},\n             'ilt': {'lit', 'til'},\n             'ellw': {'llew', 'well'},\n             'bloo': {'lobo', 'obol'},\n             'ilos': {'lois', 'siol'},\n             'lmoo': {'loom', 'mool'},\n             'loop': {'loop', 'pool'},\n             'loot': {'loot', 'tool'},\n             'eloort': {'looter', 'retool'},\n             'lop': {'lop', 'pol'},\n             'lot': {'lot', 'tol'},\n             'low': {'lwo', 'owl'},\n             'm': {'m'},\n             'aadmm': {'madam'},\n             'aaaallmmy': {'malayalam'},\n             'almo': {'malo', 'olam'},\n             'amm': {'mam'},\n             'amn': {'man', 'nam'},\n             'aemns': {'manes', 'senam'},\n             'amo': {'mao', 'oam'},\n             'amp': {'map', 'pam'},\n             'amr': {'mar', 'ram'},\n             'amrt': {'mart', 'tram'},\n             'ams': {'mas', 'sam'},\n             'amt': {'mat', 'tam'},\n             'amst': {'mats', 'stam'},\n             'amy': {'may', 'yam'},\n             'eemt': {'meet', 'teem'},\n             'emm': {'mem'},\n             'eemms': {'mesem'},\n             'eemrt': {'meter', 'retem'},\n             'emw': {'mew', 'wem'},\n             'hmo': {'mho', 'ohm'},\n             'aimn': {'mian', 'naim'},\n             'aims': {'mias', 'saim'},\n             'imm': {'mim'},\n             'imn': {'min', 'nim'},\n             'iimmn': {'minim'},\n             'imr': {'mir', 'rim'},\n             'mo': {'mo', 'om'},\n             'demoor': {'mooder', 'redoom'},\n             'lmoos': {'mools', 'sloom'},\n             'moor': {'moor', 'room'},\n             'moot': {'moot', 'toom'},\n             'mop': {'mop', 'pom'},\n             'mot': {'mot', 'tom'},\n             'moy': {'moy', 'yom'},\n             'mu': {'mu', 'um'},\n             'mmu': {'mum'},\n             'dmmrruu': {'murdrum'},\n             'msu': {'mus', 'sum'},\n             'my': {'my', 'ym'},\n             'n': {'n'},\n             'agnor': {'nagor', 'rogan'},\n             'ahnor': {'nahor', 'rohan'},\n             'aamnz': {'namaz', 'zaman'},\n             'aemnr': {'namer', 'reman'},\n             'ann': {'nan'},\n             'anp': {'nap', 'pan'},\n             'anr': {'nar', 'ran'},\n             'anssu': {'nasus', 'susan'},\n             'ant': {'nat', 'tan'},\n             'antu': {'naut', 'tuan'},\n             'anw': {'naw', 'wan'},\n             'any': {'nay', 'yan'},\n             'aanry': {'nayar', 'rayan'},\n             'ddeenr': {'nedder', 'redden'},\n             'eenp': {'neep', 'peen'},\n             'eenr': {'neer', 'reen'},\n             'eent': {'neet', 'teen'},\n             'enp': {'nep', 'pen'},\n             'eenpr': {'neper', 'repen'},\n             'ent': {'net', 'ten'},\n             'enov': {'nevo', 'oven'},\n             'enovy': {'nevoy', 'yoven'},\n             'enw': {'new', 'wen'},\n             'inp': {'nip', 'pin'},\n             'int': {'nit', 'tin'},\n             'einrt': {'niter', 'retin'},\n             'no': {'no', 'on'},\n             'nno': {'non'},\n             'ennot': {'nonet', 'tenon'},\n             'nnoo': {'noon'},\n             'noop': {'noop', 'poon'},\n             'nor': {'nor', 'ron'},\n             'not': {'not', 'ton'},\n             'now': {'now', 'won'},\n             'noy': {'noy', 'yon'},\n             'nu': {'nu', 'un'},\n             'nnu': {'nun'},\n             'ntu': {'nut', 'tun'},\n             'o': {'o'},\n             'aot': {'oat', 'tao'},\n             'foo': {'ofo'},\n             'gopu': {'ogpu', 'upgo'},\n             'hoo': {'oho'},\n             'imot': {'omit', 'timo'},\n             'or': {'or', 'ro'},\n             'os': {'os', 'so'},\n             'oot': {'oto'},\n             'oott': {'otto', 'toot'},\n             'ostu': {'otus', 'suto'},\n             'ow': {'ow', 'wo'},\n             'p': {'p'},\n             'acepr': {'pacer', 'recap'},\n             'aelpr': {'paler', 'relap'},\n             'alpp': {'palp', 'plap'},\n             'app': {'pap'},\n             'apr': {'par', 'rap'},\n             'aprt': {'part', 'prat', 'tarp', 'trap'},\n             'apt': {'pat', 'tap'},\n             'apw': {'paw', 'wap'},\n             'apy': {'pay', 'yap'},\n             'eepp': {'peep'},\n             'epp': {'pep'},\n             'epr': {'per', 'rep'},\n             'ipp': {'pip'},\n             'ipr': {'pir', 'rip'},\n             'ipt': {'pit', 'tip'},\n             'lppu': {'plup', 'pulp'},\n             'oopp': {'poop'},\n             'oopt': {'poot', 'toop'},\n             'opp': {'pop'},\n             'opt': {'pot', 'top'},\n             'opw': {'pow', 'wop'},\n             'prtu': {'prut', 'turp'},\n             'pu': {'pu', 'up'},\n             'ppu': {'pup'},\n             'psu': {'pus', 'sup'},\n             'ptu': {'put', 'tup'},\n             'q': {'q'},\n             'r': {'r'},\n             'aadrr': {'radar'},\n             'ars': {'ras', 'sar'},\n             'arw': {'raw', 'war'},\n             'ary': {'ray', 'yar'},\n             'bersu': {'rebus', 'suber'},\n             'bertu': {'rebut', 'tuber'},\n             'acerrt': {'recart', 'tracer'},\n             'ddeerr': {'redder'},\n             'adeerrrw': {'redrawer', 'rewarder'},\n             'eers': {'rees', 'seer'},\n             'eert': {'reet', 'teer'},\n             'eefrr': {'refer'},\n             'eflorw': {'reflow', 'wolfer'},\n             'eirs': {'reis', 'sier'},\n             'eirt': {'reit', 'tier'},\n             'eeirrt': {'reiter', 'retier'},\n             'eiknrt': {'reknit', 'tinker'},\n             'eeemrt': {'remeet', 'teemer'},\n             'eimrt': {'remit', 'timer'},\n             'eennrt': {'rennet', 'tenner'},\n             'aeepprr': {'repaper'},\n             'eoprrt': {'report', 'troper'},\n             'eoprt': {'repot', 'toper'},\n             'eerrtt': {'retter', 'terret'},\n             'eerrv': {'rever'},\n             'eeirrvv': {'reviver'},\n             'eertw': {'rewet', 'tewer'},\n             'borru': {'robur', 'rubor'},\n             'ort': {'rot', 'tor'},\n             'aenortv': {'rotanev', 'venator'},\n             'aoorrtt': {'rotator'},\n             'oorrt': {'rotor'},\n             'ory': {'roy', 'yor'},\n             'rsu': {'rus', 'sur'},\n             'rtu': {'rut', 'tur'},\n             's': {'s'},\n             'asw': {'saw', 'was'},\n             'astw': {'sawt', 'swat', 'taws', 'twas'},\n             'asy': {'say', 'yas'},\n             'eennoss': {'senones'},\n             'eerss': {'seres'},\n             'esw': {'sew', 'wes'},\n             'esy': {'sey', 'yes'},\n             'einnst': {'sinnet', 'tennis'},\n             'iirss': {'siris'},\n             'iss': {'sis'},\n             'elsw': {'slew', 'wels'},\n             'looooss': {'sooloos'},\n             'aprst': {'spart', 'traps'},\n             'apst': {'spat', 'taps'},\n             'opst': {'spot', 'tops'},\n             'ostw': {'stow', 'wots'},\n             'sttu': {'stut', 'tuts'},\n             'ssu': {'sus'},\n             'aswy': {'sway', 'yaws'},\n             't': {'t'},\n             'att': {'tat'},\n             'atv': {'tav', 'vat'},\n             'atw': {'taw', 'wat'},\n             'aty': {'tay', 'yat'},\n             'bbeett': {'tebbet'},\n             'beett': {'tebet'},\n             'eett': {'teet'},\n             'eentt': {'tenet'},\n             'etw': {'tew', 'wet'},\n             'itt': {'tit'},\n             'ortt': {'tort', 'trot'},\n             'ott': {'tot'},\n             'otw': {'tow', 'wot'},\n             'oty': {'toy', 'yot'},\n             'ortw': {'trow', 'wort'},\n             'stt': {'tst'},\n             'tu': {'tu', 'ut'},\n             'ttu': {'tut'},\n             'tty': {'tyt'},\n             'u': {'u'},\n             'luu': {'ulu'},\n             'lluuu': {'ululu'},\n             'muu': {'umu'},\n             'ruu': {'uru'},\n             'tuu': {'utu'},\n             'v': {'v'},\n             'w': {'w'},\n             'aww': {'waw'},\n             'awy': {'way', 'yaw'},\n             'ewy': {'wey', 'yew'},\n             'oww': {'wow'},\n             'owy': {'woy', 'yow'},\n             'x': {'x'},\n             'y': {'y'},\n             'aaryy': {'yaray'},\n             'oyy': {'yoy'},\n             'z': {'z'}})"
     },
     "metadata": {},
     "execution_count": 18
    }
   ],
   "source": [
    "words_palindroms"
   ]
  },
  {
   "cell_type": "code",
   "execution_count": null,
   "metadata": {},
   "outputs": [],
   "source": []
  }
 ]
}