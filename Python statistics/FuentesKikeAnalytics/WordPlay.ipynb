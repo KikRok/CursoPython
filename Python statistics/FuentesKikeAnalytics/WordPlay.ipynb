{
 "metadata": {
  "language_info": {
   "codemirror_mode": {
    "name": "ipython",
    "version": 3
   },
   "file_extension": ".py",
   "mimetype": "text/x-python",
   "name": "python",
   "nbconvert_exporter": "python",
   "pygments_lexer": "ipython3",
   "version": "3.7.4-final"
  },
  "orig_nbformat": 2,
  "kernelspec": {
   "name": "python3",
   "display_name": "Python 3"
  }
 },
 "nbformat": 4,
 "nbformat_minor": 2,
 "cells": [
  {
   "cell_type": "code",
   "execution_count": 7,
   "metadata": {},
   "outputs": [],
   "source": [
    "words = []\n",
    "for line in open('..\\Python analytics\\Ex_Files_Python_Data_Analysis\\Exercise Files\\chapter3\\words.txt', 'r'): #..\\ para subir en las carpetas\n",
    "    words.append(line) #En la lista words, vamos añadiendo las filas del fichero"
   ]
  },
  {
   "cell_type": "code",
   "execution_count": 8,
   "metadata": {},
   "outputs": [
    {
     "output_type": "execute_result",
     "data": {
      "text/plain": "235886"
     },
     "metadata": {},
     "execution_count": 8
    }
   ],
   "source": [
    "len(words) #devuelve la cantidad de elementos en la lista words"
   ]
  },
  {
   "cell_type": "code",
   "execution_count": 9,
   "metadata": {},
   "outputs": [
    {
     "output_type": "execute_result",
     "data": {
      "text/plain": "['A\\n',\n 'a\\n',\n 'aa\\n',\n 'aal\\n',\n 'aalii\\n',\n 'aam\\n',\n 'Aani\\n',\n 'aardvark\\n',\n 'aardwolf\\n',\n 'Aaron\\n']"
     },
     "metadata": {},
     "execution_count": 9
    }
   ],
   "source": [
    "words[:10] #devuelve una muestra de los 10 primeros elementos"
   ]
  },
  {
   "cell_type": "code",
   "execution_count": 10,
   "metadata": {},
   "outputs": [
    {
     "output_type": "execute_result",
     "data": {
      "text/plain": "'Aaron'"
     },
     "metadata": {},
     "execution_count": 10
    }
   ],
   "source": [
    "'Aaron\\n'.strip() #Le quita el salto de linea"
   ]
  },
  {
   "cell_type": "code",
   "execution_count": 11,
   "metadata": {},
   "outputs": [
    {
     "output_type": "execute_result",
     "data": {
      "text/plain": "'aaron'"
     },
     "metadata": {},
     "execution_count": 11
    }
   ],
   "source": [
    "'Aaron\\n'.strip().lower() #Le quita el salto de linea + lo pasa a minuslculas"
   ]
  },
  {
   "cell_type": "code",
   "execution_count": 12,
   "metadata": {},
   "outputs": [],
   "source": [
    "words = []\n",
    "for line in open('..\\Python analytics\\Ex_Files_Python_Data_Analysis\\Exercise Files\\chapter3\\words.txt', 'r'): \n",
    "    words.append(line.strip().lower()) #Obtenemos la lista ya sin los saltos de linea y en minusculas"
   ]
  },
  {
   "cell_type": "code",
   "execution_count": 13,
   "metadata": {},
   "outputs": [
    {
     "output_type": "execute_result",
     "data": {
      "text/plain": "['a',\n 'a',\n 'aa',\n 'aal',\n 'aalii',\n 'aam',\n 'aani',\n 'aardvark',\n 'aardwolf',\n 'aaron']"
     },
     "metadata": {},
     "execution_count": 13
    }
   ],
   "source": [
    "words[:10]"
   ]
  },
  {
   "cell_type": "code",
   "execution_count": 14,
   "metadata": {},
   "outputs": [],
   "source": [
    "words = set() #los set no permiten duplicados\n",
    "for line in open('..\\Python analytics\\Ex_Files_Python_Data_Analysis\\Exercise Files\\chapter3\\words.txt', 'r'): \n",
    "    words.add(line.strip().lower()) #Obtenemos la lista ya sin los saltos de linea y en minusculas y sin duplicados. En un set, se añaden elementos con add en vez de con append"
   ]
  },
  {
   "cell_type": "code",
   "execution_count": 18,
   "metadata": {},
   "outputs": [],
   "source": [
    "words_sorted=sorted(words)"
   ]
  },
  {
   "cell_type": "code",
   "execution_count": 19,
   "metadata": {},
   "outputs": [
    {
     "output_type": "execute_result",
     "data": {
      "text/plain": "['a', 'a', 'n', 'o', 'r']"
     },
     "metadata": {},
     "execution_count": 19
    }
   ],
   "source": [
    "sorted(\"aaron\") #ordena caracter a caracter y devuelve una lista"
   ]
  },
  {
   "cell_type": "code",
   "execution_count": 20,
   "metadata": {},
   "outputs": [
    {
     "output_type": "execute_result",
     "data": {
      "text/plain": "True"
     },
     "metadata": {},
     "execution_count": 20
    }
   ],
   "source": [
    "sorted(\"lives\")==sorted(\"elvis\") #comprobación de que usan el mismo set de caracteres"
   ]
  },
  {
   "cell_type": "code",
   "execution_count": 22,
   "metadata": {},
   "outputs": [
    {
     "output_type": "execute_result",
     "data": {
      "text/plain": "'eilsv'"
     },
     "metadata": {},
     "execution_count": 22
    }
   ],
   "source": [
    "''.join(sorted(\"lives\")) #vuelve a juntar los caractares"
   ]
  },
  {
   "cell_type": "code",
   "execution_count": 25,
   "metadata": {},
   "outputs": [
    {
     "output_type": "execute_result",
     "data": {
      "text/plain": "['Muuuuuu', 'Maaaaa']"
     },
     "metadata": {},
     "execution_count": 25
    }
   ],
   "source": [
    "animales = {'Bou':['Muuuuuu','Maaaaa'], 'Caball':['Hiiiiiii','Haaaa']}\n",
    "animales.get('Bou')"
   ]
  },
  {
   "cell_type": "code",
   "execution_count": 33,
   "metadata": {},
   "outputs": [],
   "source": [
    "d={}\n",
    "for w in words:\n",
    "    f=''.join(sorted(w))\n",
    "    f2=set(f)\n",
    "    firma = ''.join(sorted(f2))\n",
    "    if firma in d:\n",
    "        l=[]\n",
    "        l=d.get(firma)\n",
    "        l.append(w)\n",
    "        d[firma] = l\n",
    "    else:\n",
    "        l=[]\n",
    "        l.append(w)\n",
    "        d[firma] = l"
   ]
  },
  {
   "cell_type": "code",
   "execution_count": 34,
   "metadata": {},
   "outputs": [
    {
     "output_type": "execute_result",
     "data": {
      "text/plain": "pirated',\n  'superinsaniated',\n  'unpredestinated',\n  'untapestried',\n  'predisputant',\n  'resupinated',\n  'untranspired'],\n 'eimnopsu': ['impiousness', 'semisuspension', 'pneumonosis'],\n 'efnorst': ['fornenst',\n  'softener',\n  'nonforest',\n  'softner',\n  'resoften',\n  'footsoreness',\n  'freestone'],\n 'adeh': ['head', 'headed', 'deadhead', 'ahead', 'hade'],\n 'cgilmnou': ['columning', 'immunologic'],\n 'aehimprstw': ['whipmaster'],\n 'abcorw': ['crowbar'],\n 'acghiloprsy': ['hygroscopically',\n  'isographically',\n  'hygroscopical',\n  'oscillography',\n  'physiographical',\n  'hypsographical',\n  'parapsychological',\n  'physiographically'],\n 'aeinortx': ['exaration',\n  'exornation',\n  'tetraxonia',\n  'exoneration',\n  'externation',\n  'retaxation',\n  'extortionate',\n  'exenteration',\n  'nonexoneration',\n  'reannexation',\n  'tetraxonian',\n  'exterioration'],\n 'aefilt': ['leeftail',\n  'leafit',\n  'filate',\n  'flattie',\n  'fetial',\n  'filiate',\n  'affiliate',\n  'littleleaf',\n  'lafite'],\n 'ablrtu': ['tabular', 'brutal', 'tubular'],\n 'acdimrs': ['camisard'],\n 'abilrtvy': ['variability', 'vibratility'],\n 'aeilmnst': ['enamellist',\n  'smaltine',\n  'mentalism',\n  'misalienate',\n  'enamelist',\n  'millennialist',\n  'essentialism',\n  'maltiness',\n  'semilatent',\n  'mentalis',\n  'elementalist',\n  'militantness',\n  'sentimentalist',\n  'assailment',\n  'stamineal',\n  'semisentimental',\n  'sentimental',\n  'elementalism',\n  'sentimentalism',\n  'mentalist',\n  'sillimanite',\n  'installment',\n  'stileman'],\n 'bdehlnost': ['bloodshotten'],\n 'agoru': ['uragoga', 'goura', 'agouara', 'guaraguao'],\n 'ceipstu': ['peucites'],\n 'efklmort': ['folkmoter', 'folkmooter'],\n 'acehrty': ['tetrarchy',\n  'yachter',\n  'tracheary',\n  'treachery',\n  'teachery',\n  'cytherea',\n  'cheatery',\n  'hatchery',\n  'trachyte',\n  'chattery',\n  'charactery',\n  'ratchety',\n  'thearchy'],\n 'adhimopr': ['rhamphoid', 'pariahdom'],\n 'cghlu': ['gulch'],\n 'ehilpt': ['pelelith'],\n 'abeilnrst': ['llanberisslate',\n  'retainableness',\n  'strainable',\n  'bisantler',\n  'irritableness',\n  'transitable',\n  'brilliantness',\n  'intranslatable',\n  'insertable',\n  'intarissable',\n  'strainableness',\n  'triableness',\n  'inalterableness',\n  'restainable',\n  'intransitable',\n  'alabastrine',\n  'resistableness',\n  'bilateralness',\n  'irrestrainable'],\n 'aehinprstv': ['servantship', 'representativeship'],\n 'ostuy': ['tousy', 'stouty'],\n 'dehimnops': ['deipnosophism', 'demonship'],\n 'elprsu': ['supperless',\n  'repulser',\n  'pressureless',\n  'purseless',\n  'superplus',\n  'repulse',\n  'repulseless',\n  'spurless'],\n 'acdeimnopsty': ['syndesmectopia', 'appendicostomy', 'appendicocaecostomy'],\n 'bcelmorsuy': ['cumbersomely'],\n 'bdenoru': ['underrobe',\n  'unbored',\n  'unrobed',\n  'unrobbed',\n  'underbound',\n  'unborder',\n  'underborne',\n  'underorb',\n  'rebounder',\n  'unbordered',\n  'unbrooded',\n  'underborn',\n  'bounder',\n  'unorbed',\n  'rebound',\n  'beround',\n  'unenrobed'],\n 'adefil': ['afield', 'felidae', 'defial', 'fidelia', 'defilade'],\n 'ceinrt': ['reticence',\n  'irreticence',\n  'eccentric',\n  'enticer',\n  'neritic',\n  'citrene',\n  'cretin',\n  'encrinitic',\n  'inciter',\n  'tercine',\n  'icterine',\n  'encrinite',\n  'incenter',\n  'crenitic',\n  'cinter',\n  'reticent',\n  'renitence',\n  'cretinic',\n  'internecine',\n  'cricetine',\n  'reincite',\n  'crinet',\n  'irreticent',\n  'crinite',\n  'tencteri',\n  'citrine',\n  'enteric',\n  'centenier',\n  'cittern',\n  'centric'],\n 'achiort': ['archtraitor',\n  'aithochroi',\n  'catocathartic',\n  'thoracic',\n  'haricot',\n  'thoracica',\n  'hathoric',\n  'chariot',\n  'orthotactic',\n  'cacotrichia',\n  'trochaic',\n  'acrothoracica',\n  'tocharic'],\n 'acghilrstu': ['archigastrula'],\n 'bmorsu': ['bromus', 'sombrous', 'umbrous', 'brumous', 'bromous'],\n 'ablyz': ['blazy'],\n 'aceirtv': ['retractive',\n  'attractive',\n  'reactive',\n  'acervative',\n  'creative',\n  'caritive',\n  'recreative',\n  'vicariate',\n  'caritative',\n  'vicarate',\n  'veratric',\n  'accretive',\n  'recitative',\n  'reactivate'],\n 'aciloprty': ['tropically',\n  'platycoria',\n  'patriotically',\n  'procryptically',\n  'protatically',\n  'prototypically',\n  'allotropicity',\n  'opticociliary',\n  'polycitral',\n  'corporality',\n  'tropicality',\n  'pictorically',\n  'polycyttaria',\n  'applicatorily',\n  'polycratic',\n  'allopatrically',\n  'pictorially',\n  'applicatory',\n  'opticopapillary',\n  'protractility',\n  'catoptrically',\n  'allocryptic',\n  'proctorially',\n  'allotropically',\n  'prototypical'],\n 'aegnoprt': ['progenerate',\n  'progoneate',\n  'nonpregnant',\n  'propatronage',\n  'protagorean',\n  'patronage'],\n 'beknorw': ['bonework'],\n 'achiloprs': ['achloropsia',\n  'phosphorical',\n  'horoscopical',\n  'scholarship',\n  'prophilosophical',\n  'corporalship',\n  'phalacrosis',\n  'choriocapillaris',\n  'chloropsia'],\n 'aeilnrst': ['installer',\n  'sternalis',\n  'intersternal',\n  'leitneriales',\n  'intertarsal',\n  'internals',\n  'triliteralness',\n  'transliterate',\n  'larsenite',\n  'slatternliness',\n  'satellitarian',\n  'trainless',\n  'strainless',\n  'listerian',\n  'literariness',\n  'latisternal',\n  'internasal',\n  'transilient',\n  'interastral',\n  'intersertal',\n  'literalness',\n  'terrestrialness',\n  'internalness',\n  'trientalis',\n  'starlitten',\n  'reinstall',\n  'snaileater',\n  'illiterateness',\n  'trisilane',\n  'interstellar',\n  'trailiness',\n  'intrasellar',\n  'trilateralness',\n  'entrails',\n  'lanternist',\n  'latinitaster',\n  'interstrial',\n  'rensselaerite',\n  'eternalist',\n  'intersale',\n  'interstitial'],\n 'cdepr': ['creepered', 'precede', 'preceder', 'precreed', 'predecree'],\n 'acinoprsu': ['uranoscopia',\n  'anisocarpous',\n  'spinicarpous',\n  'spinocarpous',\n  'sacrospinous',\n  'criniparous',\n  'unparsonic',\n  'unprosaic',\n  'uranoscopic',\n  'carcinoscorpius',\n  'inocarpus',\n  'unrapacious',\n  'capricornus',\n  'paraconscious',\n  'supraconscious'],\n 'acdelmtu': ['maculated'],\n 'abcimoru': ['bromauric', 'bromoauric'],\n 'acdertuvx': ['excurvated'],\n 'cehiprsu': ['epicurish'],\n 'bceho': ['boche', 'bobeche', 'obeche'],\n 'bcimsu': ['cubism'],\n 'deils': ['slided',\n  'seidel',\n  'diesel',\n  'dessil',\n  'lidless',\n  'sedile',\n  'dillseed',\n  'slide',\n  'sideless',\n  'sidle'],\n 'abceilnrt': ['intracerebral',\n  'intractable',\n  'antibacterial',\n  'intercerebral',\n  'intracerebellar',\n  'interbalance',\n  'celibatarian',\n  'celtiberian'],\n 'adeilnrtu': ['unretaliated',\n  'trundletail',\n  'uninterlarded',\n  'adulterine',\n  'terdiurnal',\n  'laurentide',\n  'delineature',\n  'tarantulidae',\n  'interludial',\n  'underlieutenant',\n  'interlatitudinal',\n  'untrailed'],\n 'cdehnopstu': ['unstethoscoped'],\n 'cehnqrsu': ['squencher'],\n 'aegilnoprtu': ['preregulation',\n  'repugnatorial',\n  'pantagruelion',\n  'gutturopalatine',\n  'intergroupal',\n  'gluteoperineal'],\n 'achnoty': ['anthocyan', 'chatoyant', 'chatoyancy'],\n 'efilnrstu': ['fruitlessness',\n  'furnitureless',\n  'unfruitfulness',\n  'fruitfullness',\n  'unfertileness',\n  'flustrine',\n  'tristfulness'],\n 'cehinst': ['techiness',\n  'technist',\n  'itchiness',\n  'sthenic',\n  'teschenite',\n  'ethnicist',\n  'technics',\n  'chestiness',\n  'nicetish',\n  'tchetchentsish',\n  'technicist',\n  'hitchiness',\n  'sithence',\n  'tchetnitsi',\n  'hecticness'],\n 'aceiorst': ['aceratosis',\n  'castorite',\n  'stereostatics',\n  'cicatricose',\n  'osteostraci',\n  'aerostatics',\n  'corticostriate',\n  'cicatrose',\n  'stereostatic',\n  'aortectasis',\n  'tricostate',\n  'aerostatic',\n  'esoterica',\n  'accersitor',\n  'aortectasia',\n  'assertoric',\n  'stereotactic',\n  'crostarie',\n  'reassociate'],\n 'ory': ['yor', 'ory', 'roy', 'rory'],\n 'cmoprt': ['protocorm', 'comport', 'compotor'],\n 'acehmnostuy': ['menyanthaceous',\n  'coenenchymatous',\n  'enchymatous',\n  'cystenchymatous',\n  'mesenchymatous'],\n 'afilnty': ['faintly', 'flayflint', 'finality', 'infantility'],\n 'chiorsty': ['orthostichy',\n  'trichocystic',\n  'choristry',\n  'hircosity',\n  'chrysotis',\n  'historicity',\n  'trichocyst'],\n 'cehinrst': ['christen',\n  'christener',\n  'stretchiness',\n  'rechristen',\n  'snitcher',\n  'christine'],\n 'ginopst': ['posting',\n  'nonstooping',\n  'spotting',\n  'signpost',\n  'stopping',\n  'stoping',\n  'postsign',\n  'stooping',\n  'topognosis'],\n 'adegilopu': ['epidialogue'],\n 'cefnortu': ['confuter',\n  'countereffort',\n  'counteroffer',\n  'counterrefer',\n  'forecount',\n  'counterfort',\n  'counterforce'],\n 'hmotu': ['mouth', 'outmouth'],\n 'fklot': ['footfolk'],\n 'acegoprsu': ['supercargo'],\n 'eilmnsu': ['sensillum',\n  'unseemliness',\n  'seminule',\n  'emulsin',\n  'selenium',\n  'semilune',\n  'slumminess'],\n 'abilnprsty': ['inspirability', 'transplantability', 'transpirability'],\n 'acdeir': ['acrididae',\n  'carried',\n  'acider',\n  'acaridea',\n  'cardiacea',\n  'deciare',\n  'cardiidae',\n  'acaricide',\n  'caridea',\n  'cracidae',\n  'arcidae',\n  'acridiidae',\n  'iridaceae',\n  'ericad',\n  'cidaridae'],\n 'ilnoprt': ['pliotron', 'propionitril'],\n 'acinoprst': ['nonparasitic',\n  'cranioscopist',\n  'nonconspirator',\n  'pantisocrat',\n  'piscatorian',\n  'proassociation',\n  'coconspirator',\n  'antiprostatic',\n  'nonascription',\n  'transincorporation',\n  'contraposita',\n  'procrastinator',\n  'conspiration',\n  'conspirator',\n  'transcription',\n  'antipsoric',\n  'anticonscription',\n  'conspirant',\n  'anisotropic',\n  'intraprostatic',\n  'pantisocratist',\n  'procrastination',\n  'ascription',\n  'pantisocratic',\n  'contraposit',\n  'toponarcosis',\n  'contraposition',\n  'crispation'],\n 'aciorty': ['citatory', 'atrocity', 'riotocracy'],\n 'ahnortz': ['arthrozoan'],\n 'aioprt': ['prototraitor',\n  'troparia',\n  'patriot',\n  'apparitor',\n  'atropia',\n  'portrait',\n  'porpita',\n  'parotia',\n  'appropriator',\n  'apiator',\n  'airport',\n  'portia',\n  'propitiator',\n  'tapiro'],\n 'acghoprsu': ['coprophagous', 'carpophagous', 'sarcophagous', 'sarcophagus'],\n 'abeilnprty': ['interpretably', 'interpretability', 'penetrability'],\n 'aelmnrtx': ['extramental'],\n 'eilrv': ['livier',\n  'veiler',\n  'liver',\n  'livre',\n  'reliever',\n  'virile',\n  'relive',\n  'reveil',\n  'revile',\n  'levier',\n  'reveille',\n  'levir',\n  'reviler',\n  'rivel',\n  'relieve',\n  'rivell'],\n 'ahost': ['shoat', 'hosta', 'hoast'],\n 'achilmnopst': ['somatosplanchnic',\n  'splanchnosomatic',\n  'spinothalamic',\n  'splanchnotomical',\n  'somaticosplanchnic'],\n 'dhilosy': ['sillyhood', 'dollishly', 'shoddily'],\n 'ceiprst': ['triceps',\n  'pericecitis',\n  'rescript',\n  'perirectitis',\n  'prescript',\n  'receipts',\n  'prerestrict',\n  'preceptist'],\n 'erstw': ['wrester', 'wrest', 'strew', 'trews', 'wester', 'strewer'],\n 'defhiorsu': ['hederiferous'],\n 'adilmoy': ['malayoid', 'amyloidal', 'amyloid'],\n 'adelmors': ['dorsomesal', 'mesodermal', 'asmolder'],\n 'aceimnort': ['manticore',\n  'manometric',\n  'triacetonamine',\n  'actinomere',\n  'erotomaniac',\n  'accrementition',\n  'concremation',\n  'antiromance',\n  'interatomic',\n  'maceration',\n  'conterminant',\n  'metacromion',\n  'intermorainic',\n  'actinomeric',\n  'noncommemoration',\n  'incremation',\n  'recrimination',\n  'marcionite',\n  'carotinemia',\n  'eroticomania',\n  'ceratomania',\n  'macrocentrinae',\n  'metrocarcinoma',\n  'aerotonometric',\n  'recriminator',\n  'remication',\n  'econometrician',\n  'cremation',\n  'commemoration',\n  'actinometric',\n  'recementation',\n  'anemometric',\n  'actinometer',\n  'interramicorn',\n  'concameration',\n  'incrementation',\n  'cameration',\n  'citramontane',\n  'craniometric',\n  'aeromantic',\n  'racemation',\n  'craniometer',\n  'macroreaction',\n  'metromaniac',\n  'maemacterion',\n  'craniotome',\n  'microtinae',\n  'necromantic',\n  'microreaction',\n  'micromanometer',\n  'incameration'],\n 'achilnopsy': ['pansophically',\n  'splanchnapophysial',\n  'psychoclinical',\n  'nonphysical',\n  'splanchnapophysis',\n  'psychoanalysis'],\n 'ciloprstuv': ['proclivitous'],\n 'abelnpsy': ['payableness'],\n 'clopty': ['polycotyly', 'collotypy', 'polycotyl'],\n 'celoprst': ['protectorless',\n  'telespectroscope',\n  'spectrotelescope',\n  'prospectless',\n  'electroscope',\n  'pterocletes',\n  'telectroscope',\n  'coprosterol',\n  'pterocles',\n  'telelectroscope',\n  'stereotelescope',\n  'telestereoscope'],\n 'abehinoprst': ['probationership', 'baronetship'],\n 'beilnruv': ['unbeliever'],\n 'acgilmnu': ['unclaiming', 'unmagical', 'anglicanum'],\n 'adefnrstu': ['untransferred',\n  'unstrafed',\n  'untransfused',\n  'unfrustrated',\n  'understaff',\n  'unfenestrated'],\n 'dfilow': ['wildfowl'],\n 'imosy': ['myiosis', 'myosis'],\n 'agmprsu': ['grampus'],\n 'eilorsv': ['oversilver', 'overservile', 'visorless'],\n 'delpuyz': ['puzzledly'],\n 'acfouv': ['vacouf'],\n 'acdinortv': ['vindicator', 'contravindication', 'divarication'],\n 'abilnv': ['bivalvian'],\n 'aelry': ['allayer',\n  'yearly',\n  'early',\n  'layery',\n  'really',\n  'yallaer',\n  'layer',\n  'relay',\n  'rarely'],\n 'aeiklmst': ['steamlike', 'kemalist', 'mastlike'],\n 'elprsuy': ['resupply', 'presupply', 'pursley'],\n 'aeoprtyz': ['azeotropy'],\n 'aceilnor': ['acrolein',\n  'caroline',\n  'coralline',\n  'arecoline',\n  'olecranial',\n  'lecanorine',\n  'nonclerical',\n  'cornelia',\n  'arecolin',\n  'colinear',\n  'arenicola',\n  'nonreliance',\n  'olecranian',\n  'craniocele',\n  'collinear',\n  'arenicole',\n  'corallinaceae',\n  'creolian',\n  'lonicera',\n  'cornelian',\n  'noncollinear'],\n 'ehitw': ['white', 'withe', 'thwite', 'hewettite'],\n 'aglt': ['galt', 'tagala', 'tagal'],\n 'cinot': ['intinction',\n  'coction',\n  'tinction',\n  'concoction',\n  'nicotic',\n  'tonic',\n  'coition',\n  'cotoin',\n  'octonion',\n  'nicotinic'],\n 'aeilmnostv': ['neovitalism'],\n 'acdirst': ['distract', 'drastic', 'radiatics', 'carditis', 'diaristic'],\n 'efhilnsu': ['unselfishness', 'unselfish', 'unfleshliness'],\n 'eprt': ['erept', 'petter', 'terp', 'petre', 'peter', 'petr', 'pert'],\n 'acflnotu': ['flocculant', 'nonfactual'],\n 'admor': ['mormaordom', 'ramrod', 'armado', 'amorado'],\n 'abgino': ['gabion', 'bignonia', 'gobian', 'bagnio'],\n 'aceilmnprt': ['preclaimant',\n  'antiempirical',\n  'planimetric',\n  'pericemental',\n  'intermetacarpal',\n  'planimetrical'],\n 'adenoprstu': ['proterandrousness',\n  'untransported',\n  'untransposed',\n  'superponderant',\n  'proterandrous',\n  'pseudoneuroptera',\n  'pentandrous',\n  'unprostrated',\n  'pseudoneuropteran'],\n 'aemnorstv': ['overtameness',\n  'overstatement',\n  'transvenom',\n  'overassessment'],\n 'abcelnoprty': ['pentacarbonyl'],\n 'abeilnrt': ['antiliberal',\n  'inalterable',\n  'brilliantine',\n  'blennenteria',\n  'rattlebrain',\n  'entertainable',\n  'albertina',\n  'albertine',\n  'libertarian',\n  'trainable',\n  'albertinian',\n  'albertin',\n  'inirritable',\n  'intertribal',\n  'trebellian',\n  'retainable',\n  'bitterblain'],\n 'adiorst': ['tarsioid', 'astroid', 'sartoriad', 'iridotasis', 'stradiot'],\n 'adeimnv': ['vandiemenian'],\n 'bdeikn': ['beinked'],\n 'cdehinps': ['pinchedness'],\n 'bemorty': ['embryotome', 'bromometry', 'embryotomy'],\n 'acdelmoprstuy': ['superdeclamatory'],\n 'ait': ['ati', 'ait', 'ita', 'tait', 'tai'],\n 'cehimrst': ['micresthete',\n  'schriesheimite',\n  'hermeticism',\n  'erethismic',\n  'hetericism',\n  'hermetics',\n  'hemstitcher'],\n 'aeijnsu': ['jussiaean', 'jussieuan'],\n 'abeilno': ['baillonella',\n  'nonliable',\n  'bellonian',\n  'abelonian',\n  'nonbailable',\n  'alebion',\n  'baillone',\n  'bonellia'],\n 'abckloz': ['azoblack'],\n 'beimot': ['biotome'],\n 'abcdelmnu': ['manducable'],\n 'abcenr': ['abearance',\n  'canberra',\n  'carbene',\n  'carabeen',\n  'cerberean',\n  'aberrance',\n  'carbeen',\n  'bearance'],\n 'elprs': ['speller', 'pressel', 'peerless', 'respell', 'presell', 'sleeper'],\n 'dehilrs': ['disrelish', 'shielder'],\n 'dginst': ['tidings'],\n 'enrsux': ['xenurus'],\n 'celosy': ['cyclose', 'cloyless', 'closely'],\n 'achoprst': ['crosspatch', 'crosspath', 'shopocrat', 'archpastor'],\n 'acefinostu': ['facetiousness',\n  'confusticate',\n  'unfacetious',\n  'factiousness',\n  'nonfacetious'],\n 'deimnu': ['eumenid',\n  'deminude',\n  'unmined',\n  'unmummied',\n  'undimmed',\n  'unmuddied',\n  'unminded',\n  'minuend'],\n 'dkru': ['kurd'],\n 'aceghilmnpst': ['phlegmaticness', 'phlegmaticalness'],\n 'cipsu': ['cippus', 'picus'],\n 'adgir': ['giardia', 'argid', 'gadaria'],\n 'fgortw': ['frogwort'],\n 'emort': ['meteorometer',\n  'moter',\n  'moreote',\n  'reometer',\n  'moortetter',\n  'metrotome',\n  'tremor',\n  'meteor',\n  'oometer',\n  'tommer',\n  'tromometer',\n  'remote',\n  'eroteme',\n  'mooter',\n  'orometer',\n  'metrometer',\n  'termor'],\n 'acdimnort': ['monodramatic',\n  'mordication',\n  'monotocardia',\n  'carcinomatoid',\n  'nondramatic',\n  'monotocardian',\n  'monotocardiac',\n  'antidromic',\n  'macrodontia',\n  'antidicomarian',\n  'coadmiration'],\n 'adilnrtu': ['intradural',\n  'latitudinarian',\n  'tridiurnal',\n  'altitudinarian',\n  'diuturnal',\n  'tarantulid'],\n 'abgilnsty': ['stabbingly', 'singability', 'sibilatingly', 'assignability'],\n 'abcdeipstu': ['bicuspidate'],\n 'adeilr': ['lairdie',\n  'dialer',\n  'ariled',\n  'derail',\n  'laridae',\n  'ardelia',\n  'rallidae',\n  'radiale',\n  'diedral',\n  'lariidae',\n  'airedale',\n  'derailer',\n  'dallier'],\n 'adginprs': ['disparaging'],\n 'acgilmru': ['glaciarium', 'micrurgical'],\n 'acegnrsvy': ['scavengery'],\n 'aefiklry': ['fairylike', 'freakily'],\n 'beinrz': ['zebrine'],\n 'aceilmnoprv': ['omniprevalence'],\n 'degilno': ['doegling', 'legioned', 'glenoid'],\n 'aeinoprtv': ['protoveratrine',\n  'preinvitation',\n  'overpaint',\n  'overproportionate',\n  'evaporation',\n  'overpatient',\n  'inoperative',\n  'parvipotent',\n  'prevariation',\n  'pronative',\n  'nonevaporation',\n  'nonoperative'],\n 'deinptu': ['unpitied', 'untipped', 'ineptitude', 'unputtied', 'unpitted'],\n 'dekorw': ['worked', 'reworked', 'woodworker', 'reedwork'],\n 'adehiot': ['idotheidae', 'idothea', 'athetoid'],\n 'eilnors': ['orseilline',\n  'ironless',\n  'serolin',\n  'oleoresin',\n  'serioline',\n  'resinol'],\n 'einv': ['vein', 'vine', 'invein', 'venie', 'nieve', 'venin'],\n 'degilnost': ['odelsting', 'deontologist'],\n 'aceijlstuy': ['jesuitically'],\n 'ahiors': ['hoarish'],\n 'agilnu': ['unailing',\n  'lingual',\n  'gallinula',\n  'anguillula',\n  'lingua',\n  'unguinal',\n  'gaulin',\n  'gulinula',\n  'anguilla',\n  'unilingual',\n  'unlagging',\n  'ungalling',\n  'lingula',\n  'inguinal'],\n 'abelntu': ['untellable',\n  'attenuable',\n  'untenable',\n  'untunable',\n  'unlettable',\n  'untenantable',\n  'tunable',\n  'unbeatable',\n  'uneatable',\n  'unabatable',\n  'abluent',\n  'untuneable'],\n 'beilrsty': ['irresistibly',\n  'libertyless',\n  'resistibility',\n  'blistery',\n  'resistibly',\n  'irresistibility'],\n 'deilnors': ['nonsoldier',\n  'lordliness',\n  'disorderliness',\n  'soldierliness',\n  'orderliness'],\n 'cdeiklou': ['cloudlike', 'leukocidic'],\n 'cdelnost': ['collectedness', 'nonselected', 'clottedness'],\n 'acilmnorst': ['nonastronomical',\n  'triconsonantalism',\n  'astronomical',\n  'miscoloration',\n  'antiastronomical',\n  'rationalisticism',\n  'romanticalism',\n  'intracosmical'],\n 'cdefrsv': ['defervesce'],\n 'acdhilorv': ['clavichord'],\n 'acfilnoty': ['fictionally', 'nonfacility'],\n 'aemnt': ['manatee',\n  'teman',\n  'meant',\n  'emanate',\n  'teatman',\n  'teaman',\n  'teamman',\n  'entame',\n  'tentamen',\n  'manent',\n  'meatman',\n  'ament',\n  'tentmate',\n  'netman',\n  'emanant'],\n 'cdes': ['secede', 'decess'],\n 'aceost': ['seacoast',\n  'coestate',\n  'acetose',\n  'coseat',\n  'costaea',\n  'ecostate',\n  'costate',\n  'coattest'],\n 'aceilnortz': ['intercolonization',\n  'recentralization',\n  'cartelization',\n  'centralization',\n  'creolization',\n  'interzooecial',\n  'concentralization',\n  'recolonization',\n  'anticentralization',\n  'electrization'],\n 'deit': ['edit', 'dittied', 'dite', 'tided', 'diet', 'tied', 'idite', 'tide'],\n 'aciloprsty': ['piscatorially',\n  'pyroclastic',\n  'proctoparalysis',\n  'polyparasitic',\n  'papyroplastics',\n  'cryptoclastic',\n  'postparalytic',\n  'prioristically',\n  'cystoparalysis'],\n 'defilnuy': ['unifiedly', 'fiendfully', 'undefiledly', 'undefinedly'],\n 'cefly': ['fleecy'],\n 'cgino': ['coining',\n  'coign',\n  'incog',\n  'cogging',\n  'cooing',\n  'gonococcic',\n  'conning'],\n 'adefilnu': ['unfailed', 'unenfiladed', 'fundulinae'],\n 'acdlmnotu': ['malconduct'],\n 'abehilmnpst': ['analphabetism'],\n ...}"
     },
     "metadata": {},
     "execution_count": 34
    }
   ],
   "source": [
    "d"
   ]
  },
  {
   "cell_type": "code",
   "execution_count": null,
   "metadata": {},
   "outputs": [],
   "source": []
  }
 ]
}