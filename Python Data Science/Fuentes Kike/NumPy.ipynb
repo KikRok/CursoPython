{
 "metadata": {
  "language_info": {
   "codemirror_mode": {
    "name": "ipython",
    "version": 3
   },
   "file_extension": ".py",
   "mimetype": "text/x-python",
   "name": "python",
   "nbconvert_exporter": "python",
   "pygments_lexer": "ipython3",
   "version": "3.7.4-final"
  },
  "orig_nbformat": 2,
  "kernelspec": {
   "name": "python3",
   "display_name": "Python 3"
  }
 },
 "nbformat": 4,
 "nbformat_minor": 2,
 "cells": [
  {
   "cell_type": "code",
   "execution_count": 1,
   "metadata": {},
   "outputs": [],
   "source": [
    "import numpy as np"
   ]
  },
  {
   "cell_type": "code",
   "execution_count": 2,
   "metadata": {},
   "outputs": [
    {
     "output_type": "execute_result",
     "data": {
      "text/plain": "array([[8, 7, 8, 5],\n       [2, 6, 8, 1],\n       [8, 8, 9, 5]])"
     },
     "metadata": {},
     "execution_count": 2
    }
   ],
   "source": [
    "#Crear un array\n",
    "valoraciones = np.array([[8,7,8,5],[2,6,8,1],[8,8,9,5]])\n",
    "valoraciones"
   ]
  },
  {
   "cell_type": "code",
   "execution_count": 3,
   "metadata": {},
   "outputs": [
    {
     "output_type": "execute_result",
     "data": {
      "text/plain": "7"
     },
     "metadata": {},
     "execution_count": 3
    }
   ],
   "source": [
    "valoraciones[0][1] #acceso a la información. EN esta caso, primera dimension son filas, segunda dimensión, son columnas. Si el objeto tuviera mas de dos dimensiones, se añadirian mas []"
   ]
  },
  {
   "cell_type": "code",
   "execution_count": 4,
   "metadata": {},
   "outputs": [
    {
     "output_type": "execute_result",
     "data": {
      "text/plain": "7"
     },
     "metadata": {},
     "execution_count": 4
    }
   ],
   "source": [
    "valoraciones [0,1] #Otra forma de acceder a la misma información. Si el objeto tuviera mas de dos dimensiones, se añadirian mas valores entre los [,]"
   ]
  },
  {
   "cell_type": "code",
   "execution_count": 5,
   "metadata": {},
   "outputs": [],
   "source": [
    "valoraciones2 = np.array([[[8,7,8,5],[2,6,8,1]],[[8,8,9,5],[8,7,6,5]],[[10,9,5,3],[5,7,2,5]]]) #creamos array de 3 dimensiones"
   ]
  },
  {
   "cell_type": "code",
   "execution_count": 6,
   "metadata": {},
   "outputs": [
    {
     "output_type": "execute_result",
     "data": {
      "text/plain": "array([[[ 8,  7,  8,  5],\n        [ 2,  6,  8,  1]],\n\n       [[ 8,  8,  9,  5],\n        [ 8,  7,  6,  5]],\n\n       [[10,  9,  5,  3],\n        [ 5,  7,  2,  5]]])"
     },
     "metadata": {},
     "execution_count": 6
    }
   ],
   "source": [
    "valoraciones2 #Por ejemplo, 3 clietes, que valoran 4 productos en AA y el AC"
   ]
  },
  {
   "cell_type": "code",
   "execution_count": 7,
   "metadata": {},
   "outputs": [
    {
     "output_type": "execute_result",
     "data": {
      "text/plain": "8"
     },
     "metadata": {},
     "execution_count": 7
    }
   ],
   "source": [
    "valoraciones2[0,1,2] #Cliente 1 (el 0 es la pimera occurrencia). Datos de AC, Valoración del producto 3"
   ]
  },
  {
   "cell_type": "code",
   "execution_count": 8,
   "metadata": {},
   "outputs": [
    {
     "output_type": "execute_result",
     "data": {
      "text/plain": "array([[[0., 0., 0., 0.],\n        [0., 0., 0., 0.]],\n\n       [[0., 0., 0., 0.],\n        [0., 0., 0., 0.]],\n\n       [[0., 0., 0., 0.],\n        [0., 0., 0., 0.]]])"
     },
     "metadata": {},
     "execution_count": 8
    }
   ],
   "source": [
    "np.zeros((3,2,4)) #Crear array con valores 0"
   ]
  },
  {
   "cell_type": "code",
   "execution_count": 9,
   "metadata": {},
   "outputs": [
    {
     "output_type": "execute_result",
     "data": {
      "text/plain": "array([[[ 9.,  8.,  9.,  6.],\n        [ 3.,  7.,  9.,  2.]],\n\n       [[ 9.,  9., 10.,  6.],\n        [ 9.,  8.,  7.,  6.]],\n\n       [[11., 10.,  6.,  4.],\n        [ 6.,  8.,  3.,  6.]]])"
     },
     "metadata": {},
     "execution_count": 9
    }
   ],
   "source": [
    "valoraciones2 + np.ones((3,2,4)) #Creamos un array de valores 1, con las mismas dimensiones que valoraciones 2, y realizamos una operación entre los 2 objetos, en este caso, una suma"
   ]
  },
  {
   "cell_type": "code",
   "execution_count": 10,
   "metadata": {},
   "outputs": [
    {
     "output_type": "execute_result",
     "data": {
      "text/plain": "6.125"
     },
     "metadata": {},
     "execution_count": 10
    }
   ],
   "source": [
    "np.mean(valoraciones2) #media de todos los valores del array"
   ]
  },
  {
   "cell_type": "code",
   "execution_count": 11,
   "metadata": {},
   "outputs": [
    {
     "output_type": "execute_result",
     "data": {
      "text/plain": "array([[8.66666667, 8.        , 7.33333333, 4.33333333],\n       [5.        , 6.66666667, 5.33333333, 3.66666667]])"
     },
     "metadata": {},
     "execution_count": 11
    }
   ],
   "source": [
    "np.mean(valoraciones2,axis = 0) #axis = 0, indica que queremos las medias por la primera dimensión"
   ]
  },
  {
   "cell_type": "code",
   "execution_count": 12,
   "metadata": {},
   "outputs": [
    {
     "output_type": "execute_result",
     "data": {
      "text/plain": "array([[5. , 6.5, 8. , 3. ],\n       [8. , 7.5, 7.5, 5. ],\n       [7.5, 8. , 3.5, 4. ]])"
     },
     "metadata": {},
     "execution_count": 12
    }
   ],
   "source": [
    "np.mean(valoraciones2,axis = 1)"
   ]
  },
  {
   "cell_type": "code",
   "execution_count": 14,
   "metadata": {},
   "outputs": [
    {
     "output_type": "execute_result",
     "data": {
      "text/plain": "array([[[ 1,  2],\n        [ 3,  4]],\n\n       [[ 5,  6],\n        [ 7,  8]],\n\n       [[ 9, 10],\n        [11, 12]]])"
     },
     "metadata": {},
     "execution_count": 14
    }
   ],
   "source": [
    "np.reshape([1,2,3,4,5,6,7,8,9,10,11,12],(3,2,2)) #reshape es una función que pasa una lista a un array con las dimensiones que le indiquemos"
   ]
  }
 ]
}