{
 "metadata": {
  "language_info": {
   "codemirror_mode": {
    "name": "ipython",
    "version": 3
   },
   "file_extension": ".py",
   "mimetype": "text/x-python",
   "name": "python",
   "nbconvert_exporter": "python",
   "pygments_lexer": "ipython3",
   "version": "3.7.4-final"
  },
  "orig_nbformat": 2,
  "kernelspec": {
   "name": "python3",
   "display_name": "Python 3"
  }
 },
 "nbformat": 4,
 "nbformat_minor": 2,
 "cells": [
  {
   "cell_type": "code",
   "execution_count": 1,
   "metadata": {},
   "outputs": [],
   "source": [
    "import pandas as pd\n",
    "\n",
    "df = pd.read_csv(\"C:\\\\Users\\\\e006697\\\\Documents\\\\Python_2\\\\CursoPython\\\\Python Data Science\\\\Fuentes Kike\\\\Base de datos\\\\base_datos_2008.csv\")"
   ]
  },
  {
   "cell_type": "code",
   "execution_count": 2,
   "metadata": {},
   "outputs": [
    {
     "output_type": "execute_result",
     "data": {
      "text/plain": "Index(['Year', 'Month', 'DayofMonth', 'DayOfWeek', 'DepTime', 'CRSDepTime',\n       'ArrTime', 'CRSArrTime', 'UniqueCarrier', 'FlightNum', 'TailNum',\n       'ActualElapsedTime', 'CRSElapsedTime', 'AirTime', 'ArrDelay',\n       'DepDelay', 'Origin', 'Dest', 'Distance', 'TaxiIn', 'TaxiOut',\n       'Cancelled', 'CancellationCode', 'Diverted', 'CarrierDelay',\n       'WeatherDelay', 'NASDelay', 'SecurityDelay', 'LateAircraftDelay'],\n      dtype='object')"
     },
     "metadata": {},
     "execution_count": 2
    }
   ],
   "source": [
    "df.columns"
   ]
  },
  {
   "cell_type": "code",
   "execution_count": 3,
   "metadata": {},
   "outputs": [],
   "source": [
    "df[\"NewColumn\"] = round(df[\"ArrDelay\"] / 60) #Crear una nueva columna en base al valor de otra columna"
   ]
  },
  {
   "cell_type": "code",
   "execution_count": 4,
   "metadata": {},
   "outputs": [
    {
     "output_type": "execute_result",
     "data": {
      "text/plain": "Index(['Year', 'Month', 'DayofMonth', 'DayOfWeek', 'DepTime', 'CRSDepTime',\n       'ArrTime', 'CRSArrTime', 'UniqueCarrier', 'FlightNum', 'TailNum',\n       'ActualElapsedTime', 'CRSElapsedTime', 'AirTime', 'ArrDelay',\n       'DepDelay', 'Origin', 'Dest', 'Distance', 'TaxiIn', 'TaxiOut',\n       'Cancelled', 'CancellationCode', 'Diverted', 'CarrierDelay',\n       'WeatherDelay', 'NASDelay', 'SecurityDelay', 'LateAircraftDelay',\n       'NewColumn'],\n      dtype='object')"
     },
     "metadata": {},
     "execution_count": 4
    }
   ],
   "source": [
    "df.columns"
   ]
  },
  {
   "cell_type": "code",
   "execution_count": 5,
   "metadata": {},
   "outputs": [
    {
     "output_type": "execute_result",
     "data": {
      "text/plain": "0   -0.0\n1    0.0\n2    0.0\n3   -0.0\n4    1.0\nName: NewColumn, dtype: float64"
     },
     "metadata": {},
     "execution_count": 5
    }
   ],
   "source": [
    "df[\"NewColumn\"].head() "
   ]
  },
  {
   "cell_type": "code",
   "execution_count": 6,
   "metadata": {},
   "outputs": [],
   "source": [
    "del(df[\"NewColumn\"]) #Eliminar una columna"
   ]
  },
  {
   "cell_type": "code",
   "execution_count": 8,
   "metadata": {},
   "outputs": [],
   "source": [
    "df = df.drop([\"Diverted\",\"Cancelled\"], axis=1) #Eliminar mas de una columna a la vez. Hay que refenciar al propio df. Si hacemos df.drop([\"Diverted\",\"Cancelled\"], axis=1, inplace = True) lo hace en la propia función y no hay que igualar a df"
   ]
  },
  {
   "cell_type": "code",
   "execution_count": null,
   "metadata": {},
   "outputs": [],
   "source": [
    "df.drop(5) #borra la fila 5"
   ]
  }
 ]
}