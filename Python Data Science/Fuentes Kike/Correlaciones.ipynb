{
 "metadata": {
  "language_info": {
   "codemirror_mode": {
    "name": "ipython",
    "version": 3
   },
   "file_extension": ".py",
   "mimetype": "text/x-python",
   "name": "python",
   "nbconvert_exporter": "python",
   "pygments_lexer": "ipython3",
   "version": "3.7.4-final"
  },
  "orig_nbformat": 2,
  "kernelspec": {
   "name": "python3",
   "display_name": "Python 3"
  }
 },
 "nbformat": 4,
 "nbformat_minor": 2,
 "cells": [
  {
   "cell_type": "code",
   "execution_count": 2,
   "metadata": {},
   "outputs": [],
   "source": [
    "import pandas as pd\n",
    "import numpy as np\n",
    "\n",
    "df = pd.read_csv(\"C:\\\\Users\\\\e006697\\\\Documents\\\\Python_2\\\\CursoPython\\\\Python Data Science\\\\Fuentes Kike\\\\Base de datos\\\\base_datos_2008.csv\",nrows=100000)"
   ]
  },
  {
   "cell_type": "code",
   "execution_count": 3,
   "metadata": {},
   "outputs": [
    {
     "output_type": "execute_result",
     "data": {
      "text/plain": "array([[nan, nan],\n       [nan, nan]])"
     },
     "metadata": {},
     "execution_count": 3
    }
   ],
   "source": [
    "np.corrcoef(df[\"ArrDelay\"],df[\"DepDelay\"]) #Funcion de NumPy que da el cociente de correlación. No admiete valores faltantes NaN."
   ]
  },
  {
   "cell_type": "code",
   "execution_count": 4,
   "metadata": {},
   "outputs": [],
   "source": [
    "df.dropna(inplace=True, subset=[\"ArrDelay\",\"DepDelay\"]) #Eliminamos los registros con valores NaN en las 2 columnas que queremos analizar. Lo hacemos en el mismo data frame, con el inplace=True"
   ]
  },
  {
   "cell_type": "code",
   "execution_count": 5,
   "metadata": {},
   "outputs": [
    {
     "output_type": "execute_result",
     "data": {
      "text/plain": "array([[1.       , 0.9422735],\n       [0.9422735, 1.       ]])"
     },
     "metadata": {},
     "execution_count": 5
    }
   ],
   "source": [
    "np.corrcoef(df[\"ArrDelay\"],df[\"DepDelay\"]) #Funcion de NumPy que da el cociente de correlación. \n",
    "#Todo lo que supera 0.7 se considera muy correlacionado. En este caso, es 0.94, por lo que parecen estar muy correlacionadas"
   ]
  },
  {
   "cell_type": "code",
   "execution_count": 7,
   "metadata": {},
   "outputs": [
    {
     "output_type": "execute_result",
     "data": {
      "text/plain": "array([[1.        , 0.9422735 , 0.23241529],\n       [0.9422735 , 1.        , 0.25725889],\n       [0.23241529, 0.25725889, 1.        ]])"
     },
     "metadata": {},
     "execution_count": 7
    }
   ],
   "source": [
    "np.corrcoef([df[\"ArrDelay\"],df[\"DepDelay\"],df[\"DepTime\"]]) #Se puede hacer el estidio con mas columnas"
   ]
  },
  {
   "cell_type": "code",
   "execution_count": null,
   "metadata": {},
   "outputs": [],
   "source": []
  }
 ]
}