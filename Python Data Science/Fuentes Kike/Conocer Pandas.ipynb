{
 "cells": [
  {
   "cell_type": "code",
   "execution_count": 1,
   "metadata": {},
   "outputs": [],
   "source": [
    "import pandas as pd #Normalmente se usa pd para hacer referencia a Pandas"
   ]
  },
  {
   "cell_type": "code",
   "execution_count": 3,
   "metadata": {},
   "outputs": [],
   "source": [
    "# Al crear una base de datos, normalmente se nombra como df -> DataFrame\n",
    "df = pd.read_csv(\"C:\\\\Users\\\\e006697\\\\Documents\\\\Python_2\\\\CursoPython\\\\Python Data Science\\\\Fuentes Kike\\\\Base de datos\\\\base_datos_2008.csv\", nrows=100)\n",
    "#En estas funciones la \\ de las ruas debe ir por duplicado\n",
    "#nrows=10 solo nos trae las 10 primeras filas"
   ]
  },
  {
   "cell_type": "code",
   "execution_count": 4,
   "metadata": {},
   "outputs": [
    {
     "output_type": "execute_result",
     "data": {
      "text/plain": "   Year  Month  DayofMonth  DayOfWeek  DepTime  CRSDepTime  ArrTime  \\\n0  2008      1           3          4     2003        1955     2211   \n1  2008      1           3          4      754         735     1002   \n2  2008      1           3          4      628         620      804   \n3  2008      1           3          4      926         930     1054   \n4  2008      1           3          4     1829        1755     1959   \n\n   CRSArrTime UniqueCarrier  FlightNum  ... TaxiIn  TaxiOut  Cancelled  \\\n0        2225            WN        335  ...      4        8          0   \n1        1000            WN       3231  ...      5       10          0   \n2         750            WN        448  ...      3       17          0   \n3        1100            WN       1746  ...      3        7          0   \n4        1925            WN       3920  ...      3       10          0   \n\n   CancellationCode  Diverted  CarrierDelay WeatherDelay NASDelay  \\\n0               NaN         0           NaN          NaN      NaN   \n1               NaN         0           NaN          NaN      NaN   \n2               NaN         0           NaN          NaN      NaN   \n3               NaN         0           NaN          NaN      NaN   \n4               NaN         0           2.0          0.0      0.0   \n\n   SecurityDelay  LateAircraftDelay  \n0            NaN                NaN  \n1            NaN                NaN  \n2            NaN                NaN  \n3            NaN                NaN  \n4            0.0               32.0  \n\n[5 rows x 29 columns]",
      "text/html": "<div>\n<style scoped>\n    .dataframe tbody tr th:only-of-type {\n        vertical-align: middle;\n    }\n\n    .dataframe tbody tr th {\n        vertical-align: top;\n    }\n\n    .dataframe thead th {\n        text-align: right;\n    }\n</style>\n<table border=\"1\" class=\"dataframe\">\n  <thead>\n    <tr style=\"text-align: right;\">\n      <th></th>\n      <th>Year</th>\n      <th>Month</th>\n      <th>DayofMonth</th>\n      <th>DayOfWeek</th>\n      <th>DepTime</th>\n      <th>CRSDepTime</th>\n      <th>ArrTime</th>\n      <th>CRSArrTime</th>\n      <th>UniqueCarrier</th>\n      <th>FlightNum</th>\n      <th>...</th>\n      <th>TaxiIn</th>\n      <th>TaxiOut</th>\n      <th>Cancelled</th>\n      <th>CancellationCode</th>\n      <th>Diverted</th>\n      <th>CarrierDelay</th>\n      <th>WeatherDelay</th>\n      <th>NASDelay</th>\n      <th>SecurityDelay</th>\n      <th>LateAircraftDelay</th>\n    </tr>\n  </thead>\n  <tbody>\n    <tr>\n      <td>0</td>\n      <td>2008</td>\n      <td>1</td>\n      <td>3</td>\n      <td>4</td>\n      <td>2003</td>\n      <td>1955</td>\n      <td>2211</td>\n      <td>2225</td>\n      <td>WN</td>\n      <td>335</td>\n      <td>...</td>\n      <td>4</td>\n      <td>8</td>\n      <td>0</td>\n      <td>NaN</td>\n      <td>0</td>\n      <td>NaN</td>\n      <td>NaN</td>\n      <td>NaN</td>\n      <td>NaN</td>\n      <td>NaN</td>\n    </tr>\n    <tr>\n      <td>1</td>\n      <td>2008</td>\n      <td>1</td>\n      <td>3</td>\n      <td>4</td>\n      <td>754</td>\n      <td>735</td>\n      <td>1002</td>\n      <td>1000</td>\n      <td>WN</td>\n      <td>3231</td>\n      <td>...</td>\n      <td>5</td>\n      <td>10</td>\n      <td>0</td>\n      <td>NaN</td>\n      <td>0</td>\n      <td>NaN</td>\n      <td>NaN</td>\n      <td>NaN</td>\n      <td>NaN</td>\n      <td>NaN</td>\n    </tr>\n    <tr>\n      <td>2</td>\n      <td>2008</td>\n      <td>1</td>\n      <td>3</td>\n      <td>4</td>\n      <td>628</td>\n      <td>620</td>\n      <td>804</td>\n      <td>750</td>\n      <td>WN</td>\n      <td>448</td>\n      <td>...</td>\n      <td>3</td>\n      <td>17</td>\n      <td>0</td>\n      <td>NaN</td>\n      <td>0</td>\n      <td>NaN</td>\n      <td>NaN</td>\n      <td>NaN</td>\n      <td>NaN</td>\n      <td>NaN</td>\n    </tr>\n    <tr>\n      <td>3</td>\n      <td>2008</td>\n      <td>1</td>\n      <td>3</td>\n      <td>4</td>\n      <td>926</td>\n      <td>930</td>\n      <td>1054</td>\n      <td>1100</td>\n      <td>WN</td>\n      <td>1746</td>\n      <td>...</td>\n      <td>3</td>\n      <td>7</td>\n      <td>0</td>\n      <td>NaN</td>\n      <td>0</td>\n      <td>NaN</td>\n      <td>NaN</td>\n      <td>NaN</td>\n      <td>NaN</td>\n      <td>NaN</td>\n    </tr>\n    <tr>\n      <td>4</td>\n      <td>2008</td>\n      <td>1</td>\n      <td>3</td>\n      <td>4</td>\n      <td>1829</td>\n      <td>1755</td>\n      <td>1959</td>\n      <td>1925</td>\n      <td>WN</td>\n      <td>3920</td>\n      <td>...</td>\n      <td>3</td>\n      <td>10</td>\n      <td>0</td>\n      <td>NaN</td>\n      <td>0</td>\n      <td>2.0</td>\n      <td>0.0</td>\n      <td>0.0</td>\n      <td>0.0</td>\n      <td>32.0</td>\n    </tr>\n  </tbody>\n</table>\n<p>5 rows × 29 columns</p>\n</div>"
     },
     "metadata": {},
     "execution_count": 4
    }
   ],
   "source": [
    "df.head() # La función head de pandas, nos permite explorar las 5 primeras filas de nuestro data frame"
   ]
  },
  {
   "cell_type": "code",
   "execution_count": 5,
   "metadata": {},
   "outputs": [
    {
     "output_type": "execute_result",
     "data": {
      "text/plain": "   Year  Month  DayofMonth  DayOfWeek  DepTime  CRSDepTime  ArrTime  \\\n0  2008      1           3          4     2003        1955     2211   \n1  2008      1           3          4      754         735     1002   \n2  2008      1           3          4      628         620      804   \n\n   CRSArrTime UniqueCarrier  FlightNum  ... TaxiIn  TaxiOut  Cancelled  \\\n0        2225            WN        335  ...      4        8          0   \n1        1000            WN       3231  ...      5       10          0   \n2         750            WN        448  ...      3       17          0   \n\n   CancellationCode  Diverted  CarrierDelay WeatherDelay NASDelay  \\\n0               NaN         0           NaN          NaN      NaN   \n1               NaN         0           NaN          NaN      NaN   \n2               NaN         0           NaN          NaN      NaN   \n\n   SecurityDelay  LateAircraftDelay  \n0            NaN                NaN  \n1            NaN                NaN  \n2            NaN                NaN  \n\n[3 rows x 29 columns]",
      "text/html": "<div>\n<style scoped>\n    .dataframe tbody tr th:only-of-type {\n        vertical-align: middle;\n    }\n\n    .dataframe tbody tr th {\n        vertical-align: top;\n    }\n\n    .dataframe thead th {\n        text-align: right;\n    }\n</style>\n<table border=\"1\" class=\"dataframe\">\n  <thead>\n    <tr style=\"text-align: right;\">\n      <th></th>\n      <th>Year</th>\n      <th>Month</th>\n      <th>DayofMonth</th>\n      <th>DayOfWeek</th>\n      <th>DepTime</th>\n      <th>CRSDepTime</th>\n      <th>ArrTime</th>\n      <th>CRSArrTime</th>\n      <th>UniqueCarrier</th>\n      <th>FlightNum</th>\n      <th>...</th>\n      <th>TaxiIn</th>\n      <th>TaxiOut</th>\n      <th>Cancelled</th>\n      <th>CancellationCode</th>\n      <th>Diverted</th>\n      <th>CarrierDelay</th>\n      <th>WeatherDelay</th>\n      <th>NASDelay</th>\n      <th>SecurityDelay</th>\n      <th>LateAircraftDelay</th>\n    </tr>\n  </thead>\n  <tbody>\n    <tr>\n      <td>0</td>\n      <td>2008</td>\n      <td>1</td>\n      <td>3</td>\n      <td>4</td>\n      <td>2003</td>\n      <td>1955</td>\n      <td>2211</td>\n      <td>2225</td>\n      <td>WN</td>\n      <td>335</td>\n      <td>...</td>\n      <td>4</td>\n      <td>8</td>\n      <td>0</td>\n      <td>NaN</td>\n      <td>0</td>\n      <td>NaN</td>\n      <td>NaN</td>\n      <td>NaN</td>\n      <td>NaN</td>\n      <td>NaN</td>\n    </tr>\n    <tr>\n      <td>1</td>\n      <td>2008</td>\n      <td>1</td>\n      <td>3</td>\n      <td>4</td>\n      <td>754</td>\n      <td>735</td>\n      <td>1002</td>\n      <td>1000</td>\n      <td>WN</td>\n      <td>3231</td>\n      <td>...</td>\n      <td>5</td>\n      <td>10</td>\n      <td>0</td>\n      <td>NaN</td>\n      <td>0</td>\n      <td>NaN</td>\n      <td>NaN</td>\n      <td>NaN</td>\n      <td>NaN</td>\n      <td>NaN</td>\n    </tr>\n    <tr>\n      <td>2</td>\n      <td>2008</td>\n      <td>1</td>\n      <td>3</td>\n      <td>4</td>\n      <td>628</td>\n      <td>620</td>\n      <td>804</td>\n      <td>750</td>\n      <td>WN</td>\n      <td>448</td>\n      <td>...</td>\n      <td>3</td>\n      <td>17</td>\n      <td>0</td>\n      <td>NaN</td>\n      <td>0</td>\n      <td>NaN</td>\n      <td>NaN</td>\n      <td>NaN</td>\n      <td>NaN</td>\n      <td>NaN</td>\n    </tr>\n  </tbody>\n</table>\n<p>3 rows × 29 columns</p>\n</div>"
     },
     "metadata": {},
     "execution_count": 5
    }
   ],
   "source": [
    "df.head(3) #Podemos indicar cuantas queremos ver\n",
    "#Ojo, las filas empiezan siempre por el 0\n",
    "#Como se ve, asigna en una primera columan una clave, en este caso del 1 al 999999"
   ]
  },
  {
   "cell_type": "code",
   "execution_count": 21,
   "metadata": {
    "tags": []
   },
   "outputs": [
    {
     "output_type": "stream",
     "name": "stdout",
     "text": "Wall time: 993 µs\n"
    },
    {
     "output_type": "execute_result",
     "data": {
      "text/plain": "    Year  Month  DayofMonth  DayOfWeek  DepTime  CRSDepTime  ArrTime  \\\n95  2008      1           3          4     1506        1440     2030   \n96  2008      1           3          4     2039        1930      155   \n97  2008      1           3          4      924         920     1209   \n98  2008      1           3          4     1611        1535     1849   \n99  2008      1           3          4     1824        1715      117   \n\n    CRSArrTime UniqueCarrier  FlightNum  ... TaxiIn  TaxiOut  Cancelled  \\\n95        2010            WN       2032  ...      6       15          0   \n96          55            WN       3940  ...      5       14          0   \n97        1210            WN         71  ...      3       18          0   \n98        1825            WN        538  ...      3       22          0   \n99          25            WN       2383  ...      2       10          0   \n\n    CancellationCode  Diverted  CarrierDelay WeatherDelay NASDelay  \\\n95               NaN         0          18.0          0.0      0.0   \n96               NaN         0           0.0          0.0     22.0   \n97               NaN         0           NaN          NaN      NaN   \n98               NaN         0           9.0          0.0      0.0   \n99               NaN         0          48.0          0.0      0.0   \n\n    SecurityDelay  LateAircraftDelay  \n95            0.0                2.0  \n96            0.0               38.0  \n97            NaN                NaN  \n98            0.0               15.0  \n99            0.0                4.0  \n\n[5 rows x 29 columns]",
      "text/html": "<div>\n<style scoped>\n    .dataframe tbody tr th:only-of-type {\n        vertical-align: middle;\n    }\n\n    .dataframe tbody tr th {\n        vertical-align: top;\n    }\n\n    .dataframe thead th {\n        text-align: right;\n    }\n</style>\n<table border=\"1\" class=\"dataframe\">\n  <thead>\n    <tr style=\"text-align: right;\">\n      <th></th>\n      <th>Year</th>\n      <th>Month</th>\n      <th>DayofMonth</th>\n      <th>DayOfWeek</th>\n      <th>DepTime</th>\n      <th>CRSDepTime</th>\n      <th>ArrTime</th>\n      <th>CRSArrTime</th>\n      <th>UniqueCarrier</th>\n      <th>FlightNum</th>\n      <th>...</th>\n      <th>TaxiIn</th>\n      <th>TaxiOut</th>\n      <th>Cancelled</th>\n      <th>CancellationCode</th>\n      <th>Diverted</th>\n      <th>CarrierDelay</th>\n      <th>WeatherDelay</th>\n      <th>NASDelay</th>\n      <th>SecurityDelay</th>\n      <th>LateAircraftDelay</th>\n    </tr>\n  </thead>\n  <tbody>\n    <tr>\n      <td>95</td>\n      <td>2008</td>\n      <td>1</td>\n      <td>3</td>\n      <td>4</td>\n      <td>1506</td>\n      <td>1440</td>\n      <td>2030</td>\n      <td>2010</td>\n      <td>WN</td>\n      <td>2032</td>\n      <td>...</td>\n      <td>6</td>\n      <td>15</td>\n      <td>0</td>\n      <td>NaN</td>\n      <td>0</td>\n      <td>18.0</td>\n      <td>0.0</td>\n      <td>0.0</td>\n      <td>0.0</td>\n      <td>2.0</td>\n    </tr>\n    <tr>\n      <td>96</td>\n      <td>2008</td>\n      <td>1</td>\n      <td>3</td>\n      <td>4</td>\n      <td>2039</td>\n      <td>1930</td>\n      <td>155</td>\n      <td>55</td>\n      <td>WN</td>\n      <td>3940</td>\n      <td>...</td>\n      <td>5</td>\n      <td>14</td>\n      <td>0</td>\n      <td>NaN</td>\n      <td>0</td>\n      <td>0.0</td>\n      <td>0.0</td>\n      <td>22.0</td>\n      <td>0.0</td>\n      <td>38.0</td>\n    </tr>\n    <tr>\n      <td>97</td>\n      <td>2008</td>\n      <td>1</td>\n      <td>3</td>\n      <td>4</td>\n      <td>924</td>\n      <td>920</td>\n      <td>1209</td>\n      <td>1210</td>\n      <td>WN</td>\n      <td>71</td>\n      <td>...</td>\n      <td>3</td>\n      <td>18</td>\n      <td>0</td>\n      <td>NaN</td>\n      <td>0</td>\n      <td>NaN</td>\n      <td>NaN</td>\n      <td>NaN</td>\n      <td>NaN</td>\n      <td>NaN</td>\n    </tr>\n    <tr>\n      <td>98</td>\n      <td>2008</td>\n      <td>1</td>\n      <td>3</td>\n      <td>4</td>\n      <td>1611</td>\n      <td>1535</td>\n      <td>1849</td>\n      <td>1825</td>\n      <td>WN</td>\n      <td>538</td>\n      <td>...</td>\n      <td>3</td>\n      <td>22</td>\n      <td>0</td>\n      <td>NaN</td>\n      <td>0</td>\n      <td>9.0</td>\n      <td>0.0</td>\n      <td>0.0</td>\n      <td>0.0</td>\n      <td>15.0</td>\n    </tr>\n    <tr>\n      <td>99</td>\n      <td>2008</td>\n      <td>1</td>\n      <td>3</td>\n      <td>4</td>\n      <td>1824</td>\n      <td>1715</td>\n      <td>117</td>\n      <td>25</td>\n      <td>WN</td>\n      <td>2383</td>\n      <td>...</td>\n      <td>2</td>\n      <td>10</td>\n      <td>0</td>\n      <td>NaN</td>\n      <td>0</td>\n      <td>48.0</td>\n      <td>0.0</td>\n      <td>0.0</td>\n      <td>0.0</td>\n      <td>4.0</td>\n    </tr>\n  </tbody>\n</table>\n<p>5 rows × 29 columns</p>\n</div>"
     },
     "metadata": {},
     "execution_count": 21
    }
   ],
   "source": [
    "%time df.tail() #Lo mismo que head, pero mostrando el fin del data frame"
   ]
  },
  {
   "cell_type": "code",
   "execution_count": 6,
   "metadata": {},
   "outputs": [],
   "source": [
    "#des ordena el df\n",
    "df2 = df.sample(frac = 1) #se puede hacer dentro del propio df usando df en vez de df2\n",
    "#frac = 1 -> Maneter todas las filas\n",
    "\n",
    "# Ver https://pandas.pydata.org/pandas-docs/stable/reference/api/pandas.DataFrame.sample.html"
   ]
  },
  {
   "cell_type": "code",
   "execution_count": 24,
   "metadata": {},
   "outputs": [
    {
     "output_type": "execute_result",
     "data": {
      "text/plain": "    Year  Month  DayofMonth  DayOfWeek  DepTime  CRSDepTime  ArrTime  \\\n1   2008      1           3          4      754         735     1002   \n8   2008      1           3          4      617         615      652   \n65  2008      1           3          4     1500        1500     1602   \n36  2008      1           3          4      831         830      935   \n9   2008      1           3          4     1620        1620     1639   \n..   ...    ...         ...        ...      ...         ...      ...   \n14  2008      1           3          4     1702        1700     1651   \n75  2008      1           3          4      712         700      926   \n44  2008      1           3          4     1153        1140     1428   \n71  2008      1           3          4      802         750     1001   \n86  2008      1           3          4     1832        1655      148   \n\n    CRSArrTime UniqueCarrier  FlightNum  ... TaxiIn  TaxiOut  Cancelled  \\\n1         1000            WN       3231  ...      5       10          0   \n8          650            WN         11  ...      6       19          0   \n65        1615            WN        640  ...      5        8          0   \n36         955            WN        300  ...      5        7          0   \n9         1655            WN        810  ...      3        6          0   \n..         ...           ...        ...  ...    ...      ...        ...   \n14        1655            WN       1827  ...      4       10          0   \n75         915            WN       1232  ...      5        9          0   \n44        1440            WN       2006  ...      4        8          0   \n71         955            WN       2272  ...      7        8          0   \n86          30            WN        302  ...      3       10          0   \n\n    CancellationCode  Diverted  CarrierDelay WeatherDelay NASDelay  \\\n1                NaN         0           NaN          NaN      NaN   \n8                NaN         0           NaN          NaN      NaN   \n65               NaN         0           NaN          NaN      NaN   \n36               NaN         0           NaN          NaN      NaN   \n9                NaN         0           NaN          NaN      NaN   \n..               ...       ...           ...          ...      ...   \n14               NaN         0           NaN          NaN      NaN   \n75               NaN         0           NaN          NaN      NaN   \n44               NaN         0           NaN          NaN      NaN   \n71               NaN         0           NaN          NaN      NaN   \n86               NaN         0           8.0          0.0      0.0   \n\n    SecurityDelay  LateAircraftDelay  \n1             NaN                NaN  \n8             NaN                NaN  \n65            NaN                NaN  \n36            NaN                NaN  \n9             NaN                NaN  \n..            ...                ...  \n14            NaN                NaN  \n75            NaN                NaN  \n44            NaN                NaN  \n71            NaN                NaN  \n86            0.0               70.0  \n\n[100 rows x 29 columns]",
      "text/html": "<div>\n<style scoped>\n    .dataframe tbody tr th:only-of-type {\n        vertical-align: middle;\n    }\n\n    .dataframe tbody tr th {\n        vertical-align: top;\n    }\n\n    .dataframe thead th {\n        text-align: right;\n    }\n</style>\n<table border=\"1\" class=\"dataframe\">\n  <thead>\n    <tr style=\"text-align: right;\">\n      <th></th>\n      <th>Year</th>\n      <th>Month</th>\n      <th>DayofMonth</th>\n      <th>DayOfWeek</th>\n      <th>DepTime</th>\n      <th>CRSDepTime</th>\n      <th>ArrTime</th>\n      <th>CRSArrTime</th>\n      <th>UniqueCarrier</th>\n      <th>FlightNum</th>\n      <th>...</th>\n      <th>TaxiIn</th>\n      <th>TaxiOut</th>\n      <th>Cancelled</th>\n      <th>CancellationCode</th>\n      <th>Diverted</th>\n      <th>CarrierDelay</th>\n      <th>WeatherDelay</th>\n      <th>NASDelay</th>\n      <th>SecurityDelay</th>\n      <th>LateAircraftDelay</th>\n    </tr>\n  </thead>\n  <tbody>\n    <tr>\n      <td>1</td>\n      <td>2008</td>\n      <td>1</td>\n      <td>3</td>\n      <td>4</td>\n      <td>754</td>\n      <td>735</td>\n      <td>1002</td>\n      <td>1000</td>\n      <td>WN</td>\n      <td>3231</td>\n      <td>...</td>\n      <td>5</td>\n      <td>10</td>\n      <td>0</td>\n      <td>NaN</td>\n      <td>0</td>\n      <td>NaN</td>\n      <td>NaN</td>\n      <td>NaN</td>\n      <td>NaN</td>\n      <td>NaN</td>\n    </tr>\n    <tr>\n      <td>8</td>\n      <td>2008</td>\n      <td>1</td>\n      <td>3</td>\n      <td>4</td>\n      <td>617</td>\n      <td>615</td>\n      <td>652</td>\n      <td>650</td>\n      <td>WN</td>\n      <td>11</td>\n      <td>...</td>\n      <td>6</td>\n      <td>19</td>\n      <td>0</td>\n      <td>NaN</td>\n      <td>0</td>\n      <td>NaN</td>\n      <td>NaN</td>\n      <td>NaN</td>\n      <td>NaN</td>\n      <td>NaN</td>\n    </tr>\n    <tr>\n      <td>65</td>\n      <td>2008</td>\n      <td>1</td>\n      <td>3</td>\n      <td>4</td>\n      <td>1500</td>\n      <td>1500</td>\n      <td>1602</td>\n      <td>1615</td>\n      <td>WN</td>\n      <td>640</td>\n      <td>...</td>\n      <td>5</td>\n      <td>8</td>\n      <td>0</td>\n      <td>NaN</td>\n      <td>0</td>\n      <td>NaN</td>\n      <td>NaN</td>\n      <td>NaN</td>\n      <td>NaN</td>\n      <td>NaN</td>\n    </tr>\n    <tr>\n      <td>36</td>\n      <td>2008</td>\n      <td>1</td>\n      <td>3</td>\n      <td>4</td>\n      <td>831</td>\n      <td>830</td>\n      <td>935</td>\n      <td>955</td>\n      <td>WN</td>\n      <td>300</td>\n      <td>...</td>\n      <td>5</td>\n      <td>7</td>\n      <td>0</td>\n      <td>NaN</td>\n      <td>0</td>\n      <td>NaN</td>\n      <td>NaN</td>\n      <td>NaN</td>\n      <td>NaN</td>\n      <td>NaN</td>\n    </tr>\n    <tr>\n      <td>9</td>\n      <td>2008</td>\n      <td>1</td>\n      <td>3</td>\n      <td>4</td>\n      <td>1620</td>\n      <td>1620</td>\n      <td>1639</td>\n      <td>1655</td>\n      <td>WN</td>\n      <td>810</td>\n      <td>...</td>\n      <td>3</td>\n      <td>6</td>\n      <td>0</td>\n      <td>NaN</td>\n      <td>0</td>\n      <td>NaN</td>\n      <td>NaN</td>\n      <td>NaN</td>\n      <td>NaN</td>\n      <td>NaN</td>\n    </tr>\n    <tr>\n      <td>...</td>\n      <td>...</td>\n      <td>...</td>\n      <td>...</td>\n      <td>...</td>\n      <td>...</td>\n      <td>...</td>\n      <td>...</td>\n      <td>...</td>\n      <td>...</td>\n      <td>...</td>\n      <td>...</td>\n      <td>...</td>\n      <td>...</td>\n      <td>...</td>\n      <td>...</td>\n      <td>...</td>\n      <td>...</td>\n      <td>...</td>\n      <td>...</td>\n      <td>...</td>\n      <td>...</td>\n    </tr>\n    <tr>\n      <td>14</td>\n      <td>2008</td>\n      <td>1</td>\n      <td>3</td>\n      <td>4</td>\n      <td>1702</td>\n      <td>1700</td>\n      <td>1651</td>\n      <td>1655</td>\n      <td>WN</td>\n      <td>1827</td>\n      <td>...</td>\n      <td>4</td>\n      <td>10</td>\n      <td>0</td>\n      <td>NaN</td>\n      <td>0</td>\n      <td>NaN</td>\n      <td>NaN</td>\n      <td>NaN</td>\n      <td>NaN</td>\n      <td>NaN</td>\n    </tr>\n    <tr>\n      <td>75</td>\n      <td>2008</td>\n      <td>1</td>\n      <td>3</td>\n      <td>4</td>\n      <td>712</td>\n      <td>700</td>\n      <td>926</td>\n      <td>915</td>\n      <td>WN</td>\n      <td>1232</td>\n      <td>...</td>\n      <td>5</td>\n      <td>9</td>\n      <td>0</td>\n      <td>NaN</td>\n      <td>0</td>\n      <td>NaN</td>\n      <td>NaN</td>\n      <td>NaN</td>\n      <td>NaN</td>\n      <td>NaN</td>\n    </tr>\n    <tr>\n      <td>44</td>\n      <td>2008</td>\n      <td>1</td>\n      <td>3</td>\n      <td>4</td>\n      <td>1153</td>\n      <td>1140</td>\n      <td>1428</td>\n      <td>1440</td>\n      <td>WN</td>\n      <td>2006</td>\n      <td>...</td>\n      <td>4</td>\n      <td>8</td>\n      <td>0</td>\n      <td>NaN</td>\n      <td>0</td>\n      <td>NaN</td>\n      <td>NaN</td>\n      <td>NaN</td>\n      <td>NaN</td>\n      <td>NaN</td>\n    </tr>\n    <tr>\n      <td>71</td>\n      <td>2008</td>\n      <td>1</td>\n      <td>3</td>\n      <td>4</td>\n      <td>802</td>\n      <td>750</td>\n      <td>1001</td>\n      <td>955</td>\n      <td>WN</td>\n      <td>2272</td>\n      <td>...</td>\n      <td>7</td>\n      <td>8</td>\n      <td>0</td>\n      <td>NaN</td>\n      <td>0</td>\n      <td>NaN</td>\n      <td>NaN</td>\n      <td>NaN</td>\n      <td>NaN</td>\n      <td>NaN</td>\n    </tr>\n    <tr>\n      <td>86</td>\n      <td>2008</td>\n      <td>1</td>\n      <td>3</td>\n      <td>4</td>\n      <td>1832</td>\n      <td>1655</td>\n      <td>148</td>\n      <td>30</td>\n      <td>WN</td>\n      <td>302</td>\n      <td>...</td>\n      <td>3</td>\n      <td>10</td>\n      <td>0</td>\n      <td>NaN</td>\n      <td>0</td>\n      <td>8.0</td>\n      <td>0.0</td>\n      <td>0.0</td>\n      <td>0.0</td>\n      <td>70.0</td>\n    </tr>\n  </tbody>\n</table>\n<p>100 rows × 29 columns</p>\n</div>"
     },
     "metadata": {},
     "execution_count": 24
    }
   ],
   "source": [
    "df2 #Nuevo df con los datos desordenados"
   ]
  },
  {
   "cell_type": "code",
   "execution_count": 7,
   "metadata": {},
   "outputs": [
    {
     "output_type": "execute_result",
     "data": {
      "text/plain": "Index(['Year', 'Month', 'DayofMonth', 'DayOfWeek', 'DepTime', 'CRSDepTime',\n       'ArrTime', 'CRSArrTime', 'UniqueCarrier', 'FlightNum', 'TailNum',\n       'ActualElapsedTime', 'CRSElapsedTime', 'AirTime', 'ArrDelay',\n       'DepDelay', 'Origin', 'Dest', 'Distance', 'TaxiIn', 'TaxiOut',\n       'Cancelled', 'CancellationCode', 'Diverted', 'CarrierDelay',\n       'WeatherDelay', 'NASDelay', 'SecurityDelay', 'LateAircraftDelay'],\n      dtype='object')"
     },
     "metadata": {},
     "execution_count": 7
    }
   ],
   "source": [
    "df.columns #devuelve una lista con las columnas que tiene el df\n",
    "#columns es un atrubito, no una función. Por eso no lleva ()"
   ]
  },
  {
   "cell_type": "code",
   "execution_count": 8,
   "metadata": {},
   "outputs": [
    {
     "output_type": "execute_result",
     "data": {
      "text/plain": "0     2003\n1      754\n2      628\n3      926\n4     1829\n      ... \n95    1506\n96    2039\n97     924\n98    1611\n99    1824\nName: DepTime, Length: 100, dtype: int64"
     },
     "metadata": {},
     "execution_count": 8
    }
   ],
   "source": [
    "df.DepTime #devuelve la columna DepTime"
   ]
  },
  {
   "cell_type": "code",
   "execution_count": 27,
   "metadata": {},
   "outputs": [
    {
     "output_type": "execute_result",
     "data": {
      "text/plain": "Year                   int64\nMonth                  int64\nDayofMonth             int64\nDayOfWeek              int64\nDepTime                int64\nCRSDepTime             int64\nArrTime                int64\nCRSArrTime             int64\nUniqueCarrier         object\nFlightNum              int64\nTailNum               object\nActualElapsedTime      int64\nCRSElapsedTime         int64\nAirTime                int64\nArrDelay               int64\nDepDelay               int64\nOrigin                object\nDest                  object\nDistance               int64\nTaxiIn                 int64\nTaxiOut                int64\nCancelled              int64\nCancellationCode     float64\nDiverted               int64\nCarrierDelay         float64\nWeatherDelay         float64\nNASDelay             float64\nSecurityDelay        float64\nLateAircraftDelay    float64\ndtype: object"
     },
     "metadata": {},
     "execution_count": 27
    }
   ],
   "source": [
    "df.dtypes #devuelve el tipo de datos de cada columna"
   ]
  },
  {
   "cell_type": "code",
   "execution_count": 9,
   "metadata": {},
   "outputs": [
    {
     "output_type": "execute_result",
     "data": {
      "text/plain": "array([[2008, 1, 3, ..., nan, nan, nan],\n       [2008, 1, 3, ..., nan, nan, nan],\n       [2008, 1, 3, ..., nan, nan, nan],\n       ...,\n       [2008, 1, 3, ..., nan, nan, nan],\n       [2008, 1, 3, ..., 0.0, 0.0, 15.0],\n       [2008, 1, 3, ..., 0.0, 0.0, 4.0]], dtype=object)"
     },
     "metadata": {},
     "execution_count": 9
    }
   ],
   "source": [
    "df.values #devuelve todo el contenido en un array"
   ]
  },
  {
   "cell_type": "code",
   "execution_count": 10,
   "metadata": {},
   "outputs": [],
   "source": [
    "df3 = df.head(10) #creamos un nuevo df en base al primero"
   ]
  },
  {
   "cell_type": "code",
   "execution_count": 30,
   "metadata": {},
   "outputs": [
    {
     "output_type": "execute_result",
     "data": {
      "text/plain": "   Year  Month  DayofMonth  DayOfWeek  DepTime  CRSDepTime  ArrTime  \\\n0  2008      1           3          4     2003        1955     2211   \n1  2008      1           3          4      754         735     1002   \n2  2008      1           3          4      628         620      804   \n3  2008      1           3          4      926         930     1054   \n4  2008      1           3          4     1829        1755     1959   \n5  2008      1           3          4     1940        1915     2121   \n6  2008      1           3          4     1937        1830     2037   \n7  2008      1           3          4     1039        1040     1132   \n8  2008      1           3          4      617         615      652   \n9  2008      1           3          4     1620        1620     1639   \n\n   CRSArrTime UniqueCarrier  FlightNum  ... TaxiIn  TaxiOut  Cancelled  \\\n0        2225            WN        335  ...      4        8          0   \n1        1000            WN       3231  ...      5       10          0   \n2         750            WN        448  ...      3       17          0   \n3        1100            WN       1746  ...      3        7          0   \n4        1925            WN       3920  ...      3       10          0   \n5        2110            WN        378  ...      4       10          0   \n6        1940            WN        509  ...      3        7          0   \n7        1150            WN        535  ...      7        7          0   \n8         650            WN         11  ...      6       19          0   \n9        1655            WN        810  ...      3        6          0   \n\n   CancellationCode  Diverted  CarrierDelay WeatherDelay NASDelay  \\\n0               NaN         0           NaN          NaN      NaN   \n1               NaN         0           NaN          NaN      NaN   \n2               NaN         0           NaN          NaN      NaN   \n3               NaN         0           NaN          NaN      NaN   \n4               NaN         0           2.0          0.0      0.0   \n5               NaN         0           NaN          NaN      NaN   \n6               NaN         0          10.0          0.0      0.0   \n7               NaN         0           NaN          NaN      NaN   \n8               NaN         0           NaN          NaN      NaN   \n9               NaN         0           NaN          NaN      NaN   \n\n   SecurityDelay  LateAircraftDelay  \n0            NaN                NaN  \n1            NaN                NaN  \n2            NaN                NaN  \n3            NaN                NaN  \n4            0.0               32.0  \n5            NaN                NaN  \n6            0.0               47.0  \n7            NaN                NaN  \n8            NaN                NaN  \n9            NaN                NaN  \n\n[10 rows x 29 columns]",
      "text/html": "<div>\n<style scoped>\n    .dataframe tbody tr th:only-of-type {\n        vertical-align: middle;\n    }\n\n    .dataframe tbody tr th {\n        vertical-align: top;\n    }\n\n    .dataframe thead th {\n        text-align: right;\n    }\n</style>\n<table border=\"1\" class=\"dataframe\">\n  <thead>\n    <tr style=\"text-align: right;\">\n      <th></th>\n      <th>Year</th>\n      <th>Month</th>\n      <th>DayofMonth</th>\n      <th>DayOfWeek</th>\n      <th>DepTime</th>\n      <th>CRSDepTime</th>\n      <th>ArrTime</th>\n      <th>CRSArrTime</th>\n      <th>UniqueCarrier</th>\n      <th>FlightNum</th>\n      <th>...</th>\n      <th>TaxiIn</th>\n      <th>TaxiOut</th>\n      <th>Cancelled</th>\n      <th>CancellationCode</th>\n      <th>Diverted</th>\n      <th>CarrierDelay</th>\n      <th>WeatherDelay</th>\n      <th>NASDelay</th>\n      <th>SecurityDelay</th>\n      <th>LateAircraftDelay</th>\n    </tr>\n  </thead>\n  <tbody>\n    <tr>\n      <td>0</td>\n      <td>2008</td>\n      <td>1</td>\n      <td>3</td>\n      <td>4</td>\n      <td>2003</td>\n      <td>1955</td>\n      <td>2211</td>\n      <td>2225</td>\n      <td>WN</td>\n      <td>335</td>\n      <td>...</td>\n      <td>4</td>\n      <td>8</td>\n      <td>0</td>\n      <td>NaN</td>\n      <td>0</td>\n      <td>NaN</td>\n      <td>NaN</td>\n      <td>NaN</td>\n      <td>NaN</td>\n      <td>NaN</td>\n    </tr>\n    <tr>\n      <td>1</td>\n      <td>2008</td>\n      <td>1</td>\n      <td>3</td>\n      <td>4</td>\n      <td>754</td>\n      <td>735</td>\n      <td>1002</td>\n      <td>1000</td>\n      <td>WN</td>\n      <td>3231</td>\n      <td>...</td>\n      <td>5</td>\n      <td>10</td>\n      <td>0</td>\n      <td>NaN</td>\n      <td>0</td>\n      <td>NaN</td>\n      <td>NaN</td>\n      <td>NaN</td>\n      <td>NaN</td>\n      <td>NaN</td>\n    </tr>\n    <tr>\n      <td>2</td>\n      <td>2008</td>\n      <td>1</td>\n      <td>3</td>\n      <td>4</td>\n      <td>628</td>\n      <td>620</td>\n      <td>804</td>\n      <td>750</td>\n      <td>WN</td>\n      <td>448</td>\n      <td>...</td>\n      <td>3</td>\n      <td>17</td>\n      <td>0</td>\n      <td>NaN</td>\n      <td>0</td>\n      <td>NaN</td>\n      <td>NaN</td>\n      <td>NaN</td>\n      <td>NaN</td>\n      <td>NaN</td>\n    </tr>\n    <tr>\n      <td>3</td>\n      <td>2008</td>\n      <td>1</td>\n      <td>3</td>\n      <td>4</td>\n      <td>926</td>\n      <td>930</td>\n      <td>1054</td>\n      <td>1100</td>\n      <td>WN</td>\n      <td>1746</td>\n      <td>...</td>\n      <td>3</td>\n      <td>7</td>\n      <td>0</td>\n      <td>NaN</td>\n      <td>0</td>\n      <td>NaN</td>\n      <td>NaN</td>\n      <td>NaN</td>\n      <td>NaN</td>\n      <td>NaN</td>\n    </tr>\n    <tr>\n      <td>4</td>\n      <td>2008</td>\n      <td>1</td>\n      <td>3</td>\n      <td>4</td>\n      <td>1829</td>\n      <td>1755</td>\n      <td>1959</td>\n      <td>1925</td>\n      <td>WN</td>\n      <td>3920</td>\n      <td>...</td>\n      <td>3</td>\n      <td>10</td>\n      <td>0</td>\n      <td>NaN</td>\n      <td>0</td>\n      <td>2.0</td>\n      <td>0.0</td>\n      <td>0.0</td>\n      <td>0.0</td>\n      <td>32.0</td>\n    </tr>\n    <tr>\n      <td>5</td>\n      <td>2008</td>\n      <td>1</td>\n      <td>3</td>\n      <td>4</td>\n      <td>1940</td>\n      <td>1915</td>\n      <td>2121</td>\n      <td>2110</td>\n      <td>WN</td>\n      <td>378</td>\n      <td>...</td>\n      <td>4</td>\n      <td>10</td>\n      <td>0</td>\n      <td>NaN</td>\n      <td>0</td>\n      <td>NaN</td>\n      <td>NaN</td>\n      <td>NaN</td>\n      <td>NaN</td>\n      <td>NaN</td>\n    </tr>\n    <tr>\n      <td>6</td>\n      <td>2008</td>\n      <td>1</td>\n      <td>3</td>\n      <td>4</td>\n      <td>1937</td>\n      <td>1830</td>\n      <td>2037</td>\n      <td>1940</td>\n      <td>WN</td>\n      <td>509</td>\n      <td>...</td>\n      <td>3</td>\n      <td>7</td>\n      <td>0</td>\n      <td>NaN</td>\n      <td>0</td>\n      <td>10.0</td>\n      <td>0.0</td>\n      <td>0.0</td>\n      <td>0.0</td>\n      <td>47.0</td>\n    </tr>\n    <tr>\n      <td>7</td>\n      <td>2008</td>\n      <td>1</td>\n      <td>3</td>\n      <td>4</td>\n      <td>1039</td>\n      <td>1040</td>\n      <td>1132</td>\n      <td>1150</td>\n      <td>WN</td>\n      <td>535</td>\n      <td>...</td>\n      <td>7</td>\n      <td>7</td>\n      <td>0</td>\n      <td>NaN</td>\n      <td>0</td>\n      <td>NaN</td>\n      <td>NaN</td>\n      <td>NaN</td>\n      <td>NaN</td>\n      <td>NaN</td>\n    </tr>\n    <tr>\n      <td>8</td>\n      <td>2008</td>\n      <td>1</td>\n      <td>3</td>\n      <td>4</td>\n      <td>617</td>\n      <td>615</td>\n      <td>652</td>\n      <td>650</td>\n      <td>WN</td>\n      <td>11</td>\n      <td>...</td>\n      <td>6</td>\n      <td>19</td>\n      <td>0</td>\n      <td>NaN</td>\n      <td>0</td>\n      <td>NaN</td>\n      <td>NaN</td>\n      <td>NaN</td>\n      <td>NaN</td>\n      <td>NaN</td>\n    </tr>\n    <tr>\n      <td>9</td>\n      <td>2008</td>\n      <td>1</td>\n      <td>3</td>\n      <td>4</td>\n      <td>1620</td>\n      <td>1620</td>\n      <td>1639</td>\n      <td>1655</td>\n      <td>WN</td>\n      <td>810</td>\n      <td>...</td>\n      <td>3</td>\n      <td>6</td>\n      <td>0</td>\n      <td>NaN</td>\n      <td>0</td>\n      <td>NaN</td>\n      <td>NaN</td>\n      <td>NaN</td>\n      <td>NaN</td>\n      <td>NaN</td>\n    </tr>\n  </tbody>\n</table>\n<p>10 rows × 29 columns</p>\n</div>"
     },
     "metadata": {},
     "execution_count": 30
    }
   ],
   "source": [
    "df3"
   ]
  }
 ],
 "metadata": {
  "kernelspec": {
   "display_name": "Python 3",
   "language": "python",
   "name": "python3"
  },
  "language_info": {
   "codemirror_mode": {
    "name": "ipython",
    "version": 3
   },
   "file_extension": ".py",
   "mimetype": "text/x-python",
   "name": "python",
   "nbconvert_exporter": "python",
   "pygments_lexer": "ipython3",
   "version": "3.7.4-final"
  }
 },
 "nbformat": 4,
 "nbformat_minor": 2
}