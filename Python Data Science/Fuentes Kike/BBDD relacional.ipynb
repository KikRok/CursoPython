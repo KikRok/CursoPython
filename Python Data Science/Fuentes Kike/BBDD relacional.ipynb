{
 "metadata": {
  "language_info": {
   "codemirror_mode": {
    "name": "ipython",
    "version": 3
   },
   "file_extension": ".py",
   "mimetype": "text/x-python",
   "name": "python",
   "nbconvert_exporter": "python",
   "pygments_lexer": "ipython3",
   "version": "3.7.4-final"
  },
  "orig_nbformat": 2,
  "kernelspec": {
   "name": "python3",
   "display_name": "Python 3"
  }
 },
 "nbformat": 4,
 "nbformat_minor": 2,
 "cells": [
  {
   "cell_type": "code",
   "execution_count": 2,
   "metadata": {},
   "outputs": [],
   "source": [
    "import pandas as pd\n",
    "\n",
    "#Creamos los datos que va a contener nuestra tabla\n",
    "data = [(1,\"Kike\",\"Roca\",34,1,1.2,0.8,3,\"01-01-2020\"),\n",
    "(1,\"Kike\",\"Roca\",34,2,1,0.75,1,\"02-01-2020\"),\n",
    "(1,\"Kike\",\"Roca\",34,1,1.2,0.8,2,\"03-01-2020\"),\n",
    "(2,\"Roser\",\"Gonzalez\",32,2,1,0.75,4,\"01-01-2020\"),\n",
    "(2,\"Roser\",\"Gonzalez\",32,1,1.2,0.8,10,\"02-01-2020\"),\n",
    "(2,\"Roser\",\"Gonzalez\",32,1,1.2,0.8,2,\"03-01-2020\"),\n",
    "(3,\"Iona\",\"Roca\",1,3,5,4.2,10,\"01-01-2020\"),\n",
    "(3,\"Iona\",\"Roca\",1,3,5,4.2,5,\"02-01-2020\"),\n",
    "(3,\"Iona\",\"Roca\",1,3,5,4.2,2,\"03-01-2020\"),\n",
    "(4,\"Duna\",\"DK\",9,4,10,5,25,\"09-11-2020\")]\n",
    "#Los labels/coumnas de la tabla\n",
    "labels =[\"id_buyer\",\"name\",\"surname\",\"age\",\"id_product\",\"price\",\"cost\",\"items_buyed\",\"date\"]"
   ]
  },
  {
   "cell_type": "code",
   "execution_count": 3,
   "metadata": {},
   "outputs": [],
   "source": [
    "df = pd.DataFrame.from_records(data, columns= labels) #creamos un DataFrame desde los objectos credos a mano"
   ]
  },
  {
   "cell_type": "code",
   "execution_count": 4,
   "metadata": {},
   "outputs": [
    {
     "output_type": "execute_result",
     "data": {
      "text/plain": [
       "   id_buyer   name   surname  age  id_product  price  cost  items_buyed  \\\n",
       "0         1   Kike      Roca   34           1    1.2  0.80            3   \n",
       "1         1   Kike      Roca   34           2    1.0  0.75            1   \n",
       "2         1   Kike      Roca   34           1    1.2  0.80            2   \n",
       "3         2  Roser  Gonzalez   32           2    1.0  0.75            4   \n",
       "4         2  Roser  Gonzalez   32           1    1.2  0.80           10   \n",
       "5         2  Roser  Gonzalez   32           1    1.2  0.80            2   \n",
       "6         3   Iona      Roca    1           3    5.0  4.20           10   \n",
       "7         3   Iona      Roca    1           3    5.0  4.20            5   \n",
       "8         3   Iona      Roca    1           3    5.0  4.20            2   \n",
       "9         4   Duna        DK    9           4   10.0  5.00           25   \n",
       "\n",
       "         date  \n",
       "0  01-01-2020  \n",
       "1  02-01-2020  \n",
       "2  03-01-2020  \n",
       "3  01-01-2020  \n",
       "4  02-01-2020  \n",
       "5  03-01-2020  \n",
       "6  01-01-2020  \n",
       "7  02-01-2020  \n",
       "8  03-01-2020  \n",
       "9  09-11-2020  "
      ],
      "text/html": "<div>\n<style scoped>\n    .dataframe tbody tr th:only-of-type {\n        vertical-align: middle;\n    }\n\n    .dataframe tbody tr th {\n        vertical-align: top;\n    }\n\n    .dataframe thead th {\n        text-align: right;\n    }\n</style>\n<table border=\"1\" class=\"dataframe\">\n  <thead>\n    <tr style=\"text-align: right;\">\n      <th></th>\n      <th>id_buyer</th>\n      <th>name</th>\n      <th>surname</th>\n      <th>age</th>\n      <th>id_product</th>\n      <th>price</th>\n      <th>cost</th>\n      <th>items_buyed</th>\n      <th>date</th>\n    </tr>\n  </thead>\n  <tbody>\n    <tr>\n      <td>0</td>\n      <td>1</td>\n      <td>Kike</td>\n      <td>Roca</td>\n      <td>34</td>\n      <td>1</td>\n      <td>1.2</td>\n      <td>0.80</td>\n      <td>3</td>\n      <td>01-01-2020</td>\n    </tr>\n    <tr>\n      <td>1</td>\n      <td>1</td>\n      <td>Kike</td>\n      <td>Roca</td>\n      <td>34</td>\n      <td>2</td>\n      <td>1.0</td>\n      <td>0.75</td>\n      <td>1</td>\n      <td>02-01-2020</td>\n    </tr>\n    <tr>\n      <td>2</td>\n      <td>1</td>\n      <td>Kike</td>\n      <td>Roca</td>\n      <td>34</td>\n      <td>1</td>\n      <td>1.2</td>\n      <td>0.80</td>\n      <td>2</td>\n      <td>03-01-2020</td>\n    </tr>\n    <tr>\n      <td>3</td>\n      <td>2</td>\n      <td>Roser</td>\n      <td>Gonzalez</td>\n      <td>32</td>\n      <td>2</td>\n      <td>1.0</td>\n      <td>0.75</td>\n      <td>4</td>\n      <td>01-01-2020</td>\n    </tr>\n    <tr>\n      <td>4</td>\n      <td>2</td>\n      <td>Roser</td>\n      <td>Gonzalez</td>\n      <td>32</td>\n      <td>1</td>\n      <td>1.2</td>\n      <td>0.80</td>\n      <td>10</td>\n      <td>02-01-2020</td>\n    </tr>\n    <tr>\n      <td>5</td>\n      <td>2</td>\n      <td>Roser</td>\n      <td>Gonzalez</td>\n      <td>32</td>\n      <td>1</td>\n      <td>1.2</td>\n      <td>0.80</td>\n      <td>2</td>\n      <td>03-01-2020</td>\n    </tr>\n    <tr>\n      <td>6</td>\n      <td>3</td>\n      <td>Iona</td>\n      <td>Roca</td>\n      <td>1</td>\n      <td>3</td>\n      <td>5.0</td>\n      <td>4.20</td>\n      <td>10</td>\n      <td>01-01-2020</td>\n    </tr>\n    <tr>\n      <td>7</td>\n      <td>3</td>\n      <td>Iona</td>\n      <td>Roca</td>\n      <td>1</td>\n      <td>3</td>\n      <td>5.0</td>\n      <td>4.20</td>\n      <td>5</td>\n      <td>02-01-2020</td>\n    </tr>\n    <tr>\n      <td>8</td>\n      <td>3</td>\n      <td>Iona</td>\n      <td>Roca</td>\n      <td>1</td>\n      <td>3</td>\n      <td>5.0</td>\n      <td>4.20</td>\n      <td>2</td>\n      <td>03-01-2020</td>\n    </tr>\n    <tr>\n      <td>9</td>\n      <td>4</td>\n      <td>Duna</td>\n      <td>DK</td>\n      <td>9</td>\n      <td>4</td>\n      <td>10.0</td>\n      <td>5.00</td>\n      <td>25</td>\n      <td>09-11-2020</td>\n    </tr>\n  </tbody>\n</table>\n</div>"
     },
     "metadata": {},
     "execution_count": 4
    }
   ],
   "source": [
    "df"
   ]
  },
  {
   "cell_type": "code",
   "execution_count": null,
   "metadata": {},
   "outputs": [],
   "source": [
    "#Vamos a separar la tabla en 3 conceptos"
   ]
  },
  {
   "cell_type": "code",
   "execution_count": 5,
   "metadata": {},
   "outputs": [
    {
     "output_type": "execute_result",
     "data": {
      "text/plain": [
       "   id_buyer   name   surname  age  id_product  price  cost  items_buyed  \\\n",
       "0         1   Kike      Roca   34           1    1.2  0.80            3   \n",
       "3         2  Roser  Gonzalez   32           2    1.0  0.75            4   \n",
       "6         3   Iona      Roca    1           3    5.0  4.20           10   \n",
       "9         4   Duna        DK    9           4   10.0  5.00           25   \n",
       "\n",
       "         date  \n",
       "0  01-01-2020  \n",
       "3  01-01-2020  \n",
       "6  01-01-2020  \n",
       "9  09-11-2020  "
      ],
      "text/html": "<div>\n<style scoped>\n    .dataframe tbody tr th:only-of-type {\n        vertical-align: middle;\n    }\n\n    .dataframe tbody tr th {\n        vertical-align: top;\n    }\n\n    .dataframe thead th {\n        text-align: right;\n    }\n</style>\n<table border=\"1\" class=\"dataframe\">\n  <thead>\n    <tr style=\"text-align: right;\">\n      <th></th>\n      <th>id_buyer</th>\n      <th>name</th>\n      <th>surname</th>\n      <th>age</th>\n      <th>id_product</th>\n      <th>price</th>\n      <th>cost</th>\n      <th>items_buyed</th>\n      <th>date</th>\n    </tr>\n  </thead>\n  <tbody>\n    <tr>\n      <td>0</td>\n      <td>1</td>\n      <td>Kike</td>\n      <td>Roca</td>\n      <td>34</td>\n      <td>1</td>\n      <td>1.2</td>\n      <td>0.80</td>\n      <td>3</td>\n      <td>01-01-2020</td>\n    </tr>\n    <tr>\n      <td>3</td>\n      <td>2</td>\n      <td>Roser</td>\n      <td>Gonzalez</td>\n      <td>32</td>\n      <td>2</td>\n      <td>1.0</td>\n      <td>0.75</td>\n      <td>4</td>\n      <td>01-01-2020</td>\n    </tr>\n    <tr>\n      <td>6</td>\n      <td>3</td>\n      <td>Iona</td>\n      <td>Roca</td>\n      <td>1</td>\n      <td>3</td>\n      <td>5.0</td>\n      <td>4.20</td>\n      <td>10</td>\n      <td>01-01-2020</td>\n    </tr>\n    <tr>\n      <td>9</td>\n      <td>4</td>\n      <td>Duna</td>\n      <td>DK</td>\n      <td>9</td>\n      <td>4</td>\n      <td>10.0</td>\n      <td>5.00</td>\n      <td>25</td>\n      <td>09-11-2020</td>\n    </tr>\n  </tbody>\n</table>\n</div>"
     },
     "metadata": {},
     "execution_count": 5
    }
   ],
   "source": [
    "compradores = df.drop_duplicates(subset = \"id_buyer\", keep=\"first\") #eliminamos los duplicados por ID\n",
    "compradores"
   ]
  },
  {
   "cell_type": "code",
   "execution_count": 7,
   "metadata": {},
   "outputs": [
    {
     "output_type": "execute_result",
     "data": {
      "text/plain": [
       "   id_buyer   name   surname  age\n",
       "0         1   Kike      Roca   34\n",
       "3         2  Roser  Gonzalez   32\n",
       "6         3   Iona      Roca    1\n",
       "9         4   Duna        DK    9"
      ],
      "text/html": "<div>\n<style scoped>\n    .dataframe tbody tr th:only-of-type {\n        vertical-align: middle;\n    }\n\n    .dataframe tbody tr th {\n        vertical-align: top;\n    }\n\n    .dataframe thead th {\n        text-align: right;\n    }\n</style>\n<table border=\"1\" class=\"dataframe\">\n  <thead>\n    <tr style=\"text-align: right;\">\n      <th></th>\n      <th>id_buyer</th>\n      <th>name</th>\n      <th>surname</th>\n      <th>age</th>\n    </tr>\n  </thead>\n  <tbody>\n    <tr>\n      <td>0</td>\n      <td>1</td>\n      <td>Kike</td>\n      <td>Roca</td>\n      <td>34</td>\n    </tr>\n    <tr>\n      <td>3</td>\n      <td>2</td>\n      <td>Roser</td>\n      <td>Gonzalez</td>\n      <td>32</td>\n    </tr>\n    <tr>\n      <td>6</td>\n      <td>3</td>\n      <td>Iona</td>\n      <td>Roca</td>\n      <td>1</td>\n    </tr>\n    <tr>\n      <td>9</td>\n      <td>4</td>\n      <td>Duna</td>\n      <td>DK</td>\n      <td>9</td>\n    </tr>\n  </tbody>\n</table>\n</div>"
     },
     "metadata": {},
     "execution_count": 7
    }
   ],
   "source": [
    "compradores = compradores[[\"id_buyer\",\"name\",\"surname\",\"age\"]] #nos quedamos solo con los atributos del cliente\n",
    "compradores"
   ]
  },
  {
   "cell_type": "code",
   "execution_count": 8,
   "metadata": {},
   "outputs": [
    {
     "output_type": "execute_result",
     "data": {
      "text/plain": [
       "   id_product  price  cost\n",
       "0           1    1.2  0.80\n",
       "1           2    1.0  0.75\n",
       "6           3    5.0  4.20\n",
       "9           4   10.0  5.00"
      ],
      "text/html": "<div>\n<style scoped>\n    .dataframe tbody tr th:only-of-type {\n        vertical-align: middle;\n    }\n\n    .dataframe tbody tr th {\n        vertical-align: top;\n    }\n\n    .dataframe thead th {\n        text-align: right;\n    }\n</style>\n<table border=\"1\" class=\"dataframe\">\n  <thead>\n    <tr style=\"text-align: right;\">\n      <th></th>\n      <th>id_product</th>\n      <th>price</th>\n      <th>cost</th>\n    </tr>\n  </thead>\n  <tbody>\n    <tr>\n      <td>0</td>\n      <td>1</td>\n      <td>1.2</td>\n      <td>0.80</td>\n    </tr>\n    <tr>\n      <td>1</td>\n      <td>2</td>\n      <td>1.0</td>\n      <td>0.75</td>\n    </tr>\n    <tr>\n      <td>6</td>\n      <td>3</td>\n      <td>5.0</td>\n      <td>4.20</td>\n    </tr>\n    <tr>\n      <td>9</td>\n      <td>4</td>\n      <td>10.0</td>\n      <td>5.00</td>\n    </tr>\n  </tbody>\n</table>\n</div>"
     },
     "metadata": {},
     "execution_count": 8
    }
   ],
   "source": [
    "productos = df.drop_duplicates(subset = \"id_product\", keep=\"first\")\n",
    "productos = productos[[\"id_product\",\"price\",\"cost\"]]\n",
    "productos"
   ]
  },
  {
   "cell_type": "code",
   "execution_count": 9,
   "metadata": {},
   "outputs": [],
   "source": [
    "productos[\"margin\"] = productos[\"price\"] - productos[\"cost\"] #Calculamoms el margen de negocio al vuelo"
   ]
  },
  {
   "cell_type": "code",
   "execution_count": 10,
   "metadata": {},
   "outputs": [
    {
     "output_type": "execute_result",
     "data": {
      "text/plain": [
       "   id_product  price  cost  margin\n",
       "0           1    1.2  0.80    0.40\n",
       "1           2    1.0  0.75    0.25\n",
       "6           3    5.0  4.20    0.80\n",
       "9           4   10.0  5.00    5.00"
      ],
      "text/html": "<div>\n<style scoped>\n    .dataframe tbody tr th:only-of-type {\n        vertical-align: middle;\n    }\n\n    .dataframe tbody tr th {\n        vertical-align: top;\n    }\n\n    .dataframe thead th {\n        text-align: right;\n    }\n</style>\n<table border=\"1\" class=\"dataframe\">\n  <thead>\n    <tr style=\"text-align: right;\">\n      <th></th>\n      <th>id_product</th>\n      <th>price</th>\n      <th>cost</th>\n      <th>margin</th>\n    </tr>\n  </thead>\n  <tbody>\n    <tr>\n      <td>0</td>\n      <td>1</td>\n      <td>1.2</td>\n      <td>0.80</td>\n      <td>0.40</td>\n    </tr>\n    <tr>\n      <td>1</td>\n      <td>2</td>\n      <td>1.0</td>\n      <td>0.75</td>\n      <td>0.25</td>\n    </tr>\n    <tr>\n      <td>6</td>\n      <td>3</td>\n      <td>5.0</td>\n      <td>4.20</td>\n      <td>0.80</td>\n    </tr>\n    <tr>\n      <td>9</td>\n      <td>4</td>\n      <td>10.0</td>\n      <td>5.00</td>\n      <td>5.00</td>\n    </tr>\n  </tbody>\n</table>\n</div>"
     },
     "metadata": {},
     "execution_count": 10
    }
   ],
   "source": [
    "productos"
   ]
  },
  {
   "cell_type": "code",
   "execution_count": 11,
   "metadata": {},
   "outputs": [
    {
     "output_type": "execute_result",
     "data": {
      "text/plain": [
       "   id_buyer  id_product  items_buyed        date\n",
       "0         1           1            3  01-01-2020\n",
       "1         1           2            1  02-01-2020\n",
       "2         1           1            2  03-01-2020\n",
       "3         2           2            4  01-01-2020\n",
       "4         2           1           10  02-01-2020\n",
       "5         2           1            2  03-01-2020\n",
       "6         3           3           10  01-01-2020\n",
       "7         3           3            5  02-01-2020\n",
       "8         3           3            2  03-01-2020\n",
       "9         4           4           25  09-11-2020"
      ],
      "text/html": "<div>\n<style scoped>\n    .dataframe tbody tr th:only-of-type {\n        vertical-align: middle;\n    }\n\n    .dataframe tbody tr th {\n        vertical-align: top;\n    }\n\n    .dataframe thead th {\n        text-align: right;\n    }\n</style>\n<table border=\"1\" class=\"dataframe\">\n  <thead>\n    <tr style=\"text-align: right;\">\n      <th></th>\n      <th>id_buyer</th>\n      <th>id_product</th>\n      <th>items_buyed</th>\n      <th>date</th>\n    </tr>\n  </thead>\n  <tbody>\n    <tr>\n      <td>0</td>\n      <td>1</td>\n      <td>1</td>\n      <td>3</td>\n      <td>01-01-2020</td>\n    </tr>\n    <tr>\n      <td>1</td>\n      <td>1</td>\n      <td>2</td>\n      <td>1</td>\n      <td>02-01-2020</td>\n    </tr>\n    <tr>\n      <td>2</td>\n      <td>1</td>\n      <td>1</td>\n      <td>2</td>\n      <td>03-01-2020</td>\n    </tr>\n    <tr>\n      <td>3</td>\n      <td>2</td>\n      <td>2</td>\n      <td>4</td>\n      <td>01-01-2020</td>\n    </tr>\n    <tr>\n      <td>4</td>\n      <td>2</td>\n      <td>1</td>\n      <td>10</td>\n      <td>02-01-2020</td>\n    </tr>\n    <tr>\n      <td>5</td>\n      <td>2</td>\n      <td>1</td>\n      <td>2</td>\n      <td>03-01-2020</td>\n    </tr>\n    <tr>\n      <td>6</td>\n      <td>3</td>\n      <td>3</td>\n      <td>10</td>\n      <td>01-01-2020</td>\n    </tr>\n    <tr>\n      <td>7</td>\n      <td>3</td>\n      <td>3</td>\n      <td>5</td>\n      <td>02-01-2020</td>\n    </tr>\n    <tr>\n      <td>8</td>\n      <td>3</td>\n      <td>3</td>\n      <td>2</td>\n      <td>03-01-2020</td>\n    </tr>\n    <tr>\n      <td>9</td>\n      <td>4</td>\n      <td>4</td>\n      <td>25</td>\n      <td>09-11-2020</td>\n    </tr>\n  </tbody>\n</table>\n</div>"
     },
     "metadata": {},
     "execution_count": 11
    }
   ],
   "source": [
    "compras = df[[\"id_buyer\",\"id_product\",\"items_buyed\",\"date\"]]\n",
    "compras"
   ]
  },
  {
   "cell_type": "code",
   "execution_count": 16,
   "metadata": {},
   "outputs": [
    {
     "output_type": "execute_result",
     "data": {
      "text/plain": [
       "   id_product     product\n",
       "0           1     Libreta\n",
       "1           2       Ceras\n",
       "2           3     Juguete\n",
       "3           4  DentaStick"
      ],
      "text/html": "<div>\n<style scoped>\n    .dataframe tbody tr th:only-of-type {\n        vertical-align: middle;\n    }\n\n    .dataframe tbody tr th {\n        vertical-align: top;\n    }\n\n    .dataframe thead th {\n        text-align: right;\n    }\n</style>\n<table border=\"1\" class=\"dataframe\">\n  <thead>\n    <tr style=\"text-align: right;\">\n      <th></th>\n      <th>id_product</th>\n      <th>product</th>\n    </tr>\n  </thead>\n  <tbody>\n    <tr>\n      <td>0</td>\n      <td>1</td>\n      <td>Libreta</td>\n    </tr>\n    <tr>\n      <td>1</td>\n      <td>2</td>\n      <td>Ceras</td>\n    </tr>\n    <tr>\n      <td>2</td>\n      <td>3</td>\n      <td>Juguete</td>\n    </tr>\n    <tr>\n      <td>3</td>\n      <td>4</td>\n      <td>DentaStick</td>\n    </tr>\n  </tbody>\n</table>\n</div>"
     },
     "metadata": {},
     "execution_count": 16
    }
   ],
   "source": [
    "litProducto = [(1,\"Libreta\"),(2,'Ceras'), (3,'Juguete'),(4,'DentaStick')]\n",
    "#Los labels/coumnas de la tabla\n",
    "labelsP =[\"id_product\",\"product\"]\n",
    "lu_product_aux = pd.DataFrame.from_records(litProducto, columns= labelsP)\n",
    "lu_product_aux "
   ]
  },
  {
   "cell_type": "code",
   "execution_count": 19,
   "metadata": {},
   "outputs": [
    {
     "output_type": "execute_result",
     "data": {
      "text/plain": [
       "   id_product  price  cost  margin     product\n",
       "0           1    1.2  0.80    0.40     Libreta\n",
       "1           2    1.0  0.75    0.25       Ceras\n",
       "2           3    5.0  4.20    0.80     Juguete\n",
       "3           4   10.0  5.00    5.00  DentaStick"
      ],
      "text/html": "<div>\n<style scoped>\n    .dataframe tbody tr th:only-of-type {\n        vertical-align: middle;\n    }\n\n    .dataframe tbody tr th {\n        vertical-align: top;\n    }\n\n    .dataframe thead th {\n        text-align: right;\n    }\n</style>\n<table border=\"1\" class=\"dataframe\">\n  <thead>\n    <tr style=\"text-align: right;\">\n      <th></th>\n      <th>id_product</th>\n      <th>price</th>\n      <th>cost</th>\n      <th>margin</th>\n      <th>product</th>\n    </tr>\n  </thead>\n  <tbody>\n    <tr>\n      <td>0</td>\n      <td>1</td>\n      <td>1.2</td>\n      <td>0.80</td>\n      <td>0.40</td>\n      <td>Libreta</td>\n    </tr>\n    <tr>\n      <td>1</td>\n      <td>2</td>\n      <td>1.0</td>\n      <td>0.75</td>\n      <td>0.25</td>\n      <td>Ceras</td>\n    </tr>\n    <tr>\n      <td>2</td>\n      <td>3</td>\n      <td>5.0</td>\n      <td>4.20</td>\n      <td>0.80</td>\n      <td>Juguete</td>\n    </tr>\n    <tr>\n      <td>3</td>\n      <td>4</td>\n      <td>10.0</td>\n      <td>5.00</td>\n      <td>5.00</td>\n      <td>DentaStick</td>\n    </tr>\n  </tbody>\n</table>\n</div>"
     },
     "metadata": {},
     "execution_count": 19
    }
   ],
   "source": [
    "#hacer join entre 2 tablas\n",
    "productos_ok = pd.merge(productos,lu_product_aux, on=\"id_product\",how=\"outer\") # se indica los df que queremos unir. Por que campo on= y que tipo de join es\n",
    "\n",
    "#how:\n",
    "# -outer -> Indistintamente si estan en cualquiera de las 2 tablas\n",
    "# -inner -> Solo los que estan en las 2 tablas\n",
    "# -right -> Solo cuando encuentra la clave en el dataframe de la derecha\n",
    "# -left -> Solo cuando encuentra la clave en el dataframe de la izquierda\n",
    "productos_ok"
   ]
  },
  {
   "cell_type": "code",
   "execution_count": 22,
   "metadata": {},
   "outputs": [
    {
     "output_type": "execute_result",
     "data": {
      "text/plain": [
       "   id_buyer  id_product  items_buyed        date   name   surname  age\n",
       "0         1           1            3  01-01-2020   Kike      Roca   34\n",
       "1         1           2            1  02-01-2020   Kike      Roca   34\n",
       "2         1           1            2  03-01-2020   Kike      Roca   34\n",
       "3         2           2            4  01-01-2020  Roser  Gonzalez   32\n",
       "4         2           1           10  02-01-2020  Roser  Gonzalez   32\n",
       "5         2           1            2  03-01-2020  Roser  Gonzalez   32\n",
       "6         3           3           10  01-01-2020   Iona      Roca    1\n",
       "7         3           3            5  02-01-2020   Iona      Roca    1\n",
       "8         3           3            2  03-01-2020   Iona      Roca    1\n",
       "9         4           4           25  09-11-2020   Duna        DK    9"
      ],
      "text/html": "<div>\n<style scoped>\n    .dataframe tbody tr th:only-of-type {\n        vertical-align: middle;\n    }\n\n    .dataframe tbody tr th {\n        vertical-align: top;\n    }\n\n    .dataframe thead th {\n        text-align: right;\n    }\n</style>\n<table border=\"1\" class=\"dataframe\">\n  <thead>\n    <tr style=\"text-align: right;\">\n      <th></th>\n      <th>id_buyer</th>\n      <th>id_product</th>\n      <th>items_buyed</th>\n      <th>date</th>\n      <th>name</th>\n      <th>surname</th>\n      <th>age</th>\n    </tr>\n  </thead>\n  <tbody>\n    <tr>\n      <td>0</td>\n      <td>1</td>\n      <td>1</td>\n      <td>3</td>\n      <td>01-01-2020</td>\n      <td>Kike</td>\n      <td>Roca</td>\n      <td>34</td>\n    </tr>\n    <tr>\n      <td>1</td>\n      <td>1</td>\n      <td>2</td>\n      <td>1</td>\n      <td>02-01-2020</td>\n      <td>Kike</td>\n      <td>Roca</td>\n      <td>34</td>\n    </tr>\n    <tr>\n      <td>2</td>\n      <td>1</td>\n      <td>1</td>\n      <td>2</td>\n      <td>03-01-2020</td>\n      <td>Kike</td>\n      <td>Roca</td>\n      <td>34</td>\n    </tr>\n    <tr>\n      <td>3</td>\n      <td>2</td>\n      <td>2</td>\n      <td>4</td>\n      <td>01-01-2020</td>\n      <td>Roser</td>\n      <td>Gonzalez</td>\n      <td>32</td>\n    </tr>\n    <tr>\n      <td>4</td>\n      <td>2</td>\n      <td>1</td>\n      <td>10</td>\n      <td>02-01-2020</td>\n      <td>Roser</td>\n      <td>Gonzalez</td>\n      <td>32</td>\n    </tr>\n    <tr>\n      <td>5</td>\n      <td>2</td>\n      <td>1</td>\n      <td>2</td>\n      <td>03-01-2020</td>\n      <td>Roser</td>\n      <td>Gonzalez</td>\n      <td>32</td>\n    </tr>\n    <tr>\n      <td>6</td>\n      <td>3</td>\n      <td>3</td>\n      <td>10</td>\n      <td>01-01-2020</td>\n      <td>Iona</td>\n      <td>Roca</td>\n      <td>1</td>\n    </tr>\n    <tr>\n      <td>7</td>\n      <td>3</td>\n      <td>3</td>\n      <td>5</td>\n      <td>02-01-2020</td>\n      <td>Iona</td>\n      <td>Roca</td>\n      <td>1</td>\n    </tr>\n    <tr>\n      <td>8</td>\n      <td>3</td>\n      <td>3</td>\n      <td>2</td>\n      <td>03-01-2020</td>\n      <td>Iona</td>\n      <td>Roca</td>\n      <td>1</td>\n    </tr>\n    <tr>\n      <td>9</td>\n      <td>4</td>\n      <td>4</td>\n      <td>25</td>\n      <td>09-11-2020</td>\n      <td>Duna</td>\n      <td>DK</td>\n      <td>9</td>\n    </tr>\n  </tbody>\n</table>\n</div>"
     },
     "metadata": {},
     "execution_count": 22
    }
   ],
   "source": [
    "df_aux = pd.merge(compras,compradores, on=\"id_buyer\",how=\"outer\")\n",
    "df_aux"
   ]
  },
  {
   "cell_type": "code",
   "execution_count": 23,
   "metadata": {},
   "outputs": [
    {
     "output_type": "execute_result",
     "data": {
      "text/plain": [
       "            count  mean       std   min   25%   50%   75%   max\n",
       "id_product                                                     \n",
       "1             4.0  33.0  1.154701  32.0  32.0  33.0  34.0  34.0\n",
       "2             2.0  33.0  1.414214  32.0  32.5  33.0  33.5  34.0\n",
       "3             3.0   1.0  0.000000   1.0   1.0   1.0   1.0   1.0\n",
       "4             1.0   9.0       NaN   9.0   9.0   9.0   9.0   9.0"
      ],
      "text/html": "<div>\n<style scoped>\n    .dataframe tbody tr th:only-of-type {\n        vertical-align: middle;\n    }\n\n    .dataframe tbody tr th {\n        vertical-align: top;\n    }\n\n    .dataframe thead th {\n        text-align: right;\n    }\n</style>\n<table border=\"1\" class=\"dataframe\">\n  <thead>\n    <tr style=\"text-align: right;\">\n      <th></th>\n      <th>count</th>\n      <th>mean</th>\n      <th>std</th>\n      <th>min</th>\n      <th>25%</th>\n      <th>50%</th>\n      <th>75%</th>\n      <th>max</th>\n    </tr>\n    <tr>\n      <th>id_product</th>\n      <th></th>\n      <th></th>\n      <th></th>\n      <th></th>\n      <th></th>\n      <th></th>\n      <th></th>\n      <th></th>\n    </tr>\n  </thead>\n  <tbody>\n    <tr>\n      <td>1</td>\n      <td>4.0</td>\n      <td>33.0</td>\n      <td>1.154701</td>\n      <td>32.0</td>\n      <td>32.0</td>\n      <td>33.0</td>\n      <td>34.0</td>\n      <td>34.0</td>\n    </tr>\n    <tr>\n      <td>2</td>\n      <td>2.0</td>\n      <td>33.0</td>\n      <td>1.414214</td>\n      <td>32.0</td>\n      <td>32.5</td>\n      <td>33.0</td>\n      <td>33.5</td>\n      <td>34.0</td>\n    </tr>\n    <tr>\n      <td>3</td>\n      <td>3.0</td>\n      <td>1.0</td>\n      <td>0.000000</td>\n      <td>1.0</td>\n      <td>1.0</td>\n      <td>1.0</td>\n      <td>1.0</td>\n      <td>1.0</td>\n    </tr>\n    <tr>\n      <td>4</td>\n      <td>1.0</td>\n      <td>9.0</td>\n      <td>NaN</td>\n      <td>9.0</td>\n      <td>9.0</td>\n      <td>9.0</td>\n      <td>9.0</td>\n      <td>9.0</td>\n    </tr>\n  </tbody>\n</table>\n</div>"
     },
     "metadata": {},
     "execution_count": 23
    }
   ],
   "source": [
    "df_aux.groupby(by=\"id_product\")[\"age\"].describe()\n",
    "#1 parametro: Nombre de columna por la que agrupa\n",
    "#2 parametro: Nombre de columna del valor a aplicar la función\n",
    "#3 parametro: Función. En este caso, max. Tambien podriamos usar:\n",
    "# .mean() -> media\n",
    "# .min() -> valor mas pequeño\n",
    "# .count() -> conteo\n",
    "# .describe() -> resumen estadistico agrupado (count, mean, std (desviación estandard), min, max,3 cuartiles)\n",
    "# Hay muchas mas fuinciones. Ver https://pandas.pydata.org/pandas-docs/stable/reference/api/pandas.DataFrame.groupby.html \n"
   ]
  }
 ]
}