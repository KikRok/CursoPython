{
 "metadata": {
  "language_info": {
   "codemirror_mode": {
    "name": "ipython",
    "version": 3
   },
   "file_extension": ".py",
   "mimetype": "text/x-python",
   "name": "python",
   "nbconvert_exporter": "python",
   "pygments_lexer": "ipython3",
   "version": "3.7.4-final"
  },
  "orig_nbformat": 2,
  "kernelspec": {
   "name": "python3",
   "display_name": "Python 3"
  }
 },
 "nbformat": 4,
 "nbformat_minor": 2,
 "cells": [
  {
   "cell_type": "code",
   "execution_count": 1,
   "metadata": {},
   "outputs": [],
   "source": [
    "import pandas as pd\n",
    "\n",
    "df = pd.read_csv(\"C:\\\\Users\\\\e006697\\\\Documents\\\\Python_2\\\\CursoPython\\\\Python Data Science\\\\Fuentes Kike\\\\Base de datos\\\\base_datos_2008.csv\")"
   ]
  },
  {
   "cell_type": "code",
   "execution_count": 2,
   "metadata": {},
   "outputs": [
    {
     "output_type": "execute_result",
     "data": {
      "text/plain": "DayOfWeek\n1    1583.0\n2    1951.0\n3    1510.0\n4    2453.0\n5    1707.0\n6    1525.0\n7    2461.0\nName: ArrDelay, dtype: float64"
     },
     "metadata": {},
     "execution_count": 2
    }
   ],
   "source": [
    "df.groupby(by=\"DayOfWeek\")[\"ArrDelay\"].max()\n",
    "#1 parametro: Nombre de columna por la que agrupa\n",
    "#2 parametro: Nombre de columna del valor a aplicar la función\n",
    "#3 parametro: Función. En este caso, max. Tambien podriamos usar:\n",
    "# .mean() -> media\n",
    "# .min() -> valor mas pequeño\n",
    "# .count() -> conteo\n",
    "# .describe() -> resumen estadistico agrupado (count, mean, std (desviación estandard), min, max,3 cuartiles)\n",
    "# Hay muchas mas fuinciones. Ver https://pandas.pydata.org/pandas-docs/stable/reference/api/pandas.DataFrame.groupby.html \n",
    "\n",
    "#select max(ArrDelay) from df group by DayOfWeek"
   ]
  },
  {
   "cell_type": "code",
   "execution_count": 3,
   "metadata": {},
   "outputs": [
    {
     "output_type": "execute_result",
     "data": {
      "text/plain": "            ArrDelay   DepDelay\nDayOfWeek                      \n1           8.210850  10.269990\n2           7.481208   8.976897\n3           6.522017   8.289761\n4           8.411599   9.772897\n5          10.953440  12.158036\n6           5.789666   8.645681\n7           9.495886  11.568973",
      "text/html": "<div>\n<style scoped>\n    .dataframe tbody tr th:only-of-type {\n        vertical-align: middle;\n    }\n\n    .dataframe tbody tr th {\n        vertical-align: top;\n    }\n\n    .dataframe thead th {\n        text-align: right;\n    }\n</style>\n<table border=\"1\" class=\"dataframe\">\n  <thead>\n    <tr style=\"text-align: right;\">\n      <th></th>\n      <th>ArrDelay</th>\n      <th>DepDelay</th>\n    </tr>\n    <tr>\n      <th>DayOfWeek</th>\n      <th></th>\n      <th></th>\n    </tr>\n  </thead>\n  <tbody>\n    <tr>\n      <td>1</td>\n      <td>8.210850</td>\n      <td>10.269990</td>\n    </tr>\n    <tr>\n      <td>2</td>\n      <td>7.481208</td>\n      <td>8.976897</td>\n    </tr>\n    <tr>\n      <td>3</td>\n      <td>6.522017</td>\n      <td>8.289761</td>\n    </tr>\n    <tr>\n      <td>4</td>\n      <td>8.411599</td>\n      <td>9.772897</td>\n    </tr>\n    <tr>\n      <td>5</td>\n      <td>10.953440</td>\n      <td>12.158036</td>\n    </tr>\n    <tr>\n      <td>6</td>\n      <td>5.789666</td>\n      <td>8.645681</td>\n    </tr>\n    <tr>\n      <td>7</td>\n      <td>9.495886</td>\n      <td>11.568973</td>\n    </tr>\n  </tbody>\n</table>\n</div>"
     },
     "metadata": {},
     "execution_count": 3
    }
   ],
   "source": [
    "df.groupby(by=\"DayOfWeek\")[\"ArrDelay\", \"DepDelay\"].mean() #se pueden añadir mas columnas en el select"
   ]
  },
  {
   "cell_type": "code",
   "execution_count": 4,
   "metadata": {},
   "outputs": [
    {
     "output_type": "execute_result",
     "data": {
      "text/plain": "DayOfWeek\n1    2102.0\n2    2040.0\n3    1597.0\n4    2582.0\n5    1793.0\n6    1616.0\n7    2553.0\nName: ArrDelay, dtype: float64"
     },
     "metadata": {},
     "execution_count": 4
    }
   ],
   "source": [
    "df.groupby(by=\"DayOfWeek\")[\"ArrDelay\"].max() - df.groupby(by=\"DayOfWeek\")[\"ArrDelay\"].min()\n",
    "#Se pueden hacer operaciones con estos objetos groupby. En este caso, tenemos el rango"
   ]
  },
  {
   "cell_type": "code",
   "execution_count": 6,
   "metadata": {},
   "outputs": [],
   "source": [
    "dfATLHOU = df[df.Origin.isin([\"ATL\",\"HOU\"])] #Creamos un nuevo data frame, solo con los vuelos con origen en Atlanta y Houston"
   ]
  },
  {
   "cell_type": "code",
   "execution_count": 7,
   "metadata": {},
   "outputs": [
    {
     "output_type": "execute_result",
     "data": {
      "text/plain": "DayOfWeek  Origin\n1          ATL        9.123436\n           HOU        6.356856\n2          ATL        8.933587\n           HOU        9.348112\n3          ATL        8.809146\n           HOU        9.073109\n4          ATL       10.186501\n           HOU       12.994016\n5          ATL       14.797440\n           HOU       11.036545\n6          ATL        9.511662\n           HOU        4.283933\n7          ATL       13.798627\n           HOU        7.045287\nName: ArrDelay, dtype: float64"
     },
     "metadata": {},
     "execution_count": 7
    }
   ],
   "source": [
    "dfATLHOU.groupby(by=[\"DayOfWeek\", \"Origin\"])[\"ArrDelay\"].mean() #Añadimos otro campo al group by. Ojo con el orden de las columnas en el by=, ya que afecta a la visualización"
   ]
  },
  {
   "cell_type": "code",
   "execution_count": 11,
   "metadata": {},
   "outputs": [],
   "source": [
    "myGroupBy = dfATLHOU.groupby(by=[\"DayOfWeek\", \"Origin\"])[\"ArrDelay\"] #Lo podemos guardar en un objeto goupby, sin aplicar función (también ya aplicandola), para usarlo posteriormente"
   ]
  },
  {
   "cell_type": "code",
   "execution_count": 12,
   "metadata": {},
   "outputs": [
    {
     "output_type": "execute_result",
     "data": {
      "text/plain": "pandas.core.groupby.generic.SeriesGroupBy"
     },
     "metadata": {},
     "execution_count": 12
    }
   ],
   "source": [
    "type(myGroupBy)"
   ]
  },
  {
   "cell_type": "code",
   "execution_count": 15,
   "metadata": {},
   "outputs": [
    {
     "output_type": "execute_result",
     "data": {
      "text/plain": "                    count       mean        std   min   25%  50%   75%     max\nDayOfWeek Origin                                                              \n1         ATL     60598.0   9.123436  30.958642 -69.0  -8.0  1.0  14.0   407.0\n          HOU      8205.0   6.356856  28.887113 -47.0  -7.0 -2.0   9.0   383.0\n2         ATL     59732.0   8.933587  34.750658 -89.0  -9.0 -1.0  13.0   848.0\n          HOU      8368.0   9.348112  35.321852 -44.0  -7.0 -1.0  12.0   546.0\n3         ATL     60245.0   8.809146  34.343042 -56.0  -9.0  0.0  13.0   876.0\n          HOU      8330.0   9.073109  33.191673 -39.0  -7.0 -1.0  12.0   639.0\n4         ATL     59721.0  10.186501  35.261512 -51.0  -8.0  1.0  15.0   571.0\n          HOU      8188.0  12.994016  39.360946 -42.0  -6.0  1.0  17.0  1082.0\n5         ATL     60007.0  14.797440  38.859778 -51.0  -7.0  3.0  20.0   699.0\n          HOU      8209.0  11.036545  32.415069 -48.0  -6.0  1.0  16.0   560.0\n6         ATL     49734.0   9.511662  36.020584 -61.0 -10.0 -1.0  15.0   483.0\n          HOU      5614.0   4.283933  32.518381 -47.0  -9.0 -3.0   6.0   917.0\n7         ATL     57664.0  13.798627  42.466233 -86.0  -8.0  1.0  17.0   612.0\n          HOU      7331.0   7.045287  30.820505 -55.0  -7.0 -1.0  11.0   685.0",
      "text/html": "<div>\n<style scoped>\n    .dataframe tbody tr th:only-of-type {\n        vertical-align: middle;\n    }\n\n    .dataframe tbody tr th {\n        vertical-align: top;\n    }\n\n    .dataframe thead th {\n        text-align: right;\n    }\n</style>\n<table border=\"1\" class=\"dataframe\">\n  <thead>\n    <tr style=\"text-align: right;\">\n      <th></th>\n      <th></th>\n      <th>count</th>\n      <th>mean</th>\n      <th>std</th>\n      <th>min</th>\n      <th>25%</th>\n      <th>50%</th>\n      <th>75%</th>\n      <th>max</th>\n    </tr>\n    <tr>\n      <th>DayOfWeek</th>\n      <th>Origin</th>\n      <th></th>\n      <th></th>\n      <th></th>\n      <th></th>\n      <th></th>\n      <th></th>\n      <th></th>\n      <th></th>\n    </tr>\n  </thead>\n  <tbody>\n    <tr>\n      <td rowspan=\"2\" valign=\"top\">1</td>\n      <td>ATL</td>\n      <td>60598.0</td>\n      <td>9.123436</td>\n      <td>30.958642</td>\n      <td>-69.0</td>\n      <td>-8.0</td>\n      <td>1.0</td>\n      <td>14.0</td>\n      <td>407.0</td>\n    </tr>\n    <tr>\n      <td>HOU</td>\n      <td>8205.0</td>\n      <td>6.356856</td>\n      <td>28.887113</td>\n      <td>-47.0</td>\n      <td>-7.0</td>\n      <td>-2.0</td>\n      <td>9.0</td>\n      <td>383.0</td>\n    </tr>\n    <tr>\n      <td rowspan=\"2\" valign=\"top\">2</td>\n      <td>ATL</td>\n      <td>59732.0</td>\n      <td>8.933587</td>\n      <td>34.750658</td>\n      <td>-89.0</td>\n      <td>-9.0</td>\n      <td>-1.0</td>\n      <td>13.0</td>\n      <td>848.0</td>\n    </tr>\n    <tr>\n      <td>HOU</td>\n      <td>8368.0</td>\n      <td>9.348112</td>\n      <td>35.321852</td>\n      <td>-44.0</td>\n      <td>-7.0</td>\n      <td>-1.0</td>\n      <td>12.0</td>\n      <td>546.0</td>\n    </tr>\n    <tr>\n      <td rowspan=\"2\" valign=\"top\">3</td>\n      <td>ATL</td>\n      <td>60245.0</td>\n      <td>8.809146</td>\n      <td>34.343042</td>\n      <td>-56.0</td>\n      <td>-9.0</td>\n      <td>0.0</td>\n      <td>13.0</td>\n      <td>876.0</td>\n    </tr>\n    <tr>\n      <td>HOU</td>\n      <td>8330.0</td>\n      <td>9.073109</td>\n      <td>33.191673</td>\n      <td>-39.0</td>\n      <td>-7.0</td>\n      <td>-1.0</td>\n      <td>12.0</td>\n      <td>639.0</td>\n    </tr>\n    <tr>\n      <td rowspan=\"2\" valign=\"top\">4</td>\n      <td>ATL</td>\n      <td>59721.0</td>\n      <td>10.186501</td>\n      <td>35.261512</td>\n      <td>-51.0</td>\n      <td>-8.0</td>\n      <td>1.0</td>\n      <td>15.0</td>\n      <td>571.0</td>\n    </tr>\n    <tr>\n      <td>HOU</td>\n      <td>8188.0</td>\n      <td>12.994016</td>\n      <td>39.360946</td>\n      <td>-42.0</td>\n      <td>-6.0</td>\n      <td>1.0</td>\n      <td>17.0</td>\n      <td>1082.0</td>\n    </tr>\n    <tr>\n      <td rowspan=\"2\" valign=\"top\">5</td>\n      <td>ATL</td>\n      <td>60007.0</td>\n      <td>14.797440</td>\n      <td>38.859778</td>\n      <td>-51.0</td>\n      <td>-7.0</td>\n      <td>3.0</td>\n      <td>20.0</td>\n      <td>699.0</td>\n    </tr>\n    <tr>\n      <td>HOU</td>\n      <td>8209.0</td>\n      <td>11.036545</td>\n      <td>32.415069</td>\n      <td>-48.0</td>\n      <td>-6.0</td>\n      <td>1.0</td>\n      <td>16.0</td>\n      <td>560.0</td>\n    </tr>\n    <tr>\n      <td rowspan=\"2\" valign=\"top\">6</td>\n      <td>ATL</td>\n      <td>49734.0</td>\n      <td>9.511662</td>\n      <td>36.020584</td>\n      <td>-61.0</td>\n      <td>-10.0</td>\n      <td>-1.0</td>\n      <td>15.0</td>\n      <td>483.0</td>\n    </tr>\n    <tr>\n      <td>HOU</td>\n      <td>5614.0</td>\n      <td>4.283933</td>\n      <td>32.518381</td>\n      <td>-47.0</td>\n      <td>-9.0</td>\n      <td>-3.0</td>\n      <td>6.0</td>\n      <td>917.0</td>\n    </tr>\n    <tr>\n      <td rowspan=\"2\" valign=\"top\">7</td>\n      <td>ATL</td>\n      <td>57664.0</td>\n      <td>13.798627</td>\n      <td>42.466233</td>\n      <td>-86.0</td>\n      <td>-8.0</td>\n      <td>1.0</td>\n      <td>17.0</td>\n      <td>612.0</td>\n    </tr>\n    <tr>\n      <td>HOU</td>\n      <td>7331.0</td>\n      <td>7.045287</td>\n      <td>30.820505</td>\n      <td>-55.0</td>\n      <td>-7.0</td>\n      <td>-1.0</td>\n      <td>11.0</td>\n      <td>685.0</td>\n    </tr>\n  </tbody>\n</table>\n</div>"
     },
     "metadata": {},
     "execution_count": 15
    }
   ],
   "source": [
    "myGroupBy.describe()"
   ]
  }
 ]
}