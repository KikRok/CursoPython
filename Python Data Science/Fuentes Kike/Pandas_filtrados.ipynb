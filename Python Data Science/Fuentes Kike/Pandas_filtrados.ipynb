{
 "metadata": {
  "language_info": {
   "codemirror_mode": {
    "name": "ipython",
    "version": 3
   },
   "file_extension": ".py",
   "mimetype": "text/x-python",
   "name": "python",
   "nbconvert_exporter": "python",
   "pygments_lexer": "ipython3",
   "version": "3.7.4-final"
  },
  "orig_nbformat": 2,
  "kernelspec": {
   "name": "python3",
   "display_name": "Python 3"
  }
 },
 "nbformat": 4,
 "nbformat_minor": 2,
 "cells": [
  {
   "cell_type": "code",
   "execution_count": 1,
   "metadata": {},
   "outputs": [],
   "source": [
    "import pandas as pd\n",
    "\n",
    "df = pd.read_csv(\"C:\\\\Users\\\\e006697\\\\Documents\\\\Python_2\\\\CursoPython\\\\Python Data Science\\\\Fuentes Kike\\\\Base de datos\\\\base_datos_2008.csv\")"
   ]
  },
  {
   "cell_type": "code",
   "execution_count": 2,
   "metadata": {},
   "outputs": [
    {
     "output_type": "execute_result",
     "data": {
      "text/plain": "0   -14.0\n1     2.0\n2    14.0\n3    -6.0\n4    34.0\nName: ArrDelay, dtype: float64"
     },
     "metadata": {},
     "execution_count": 2
    }
   ],
   "source": [
    "df[\"ArrDelay\"].head() #Obtener los valores de la columna ArrDelay. El head es para enseñar solo los 5 primeros"
   ]
  },
  {
   "cell_type": "code",
   "execution_count": 4,
   "metadata": {},
   "outputs": [
    {
     "output_type": "execute_result",
     "data": {
      "text/plain": "     Year  Month  DayofMonth  DayOfWeek  DepTime  CRSDepTime  ArrTime  \\\n100  2008      1           3          4    826.0         825    930.0   \n101  2008      1           3          4   2118.0        2015   2224.0   \n102  2008      1           3          4   1818.0        1740   1916.0   \n103  2008      1           3          4    650.0         650    748.0   \n104  2008      1           3          4   2146.0        2055   2250.0   \n105  2008      1           3          4   2241.0        1910   2340.0   \n106  2008      1           3          4   1409.0        1355   1513.0   \n107  2008      1           3          4   1100.0        1050   1157.0   \n108  2008      1           3          4   1306.0        1250   1406.0   \n109  2008      1           3          4   1726.0        1630   1832.0   \n\n     CRSArrTime UniqueCarrier  FlightNum  ... TaxiIn  TaxiOut  Cancelled  \\\n100         925            WN        136  ...    2.0     16.0          0   \n101        2115            WN        219  ...    3.0     17.0          0   \n102        1840            WN        391  ...    2.0     10.0          0   \n103         750            WN        670  ...    3.0      8.0          0   \n104        2155            WN        815  ...    3.0     13.0          0   \n105        2010            WN       1072  ...    3.0     13.0          0   \n106        1500            WN       1328  ...    2.0     12.0          0   \n107        1155            WN       1586  ...    2.0      9.0          0   \n108        1355            WN       1838  ...    2.0     11.0          0   \n109        1740            WN       2284  ...    2.0     18.0          0   \n\n     CancellationCode  Diverted  CarrierDelay WeatherDelay NASDelay  \\\n100               NaN         0           NaN          NaN      NaN   \n101               NaN         0          17.0          0.0      6.0   \n102               NaN         0          20.0          0.0      0.0   \n103               NaN         0           NaN          NaN      NaN   \n104               NaN         0           4.0          0.0      4.0   \n105               NaN         0         114.0          0.0      0.0   \n106               NaN         0           NaN          NaN      NaN   \n107               NaN         0           NaN          NaN      NaN   \n108               NaN         0           NaN          NaN      NaN   \n109               NaN         0           1.0          0.0      0.0   \n\n     SecurityDelay  LateAircraftDelay  \n100            NaN                NaN  \n101            0.0               46.0  \n102            0.0               16.0  \n103            NaN                NaN  \n104            0.0               47.0  \n105            0.0               96.0  \n106            NaN                NaN  \n107            NaN                NaN  \n108            NaN                NaN  \n109            0.0               51.0  \n\n[10 rows x 29 columns]",
      "text/html": "<div>\n<style scoped>\n    .dataframe tbody tr th:only-of-type {\n        vertical-align: middle;\n    }\n\n    .dataframe tbody tr th {\n        vertical-align: top;\n    }\n\n    .dataframe thead th {\n        text-align: right;\n    }\n</style>\n<table border=\"1\" class=\"dataframe\">\n  <thead>\n    <tr style=\"text-align: right;\">\n      <th></th>\n      <th>Year</th>\n      <th>Month</th>\n      <th>DayofMonth</th>\n      <th>DayOfWeek</th>\n      <th>DepTime</th>\n      <th>CRSDepTime</th>\n      <th>ArrTime</th>\n      <th>CRSArrTime</th>\n      <th>UniqueCarrier</th>\n      <th>FlightNum</th>\n      <th>...</th>\n      <th>TaxiIn</th>\n      <th>TaxiOut</th>\n      <th>Cancelled</th>\n      <th>CancellationCode</th>\n      <th>Diverted</th>\n      <th>CarrierDelay</th>\n      <th>WeatherDelay</th>\n      <th>NASDelay</th>\n      <th>SecurityDelay</th>\n      <th>LateAircraftDelay</th>\n    </tr>\n  </thead>\n  <tbody>\n    <tr>\n      <td>100</td>\n      <td>2008</td>\n      <td>1</td>\n      <td>3</td>\n      <td>4</td>\n      <td>826.0</td>\n      <td>825</td>\n      <td>930.0</td>\n      <td>925</td>\n      <td>WN</td>\n      <td>136</td>\n      <td>...</td>\n      <td>2.0</td>\n      <td>16.0</td>\n      <td>0</td>\n      <td>NaN</td>\n      <td>0</td>\n      <td>NaN</td>\n      <td>NaN</td>\n      <td>NaN</td>\n      <td>NaN</td>\n      <td>NaN</td>\n    </tr>\n    <tr>\n      <td>101</td>\n      <td>2008</td>\n      <td>1</td>\n      <td>3</td>\n      <td>4</td>\n      <td>2118.0</td>\n      <td>2015</td>\n      <td>2224.0</td>\n      <td>2115</td>\n      <td>WN</td>\n      <td>219</td>\n      <td>...</td>\n      <td>3.0</td>\n      <td>17.0</td>\n      <td>0</td>\n      <td>NaN</td>\n      <td>0</td>\n      <td>17.0</td>\n      <td>0.0</td>\n      <td>6.0</td>\n      <td>0.0</td>\n      <td>46.0</td>\n    </tr>\n    <tr>\n      <td>102</td>\n      <td>2008</td>\n      <td>1</td>\n      <td>3</td>\n      <td>4</td>\n      <td>1818.0</td>\n      <td>1740</td>\n      <td>1916.0</td>\n      <td>1840</td>\n      <td>WN</td>\n      <td>391</td>\n      <td>...</td>\n      <td>2.0</td>\n      <td>10.0</td>\n      <td>0</td>\n      <td>NaN</td>\n      <td>0</td>\n      <td>20.0</td>\n      <td>0.0</td>\n      <td>0.0</td>\n      <td>0.0</td>\n      <td>16.0</td>\n    </tr>\n    <tr>\n      <td>103</td>\n      <td>2008</td>\n      <td>1</td>\n      <td>3</td>\n      <td>4</td>\n      <td>650.0</td>\n      <td>650</td>\n      <td>748.0</td>\n      <td>750</td>\n      <td>WN</td>\n      <td>670</td>\n      <td>...</td>\n      <td>3.0</td>\n      <td>8.0</td>\n      <td>0</td>\n      <td>NaN</td>\n      <td>0</td>\n      <td>NaN</td>\n      <td>NaN</td>\n      <td>NaN</td>\n      <td>NaN</td>\n      <td>NaN</td>\n    </tr>\n    <tr>\n      <td>104</td>\n      <td>2008</td>\n      <td>1</td>\n      <td>3</td>\n      <td>4</td>\n      <td>2146.0</td>\n      <td>2055</td>\n      <td>2250.0</td>\n      <td>2155</td>\n      <td>WN</td>\n      <td>815</td>\n      <td>...</td>\n      <td>3.0</td>\n      <td>13.0</td>\n      <td>0</td>\n      <td>NaN</td>\n      <td>0</td>\n      <td>4.0</td>\n      <td>0.0</td>\n      <td>4.0</td>\n      <td>0.0</td>\n      <td>47.0</td>\n    </tr>\n    <tr>\n      <td>105</td>\n      <td>2008</td>\n      <td>1</td>\n      <td>3</td>\n      <td>4</td>\n      <td>2241.0</td>\n      <td>1910</td>\n      <td>2340.0</td>\n      <td>2010</td>\n      <td>WN</td>\n      <td>1072</td>\n      <td>...</td>\n      <td>3.0</td>\n      <td>13.0</td>\n      <td>0</td>\n      <td>NaN</td>\n      <td>0</td>\n      <td>114.0</td>\n      <td>0.0</td>\n      <td>0.0</td>\n      <td>0.0</td>\n      <td>96.0</td>\n    </tr>\n    <tr>\n      <td>106</td>\n      <td>2008</td>\n      <td>1</td>\n      <td>3</td>\n      <td>4</td>\n      <td>1409.0</td>\n      <td>1355</td>\n      <td>1513.0</td>\n      <td>1500</td>\n      <td>WN</td>\n      <td>1328</td>\n      <td>...</td>\n      <td>2.0</td>\n      <td>12.0</td>\n      <td>0</td>\n      <td>NaN</td>\n      <td>0</td>\n      <td>NaN</td>\n      <td>NaN</td>\n      <td>NaN</td>\n      <td>NaN</td>\n      <td>NaN</td>\n    </tr>\n    <tr>\n      <td>107</td>\n      <td>2008</td>\n      <td>1</td>\n      <td>3</td>\n      <td>4</td>\n      <td>1100.0</td>\n      <td>1050</td>\n      <td>1157.0</td>\n      <td>1155</td>\n      <td>WN</td>\n      <td>1586</td>\n      <td>...</td>\n      <td>2.0</td>\n      <td>9.0</td>\n      <td>0</td>\n      <td>NaN</td>\n      <td>0</td>\n      <td>NaN</td>\n      <td>NaN</td>\n      <td>NaN</td>\n      <td>NaN</td>\n      <td>NaN</td>\n    </tr>\n    <tr>\n      <td>108</td>\n      <td>2008</td>\n      <td>1</td>\n      <td>3</td>\n      <td>4</td>\n      <td>1306.0</td>\n      <td>1250</td>\n      <td>1406.0</td>\n      <td>1355</td>\n      <td>WN</td>\n      <td>1838</td>\n      <td>...</td>\n      <td>2.0</td>\n      <td>11.0</td>\n      <td>0</td>\n      <td>NaN</td>\n      <td>0</td>\n      <td>NaN</td>\n      <td>NaN</td>\n      <td>NaN</td>\n      <td>NaN</td>\n      <td>NaN</td>\n    </tr>\n    <tr>\n      <td>109</td>\n      <td>2008</td>\n      <td>1</td>\n      <td>3</td>\n      <td>4</td>\n      <td>1726.0</td>\n      <td>1630</td>\n      <td>1832.0</td>\n      <td>1740</td>\n      <td>WN</td>\n      <td>2284</td>\n      <td>...</td>\n      <td>2.0</td>\n      <td>18.0</td>\n      <td>0</td>\n      <td>NaN</td>\n      <td>0</td>\n      <td>1.0</td>\n      <td>0.0</td>\n      <td>0.0</td>\n      <td>0.0</td>\n      <td>51.0</td>\n    </tr>\n  </tbody>\n</table>\n<p>10 rows × 29 columns</p>\n</div>"
     },
     "metadata": {},
     "execution_count": 4
    }
   ],
   "source": [
    "df[100:110] #Información por filas"
   ]
  },
  {
   "cell_type": "code",
   "execution_count": 6,
   "metadata": {},
   "outputs": [
    {
     "output_type": "execute_result",
     "data": {
      "text/plain": "   Year  Month  DayofMonth  DayOfWeek  DepTime  CRSDepTime  ArrTime  \\\n0  2008      1           3          4   2003.0        1955   2211.0   \n1  2008      1           3          4    754.0         735   1002.0   \n2  2008      1           3          4    628.0         620    804.0   \n3  2008      1           3          4    926.0         930   1054.0   \n4  2008      1           3          4   1829.0        1755   1959.0   \n\n   CRSArrTime UniqueCarrier  FlightNum  ... TaxiIn  TaxiOut  Cancelled  \\\n0        2225            WN        335  ...    4.0      8.0          0   \n1        1000            WN       3231  ...    5.0     10.0          0   \n2         750            WN        448  ...    3.0     17.0          0   \n3        1100            WN       1746  ...    3.0      7.0          0   \n4        1925            WN       3920  ...    3.0     10.0          0   \n\n   CancellationCode  Diverted  CarrierDelay WeatherDelay NASDelay  \\\n0               NaN         0           NaN          NaN      NaN   \n1               NaN         0           NaN          NaN      NaN   \n2               NaN         0           NaN          NaN      NaN   \n3               NaN         0           NaN          NaN      NaN   \n4               NaN         0           2.0          0.0      0.0   \n\n   SecurityDelay  LateAircraftDelay  \n0            NaN                NaN  \n1            NaN                NaN  \n2            NaN                NaN  \n3            NaN                NaN  \n4            0.0               32.0  \n\n[5 rows x 29 columns]",
      "text/html": "<div>\n<style scoped>\n    .dataframe tbody tr th:only-of-type {\n        vertical-align: middle;\n    }\n\n    .dataframe tbody tr th {\n        vertical-align: top;\n    }\n\n    .dataframe thead th {\n        text-align: right;\n    }\n</style>\n<table border=\"1\" class=\"dataframe\">\n  <thead>\n    <tr style=\"text-align: right;\">\n      <th></th>\n      <th>Year</th>\n      <th>Month</th>\n      <th>DayofMonth</th>\n      <th>DayOfWeek</th>\n      <th>DepTime</th>\n      <th>CRSDepTime</th>\n      <th>ArrTime</th>\n      <th>CRSArrTime</th>\n      <th>UniqueCarrier</th>\n      <th>FlightNum</th>\n      <th>...</th>\n      <th>TaxiIn</th>\n      <th>TaxiOut</th>\n      <th>Cancelled</th>\n      <th>CancellationCode</th>\n      <th>Diverted</th>\n      <th>CarrierDelay</th>\n      <th>WeatherDelay</th>\n      <th>NASDelay</th>\n      <th>SecurityDelay</th>\n      <th>LateAircraftDelay</th>\n    </tr>\n  </thead>\n  <tbody>\n    <tr>\n      <td>0</td>\n      <td>2008</td>\n      <td>1</td>\n      <td>3</td>\n      <td>4</td>\n      <td>2003.0</td>\n      <td>1955</td>\n      <td>2211.0</td>\n      <td>2225</td>\n      <td>WN</td>\n      <td>335</td>\n      <td>...</td>\n      <td>4.0</td>\n      <td>8.0</td>\n      <td>0</td>\n      <td>NaN</td>\n      <td>0</td>\n      <td>NaN</td>\n      <td>NaN</td>\n      <td>NaN</td>\n      <td>NaN</td>\n      <td>NaN</td>\n    </tr>\n    <tr>\n      <td>1</td>\n      <td>2008</td>\n      <td>1</td>\n      <td>3</td>\n      <td>4</td>\n      <td>754.0</td>\n      <td>735</td>\n      <td>1002.0</td>\n      <td>1000</td>\n      <td>WN</td>\n      <td>3231</td>\n      <td>...</td>\n      <td>5.0</td>\n      <td>10.0</td>\n      <td>0</td>\n      <td>NaN</td>\n      <td>0</td>\n      <td>NaN</td>\n      <td>NaN</td>\n      <td>NaN</td>\n      <td>NaN</td>\n      <td>NaN</td>\n    </tr>\n    <tr>\n      <td>2</td>\n      <td>2008</td>\n      <td>1</td>\n      <td>3</td>\n      <td>4</td>\n      <td>628.0</td>\n      <td>620</td>\n      <td>804.0</td>\n      <td>750</td>\n      <td>WN</td>\n      <td>448</td>\n      <td>...</td>\n      <td>3.0</td>\n      <td>17.0</td>\n      <td>0</td>\n      <td>NaN</td>\n      <td>0</td>\n      <td>NaN</td>\n      <td>NaN</td>\n      <td>NaN</td>\n      <td>NaN</td>\n      <td>NaN</td>\n    </tr>\n    <tr>\n      <td>3</td>\n      <td>2008</td>\n      <td>1</td>\n      <td>3</td>\n      <td>4</td>\n      <td>926.0</td>\n      <td>930</td>\n      <td>1054.0</td>\n      <td>1100</td>\n      <td>WN</td>\n      <td>1746</td>\n      <td>...</td>\n      <td>3.0</td>\n      <td>7.0</td>\n      <td>0</td>\n      <td>NaN</td>\n      <td>0</td>\n      <td>NaN</td>\n      <td>NaN</td>\n      <td>NaN</td>\n      <td>NaN</td>\n      <td>NaN</td>\n    </tr>\n    <tr>\n      <td>4</td>\n      <td>2008</td>\n      <td>1</td>\n      <td>3</td>\n      <td>4</td>\n      <td>1829.0</td>\n      <td>1755</td>\n      <td>1959.0</td>\n      <td>1925</td>\n      <td>WN</td>\n      <td>3920</td>\n      <td>...</td>\n      <td>3.0</td>\n      <td>10.0</td>\n      <td>0</td>\n      <td>NaN</td>\n      <td>0</td>\n      <td>2.0</td>\n      <td>0.0</td>\n      <td>0.0</td>\n      <td>0.0</td>\n      <td>32.0</td>\n    </tr>\n  </tbody>\n</table>\n<p>5 rows × 29 columns</p>\n</div>"
     },
     "metadata": {},
     "execution_count": 6
    }
   ],
   "source": [
    "df[df[\"ArrDelay\"] < 60].head() # Filtramos por los registros que el valor de ArrDelay sea inferior a 60. El head para mostrar solo los 5 primeros"
   ]
  },
  {
   "cell_type": "code",
   "execution_count": 7,
   "metadata": {},
   "outputs": [
    {
     "output_type": "execute_result",
     "data": {
      "text/plain": "    Year  Month  DayofMonth  DayOfWeek  DepTime  CRSDepTime  ArrTime  \\\n11  2008      1           3          4   1644.0        1510   1845.0   \n30  2008      1           3          4   2107.0        1945   2334.0   \n37  2008      1           3          4   1812.0        1650   1927.0   \n49  2008      1           3          4   2245.0        1730   2354.0   \n77  2008      1           3          4    958.0         900   1052.0   \n\n    CRSArrTime UniqueCarrier  FlightNum  ... TaxiIn  TaxiOut  Cancelled  \\\n11        1725            WN       1333  ...    6.0      8.0          0   \n30        2230            WN        362  ...    6.0      7.0          0   \n37        1815            WN        422  ...    6.0     11.0          0   \n49        1850            WN        186  ...    3.0      7.0          0   \n77         950            WN       1574  ...    4.0     14.0          0   \n\n    CancellationCode  Diverted  CarrierDelay WeatherDelay NASDelay  \\\n11               NaN         0           8.0          0.0      0.0   \n30               NaN         0           5.0          0.0      0.0   \n37               NaN         0           3.0          0.0      0.0   \n49               NaN         0         282.0          0.0      0.0   \n77               NaN         0           0.0          0.0      4.0   \n\n    SecurityDelay  LateAircraftDelay  \n11            0.0               72.0  \n30            0.0               59.0  \n37            0.0               69.0  \n49            0.0               22.0  \n77            0.0               58.0  \n\n[5 rows x 29 columns]",
      "text/html": "<div>\n<style scoped>\n    .dataframe tbody tr th:only-of-type {\n        vertical-align: middle;\n    }\n\n    .dataframe tbody tr th {\n        vertical-align: top;\n    }\n\n    .dataframe thead th {\n        text-align: right;\n    }\n</style>\n<table border=\"1\" class=\"dataframe\">\n  <thead>\n    <tr style=\"text-align: right;\">\n      <th></th>\n      <th>Year</th>\n      <th>Month</th>\n      <th>DayofMonth</th>\n      <th>DayOfWeek</th>\n      <th>DepTime</th>\n      <th>CRSDepTime</th>\n      <th>ArrTime</th>\n      <th>CRSArrTime</th>\n      <th>UniqueCarrier</th>\n      <th>FlightNum</th>\n      <th>...</th>\n      <th>TaxiIn</th>\n      <th>TaxiOut</th>\n      <th>Cancelled</th>\n      <th>CancellationCode</th>\n      <th>Diverted</th>\n      <th>CarrierDelay</th>\n      <th>WeatherDelay</th>\n      <th>NASDelay</th>\n      <th>SecurityDelay</th>\n      <th>LateAircraftDelay</th>\n    </tr>\n  </thead>\n  <tbody>\n    <tr>\n      <td>11</td>\n      <td>2008</td>\n      <td>1</td>\n      <td>3</td>\n      <td>4</td>\n      <td>1644.0</td>\n      <td>1510</td>\n      <td>1845.0</td>\n      <td>1725</td>\n      <td>WN</td>\n      <td>1333</td>\n      <td>...</td>\n      <td>6.0</td>\n      <td>8.0</td>\n      <td>0</td>\n      <td>NaN</td>\n      <td>0</td>\n      <td>8.0</td>\n      <td>0.0</td>\n      <td>0.0</td>\n      <td>0.0</td>\n      <td>72.0</td>\n    </tr>\n    <tr>\n      <td>30</td>\n      <td>2008</td>\n      <td>1</td>\n      <td>3</td>\n      <td>4</td>\n      <td>2107.0</td>\n      <td>1945</td>\n      <td>2334.0</td>\n      <td>2230</td>\n      <td>WN</td>\n      <td>362</td>\n      <td>...</td>\n      <td>6.0</td>\n      <td>7.0</td>\n      <td>0</td>\n      <td>NaN</td>\n      <td>0</td>\n      <td>5.0</td>\n      <td>0.0</td>\n      <td>0.0</td>\n      <td>0.0</td>\n      <td>59.0</td>\n    </tr>\n    <tr>\n      <td>37</td>\n      <td>2008</td>\n      <td>1</td>\n      <td>3</td>\n      <td>4</td>\n      <td>1812.0</td>\n      <td>1650</td>\n      <td>1927.0</td>\n      <td>1815</td>\n      <td>WN</td>\n      <td>422</td>\n      <td>...</td>\n      <td>6.0</td>\n      <td>11.0</td>\n      <td>0</td>\n      <td>NaN</td>\n      <td>0</td>\n      <td>3.0</td>\n      <td>0.0</td>\n      <td>0.0</td>\n      <td>0.0</td>\n      <td>69.0</td>\n    </tr>\n    <tr>\n      <td>49</td>\n      <td>2008</td>\n      <td>1</td>\n      <td>3</td>\n      <td>4</td>\n      <td>2245.0</td>\n      <td>1730</td>\n      <td>2354.0</td>\n      <td>1850</td>\n      <td>WN</td>\n      <td>186</td>\n      <td>...</td>\n      <td>3.0</td>\n      <td>7.0</td>\n      <td>0</td>\n      <td>NaN</td>\n      <td>0</td>\n      <td>282.0</td>\n      <td>0.0</td>\n      <td>0.0</td>\n      <td>0.0</td>\n      <td>22.0</td>\n    </tr>\n    <tr>\n      <td>77</td>\n      <td>2008</td>\n      <td>1</td>\n      <td>3</td>\n      <td>4</td>\n      <td>958.0</td>\n      <td>900</td>\n      <td>1052.0</td>\n      <td>950</td>\n      <td>WN</td>\n      <td>1574</td>\n      <td>...</td>\n      <td>4.0</td>\n      <td>14.0</td>\n      <td>0</td>\n      <td>NaN</td>\n      <td>0</td>\n      <td>0.0</td>\n      <td>0.0</td>\n      <td>4.0</td>\n      <td>0.0</td>\n      <td>58.0</td>\n    </tr>\n  </tbody>\n</table>\n<p>5 rows × 29 columns</p>\n</div>"
     },
     "metadata": {},
     "execution_count": 7
    }
   ],
   "source": [
    "df[df[\"ArrDelay\"] > 60].head()"
   ]
  },
  {
   "cell_type": "code",
   "execution_count": 8,
   "metadata": {},
   "outputs": [
    {
     "output_type": "execute_result",
     "data": {
      "text/plain": "      Year  Month  DayofMonth  DayOfWeek  DepTime  CRSDepTime  ArrTime  \\\n96    2008      1           3          4   2039.0        1930    155.0   \n423   2008      1           3          4   2117.0        2010   2355.0   \n610   2008      1           3          4   1942.0        1840   2205.0   \n1356  2008      1           3          4   1933.0        1835   1955.0   \n3574  2008      1           4          5   1600.0        1510   2355.0   \n\n      CRSArrTime UniqueCarrier  FlightNum  ... TaxiIn  TaxiOut  Cancelled  \\\n96            55            WN       3940  ...    5.0     14.0          0   \n423         2255            WN       1485  ...    4.0     10.0          0   \n610         2105            WN       3332  ...    4.0      9.0          0   \n1356        1855            WN        921  ...    2.0     10.0          0   \n3574        2255            WN       3144  ...    5.0     13.0          0   \n\n      CancellationCode  Diverted  CarrierDelay WeatherDelay NASDelay  \\\n96                 NaN         0           0.0          0.0     22.0   \n423                NaN         0           0.0          0.0      1.0   \n610                NaN         0          60.0          0.0      0.0   \n1356               NaN         0           0.0          0.0      3.0   \n3574               NaN         0           5.0          0.0     10.0   \n\n      SecurityDelay  LateAircraftDelay  \n96              0.0               38.0  \n423             0.0               59.0  \n610             0.0                0.0  \n1356            0.0               57.0  \n3574            0.0               45.0  \n\n[5 rows x 29 columns]",
      "text/html": "<div>\n<style scoped>\n    .dataframe tbody tr th:only-of-type {\n        vertical-align: middle;\n    }\n\n    .dataframe tbody tr th {\n        vertical-align: top;\n    }\n\n    .dataframe thead th {\n        text-align: right;\n    }\n</style>\n<table border=\"1\" class=\"dataframe\">\n  <thead>\n    <tr style=\"text-align: right;\">\n      <th></th>\n      <th>Year</th>\n      <th>Month</th>\n      <th>DayofMonth</th>\n      <th>DayOfWeek</th>\n      <th>DepTime</th>\n      <th>CRSDepTime</th>\n      <th>ArrTime</th>\n      <th>CRSArrTime</th>\n      <th>UniqueCarrier</th>\n      <th>FlightNum</th>\n      <th>...</th>\n      <th>TaxiIn</th>\n      <th>TaxiOut</th>\n      <th>Cancelled</th>\n      <th>CancellationCode</th>\n      <th>Diverted</th>\n      <th>CarrierDelay</th>\n      <th>WeatherDelay</th>\n      <th>NASDelay</th>\n      <th>SecurityDelay</th>\n      <th>LateAircraftDelay</th>\n    </tr>\n  </thead>\n  <tbody>\n    <tr>\n      <td>96</td>\n      <td>2008</td>\n      <td>1</td>\n      <td>3</td>\n      <td>4</td>\n      <td>2039.0</td>\n      <td>1930</td>\n      <td>155.0</td>\n      <td>55</td>\n      <td>WN</td>\n      <td>3940</td>\n      <td>...</td>\n      <td>5.0</td>\n      <td>14.0</td>\n      <td>0</td>\n      <td>NaN</td>\n      <td>0</td>\n      <td>0.0</td>\n      <td>0.0</td>\n      <td>22.0</td>\n      <td>0.0</td>\n      <td>38.0</td>\n    </tr>\n    <tr>\n      <td>423</td>\n      <td>2008</td>\n      <td>1</td>\n      <td>3</td>\n      <td>4</td>\n      <td>2117.0</td>\n      <td>2010</td>\n      <td>2355.0</td>\n      <td>2255</td>\n      <td>WN</td>\n      <td>1485</td>\n      <td>...</td>\n      <td>4.0</td>\n      <td>10.0</td>\n      <td>0</td>\n      <td>NaN</td>\n      <td>0</td>\n      <td>0.0</td>\n      <td>0.0</td>\n      <td>1.0</td>\n      <td>0.0</td>\n      <td>59.0</td>\n    </tr>\n    <tr>\n      <td>610</td>\n      <td>2008</td>\n      <td>1</td>\n      <td>3</td>\n      <td>4</td>\n      <td>1942.0</td>\n      <td>1840</td>\n      <td>2205.0</td>\n      <td>2105</td>\n      <td>WN</td>\n      <td>3332</td>\n      <td>...</td>\n      <td>4.0</td>\n      <td>9.0</td>\n      <td>0</td>\n      <td>NaN</td>\n      <td>0</td>\n      <td>60.0</td>\n      <td>0.0</td>\n      <td>0.0</td>\n      <td>0.0</td>\n      <td>0.0</td>\n    </tr>\n    <tr>\n      <td>1356</td>\n      <td>2008</td>\n      <td>1</td>\n      <td>3</td>\n      <td>4</td>\n      <td>1933.0</td>\n      <td>1835</td>\n      <td>1955.0</td>\n      <td>1855</td>\n      <td>WN</td>\n      <td>921</td>\n      <td>...</td>\n      <td>2.0</td>\n      <td>10.0</td>\n      <td>0</td>\n      <td>NaN</td>\n      <td>0</td>\n      <td>0.0</td>\n      <td>0.0</td>\n      <td>3.0</td>\n      <td>0.0</td>\n      <td>57.0</td>\n    </tr>\n    <tr>\n      <td>3574</td>\n      <td>2008</td>\n      <td>1</td>\n      <td>4</td>\n      <td>5</td>\n      <td>1600.0</td>\n      <td>1510</td>\n      <td>2355.0</td>\n      <td>2255</td>\n      <td>WN</td>\n      <td>3144</td>\n      <td>...</td>\n      <td>5.0</td>\n      <td>13.0</td>\n      <td>0</td>\n      <td>NaN</td>\n      <td>0</td>\n      <td>5.0</td>\n      <td>0.0</td>\n      <td>10.0</td>\n      <td>0.0</td>\n      <td>45.0</td>\n    </tr>\n  </tbody>\n</table>\n<p>5 rows × 29 columns</p>\n</div>"
     },
     "metadata": {},
     "execution_count": 8
    }
   ],
   "source": [
    "df[df[\"ArrDelay\"] == 60].head()"
   ]
  },
  {
   "cell_type": "code",
   "execution_count": 9,
   "metadata": {},
   "outputs": [
    {
     "output_type": "execute_result",
     "data": {
      "text/plain": "        Year  Month  DayofMonth  DayOfWeek  DepTime  CRSDepTime  ArrTime  \\\n103149  2008      1          21          1   1207.0        1210   1346.0   \n103572  2008      1          12          6   1458.0        1500   1622.0   \n104019  2008      1          20          7   1403.0        1330   1625.0   \n104124  2008      1          26          6   1629.0        1630   1832.0   \n104485  2008      1           4          5   1336.0        1340   1501.0   \n\n        CRSArrTime UniqueCarrier  FlightNum  ... TaxiIn  TaxiOut  Cancelled  \\\n103149        1335            XE       2349  ...   11.0     13.0          0   \n103572        1620            XE       2145  ...    6.0     17.0          0   \n104019        1608            XE       1284  ...    6.0     32.0          0   \n104124        1902            XE       1241  ...    9.0     15.0          0   \n104485        1500            XE       2112  ...   12.0     12.0          0   \n\n        CancellationCode  Diverted  CarrierDelay WeatherDelay NASDelay  \\\n103149               NaN         0           NaN          NaN      NaN   \n103572               NaN         0           NaN          NaN      NaN   \n104019               NaN         0           0.0          0.0     17.0   \n104124               NaN         0           NaN          NaN      NaN   \n104485               NaN         0           NaN          NaN      NaN   \n\n        SecurityDelay  LateAircraftDelay  \n103149            NaN                NaN  \n103572            NaN                NaN  \n104019            0.0                0.0  \n104124            NaN                NaN  \n104485            NaN                NaN  \n\n[5 rows x 29 columns]",
      "text/html": "<div>\n<style scoped>\n    .dataframe tbody tr th:only-of-type {\n        vertical-align: middle;\n    }\n\n    .dataframe tbody tr th {\n        vertical-align: top;\n    }\n\n    .dataframe thead th {\n        text-align: right;\n    }\n</style>\n<table border=\"1\" class=\"dataframe\">\n  <thead>\n    <tr style=\"text-align: right;\">\n      <th></th>\n      <th>Year</th>\n      <th>Month</th>\n      <th>DayofMonth</th>\n      <th>DayOfWeek</th>\n      <th>DepTime</th>\n      <th>CRSDepTime</th>\n      <th>ArrTime</th>\n      <th>CRSArrTime</th>\n      <th>UniqueCarrier</th>\n      <th>FlightNum</th>\n      <th>...</th>\n      <th>TaxiIn</th>\n      <th>TaxiOut</th>\n      <th>Cancelled</th>\n      <th>CancellationCode</th>\n      <th>Diverted</th>\n      <th>CarrierDelay</th>\n      <th>WeatherDelay</th>\n      <th>NASDelay</th>\n      <th>SecurityDelay</th>\n      <th>LateAircraftDelay</th>\n    </tr>\n  </thead>\n  <tbody>\n    <tr>\n      <td>103149</td>\n      <td>2008</td>\n      <td>1</td>\n      <td>21</td>\n      <td>1</td>\n      <td>1207.0</td>\n      <td>1210</td>\n      <td>1346.0</td>\n      <td>1335</td>\n      <td>XE</td>\n      <td>2349</td>\n      <td>...</td>\n      <td>11.0</td>\n      <td>13.0</td>\n      <td>0</td>\n      <td>NaN</td>\n      <td>0</td>\n      <td>NaN</td>\n      <td>NaN</td>\n      <td>NaN</td>\n      <td>NaN</td>\n      <td>NaN</td>\n    </tr>\n    <tr>\n      <td>103572</td>\n      <td>2008</td>\n      <td>1</td>\n      <td>12</td>\n      <td>6</td>\n      <td>1458.0</td>\n      <td>1500</td>\n      <td>1622.0</td>\n      <td>1620</td>\n      <td>XE</td>\n      <td>2145</td>\n      <td>...</td>\n      <td>6.0</td>\n      <td>17.0</td>\n      <td>0</td>\n      <td>NaN</td>\n      <td>0</td>\n      <td>NaN</td>\n      <td>NaN</td>\n      <td>NaN</td>\n      <td>NaN</td>\n      <td>NaN</td>\n    </tr>\n    <tr>\n      <td>104019</td>\n      <td>2008</td>\n      <td>1</td>\n      <td>20</td>\n      <td>7</td>\n      <td>1403.0</td>\n      <td>1330</td>\n      <td>1625.0</td>\n      <td>1608</td>\n      <td>XE</td>\n      <td>1284</td>\n      <td>...</td>\n      <td>6.0</td>\n      <td>32.0</td>\n      <td>0</td>\n      <td>NaN</td>\n      <td>0</td>\n      <td>0.0</td>\n      <td>0.0</td>\n      <td>17.0</td>\n      <td>0.0</td>\n      <td>0.0</td>\n    </tr>\n    <tr>\n      <td>104124</td>\n      <td>2008</td>\n      <td>1</td>\n      <td>26</td>\n      <td>6</td>\n      <td>1629.0</td>\n      <td>1630</td>\n      <td>1832.0</td>\n      <td>1902</td>\n      <td>XE</td>\n      <td>1241</td>\n      <td>...</td>\n      <td>9.0</td>\n      <td>15.0</td>\n      <td>0</td>\n      <td>NaN</td>\n      <td>0</td>\n      <td>NaN</td>\n      <td>NaN</td>\n      <td>NaN</td>\n      <td>NaN</td>\n      <td>NaN</td>\n    </tr>\n    <tr>\n      <td>104485</td>\n      <td>2008</td>\n      <td>1</td>\n      <td>4</td>\n      <td>5</td>\n      <td>1336.0</td>\n      <td>1340</td>\n      <td>1501.0</td>\n      <td>1500</td>\n      <td>XE</td>\n      <td>2112</td>\n      <td>...</td>\n      <td>12.0</td>\n      <td>12.0</td>\n      <td>0</td>\n      <td>NaN</td>\n      <td>0</td>\n      <td>NaN</td>\n      <td>NaN</td>\n      <td>NaN</td>\n      <td>NaN</td>\n      <td>NaN</td>\n    </tr>\n  </tbody>\n</table>\n<p>5 rows × 29 columns</p>\n</div>"
     },
     "metadata": {},
     "execution_count": 9
    }
   ],
   "source": [
    "df[df[\"Origin\"]==\"ATL\"].head() #Filtro de una columna de texto"
   ]
  },
  {
   "cell_type": "code",
   "execution_count": 11,
   "metadata": {},
   "outputs": [
    {
     "output_type": "execute_result",
     "data": {
      "text/plain": "        Year  Month  DayofMonth  DayOfWeek  DepTime  CRSDepTime  ArrTime  \\\n109189  2008      1          31          4   1217.0        1210   1511.0   \n110375  2008      1          19          6   1241.0        1215   1735.0   \n121229  2008      1           3          4   1421.0        1200   1526.0   \n132768  2008      1           6          7   1315.0        1130   1410.0   \n133549  2008      1           7          1   2040.0        1800   2156.0   \n\n        CRSArrTime UniqueCarrier  FlightNum  ... TaxiIn  TaxiOut  Cancelled  \\\n109189        1335            XE       2023  ...   21.0     60.0          0   \n110375        1437            XE       1284  ...   12.0    178.0          0   \n121229        1325            XE       2132  ...    9.0     13.0          0   \n132768        1240            YV       7267  ...    3.0      6.0          0   \n133549        1932            YV       2626  ...   12.0     28.0          0   \n\n        CancellationCode  Diverted  CarrierDelay WeatherDelay NASDelay  \\\n109189               NaN         0           0.0          0.0     96.0   \n110375               NaN         0           0.0          0.0    164.0   \n121229               NaN         0          17.0          0.0      0.0   \n132768               NaN         0           0.0          0.0     90.0   \n133549               NaN         0         144.0          0.0      0.0   \n\n        SecurityDelay  LateAircraftDelay  \n109189            0.0                0.0  \n110375            0.0               14.0  \n121229            0.0              104.0  \n132768            0.0                0.0  \n133549            0.0                0.0  \n\n[5 rows x 29 columns]",
      "text/html": "<div>\n<style scoped>\n    .dataframe tbody tr th:only-of-type {\n        vertical-align: middle;\n    }\n\n    .dataframe tbody tr th {\n        vertical-align: top;\n    }\n\n    .dataframe thead th {\n        text-align: right;\n    }\n</style>\n<table border=\"1\" class=\"dataframe\">\n  <thead>\n    <tr style=\"text-align: right;\">\n      <th></th>\n      <th>Year</th>\n      <th>Month</th>\n      <th>DayofMonth</th>\n      <th>DayOfWeek</th>\n      <th>DepTime</th>\n      <th>CRSDepTime</th>\n      <th>ArrTime</th>\n      <th>CRSArrTime</th>\n      <th>UniqueCarrier</th>\n      <th>FlightNum</th>\n      <th>...</th>\n      <th>TaxiIn</th>\n      <th>TaxiOut</th>\n      <th>Cancelled</th>\n      <th>CancellationCode</th>\n      <th>Diverted</th>\n      <th>CarrierDelay</th>\n      <th>WeatherDelay</th>\n      <th>NASDelay</th>\n      <th>SecurityDelay</th>\n      <th>LateAircraftDelay</th>\n    </tr>\n  </thead>\n  <tbody>\n    <tr>\n      <td>109189</td>\n      <td>2008</td>\n      <td>1</td>\n      <td>31</td>\n      <td>4</td>\n      <td>1217.0</td>\n      <td>1210</td>\n      <td>1511.0</td>\n      <td>1335</td>\n      <td>XE</td>\n      <td>2023</td>\n      <td>...</td>\n      <td>21.0</td>\n      <td>60.0</td>\n      <td>0</td>\n      <td>NaN</td>\n      <td>0</td>\n      <td>0.0</td>\n      <td>0.0</td>\n      <td>96.0</td>\n      <td>0.0</td>\n      <td>0.0</td>\n    </tr>\n    <tr>\n      <td>110375</td>\n      <td>2008</td>\n      <td>1</td>\n      <td>19</td>\n      <td>6</td>\n      <td>1241.0</td>\n      <td>1215</td>\n      <td>1735.0</td>\n      <td>1437</td>\n      <td>XE</td>\n      <td>1284</td>\n      <td>...</td>\n      <td>12.0</td>\n      <td>178.0</td>\n      <td>0</td>\n      <td>NaN</td>\n      <td>0</td>\n      <td>0.0</td>\n      <td>0.0</td>\n      <td>164.0</td>\n      <td>0.0</td>\n      <td>14.0</td>\n    </tr>\n    <tr>\n      <td>121229</td>\n      <td>2008</td>\n      <td>1</td>\n      <td>3</td>\n      <td>4</td>\n      <td>1421.0</td>\n      <td>1200</td>\n      <td>1526.0</td>\n      <td>1325</td>\n      <td>XE</td>\n      <td>2132</td>\n      <td>...</td>\n      <td>9.0</td>\n      <td>13.0</td>\n      <td>0</td>\n      <td>NaN</td>\n      <td>0</td>\n      <td>17.0</td>\n      <td>0.0</td>\n      <td>0.0</td>\n      <td>0.0</td>\n      <td>104.0</td>\n    </tr>\n    <tr>\n      <td>132768</td>\n      <td>2008</td>\n      <td>1</td>\n      <td>6</td>\n      <td>7</td>\n      <td>1315.0</td>\n      <td>1130</td>\n      <td>1410.0</td>\n      <td>1240</td>\n      <td>YV</td>\n      <td>7267</td>\n      <td>...</td>\n      <td>3.0</td>\n      <td>6.0</td>\n      <td>0</td>\n      <td>NaN</td>\n      <td>0</td>\n      <td>0.0</td>\n      <td>0.0</td>\n      <td>90.0</td>\n      <td>0.0</td>\n      <td>0.0</td>\n    </tr>\n    <tr>\n      <td>133549</td>\n      <td>2008</td>\n      <td>1</td>\n      <td>7</td>\n      <td>1</td>\n      <td>2040.0</td>\n      <td>1800</td>\n      <td>2156.0</td>\n      <td>1932</td>\n      <td>YV</td>\n      <td>2626</td>\n      <td>...</td>\n      <td>12.0</td>\n      <td>28.0</td>\n      <td>0</td>\n      <td>NaN</td>\n      <td>0</td>\n      <td>144.0</td>\n      <td>0.0</td>\n      <td>0.0</td>\n      <td>0.0</td>\n      <td>0.0</td>\n    </tr>\n  </tbody>\n</table>\n<p>5 rows × 29 columns</p>\n</div>"
     },
     "metadata": {},
     "execution_count": 11
    }
   ],
   "source": [
    "df[(df[\"ArrDelay\"] > 60) & (df[\"Origin\"]==\"ATL\")].head() #Varias condiciones. Entre () y usando las uniones & = and, | = OR"
   ]
  },
  {
   "cell_type": "code",
   "execution_count": 12,
   "metadata": {},
   "outputs": [
    {
     "output_type": "execute_result",
     "data": {
      "text/plain": "      Year  Month  DayofMonth  DayOfWeek  DepTime  CRSDepTime  ArrTime  \\\n3269  2008      1           4          5   1910.0        1910   2025.0   \n3270  2008      1           4          5   1345.0        1345   1453.0   \n3271  2008      1           4          5    736.0         735    839.0   \n3272  2008      1           4          5   1603.0        1550   1647.0   \n3273  2008      1           4          5   2105.0        2105   2151.0   \n\n      CRSArrTime UniqueCarrier  FlightNum  ... TaxiIn  TaxiOut  Cancelled  \\\n3269        2025            WN        823  ...    6.0     11.0          0   \n3270        1500            WN        901  ...    3.0     14.0          0   \n3271         850            WN        957  ...    3.0      9.0          0   \n3272        1635            WN        231  ...    5.0     10.0          0   \n3273        2150            WN        570  ...    7.0     11.0          0   \n\n      CancellationCode  Diverted  CarrierDelay WeatherDelay NASDelay  \\\n3269               NaN         0           NaN          NaN      NaN   \n3270               NaN         0           NaN          NaN      NaN   \n3271               NaN         0           NaN          NaN      NaN   \n3272               NaN         0           NaN          NaN      NaN   \n3273               NaN         0           NaN          NaN      NaN   \n\n      SecurityDelay  LateAircraftDelay  \n3269            NaN                NaN  \n3270            NaN                NaN  \n3271            NaN                NaN  \n3272            NaN                NaN  \n3273            NaN                NaN  \n\n[5 rows x 29 columns]",
      "text/html": "<div>\n<style scoped>\n    .dataframe tbody tr th:only-of-type {\n        vertical-align: middle;\n    }\n\n    .dataframe tbody tr th {\n        vertical-align: top;\n    }\n\n    .dataframe thead th {\n        text-align: right;\n    }\n</style>\n<table border=\"1\" class=\"dataframe\">\n  <thead>\n    <tr style=\"text-align: right;\">\n      <th></th>\n      <th>Year</th>\n      <th>Month</th>\n      <th>DayofMonth</th>\n      <th>DayOfWeek</th>\n      <th>DepTime</th>\n      <th>CRSDepTime</th>\n      <th>ArrTime</th>\n      <th>CRSArrTime</th>\n      <th>UniqueCarrier</th>\n      <th>FlightNum</th>\n      <th>...</th>\n      <th>TaxiIn</th>\n      <th>TaxiOut</th>\n      <th>Cancelled</th>\n      <th>CancellationCode</th>\n      <th>Diverted</th>\n      <th>CarrierDelay</th>\n      <th>WeatherDelay</th>\n      <th>NASDelay</th>\n      <th>SecurityDelay</th>\n      <th>LateAircraftDelay</th>\n    </tr>\n  </thead>\n  <tbody>\n    <tr>\n      <td>3269</td>\n      <td>2008</td>\n      <td>1</td>\n      <td>4</td>\n      <td>5</td>\n      <td>1910.0</td>\n      <td>1910</td>\n      <td>2025.0</td>\n      <td>2025</td>\n      <td>WN</td>\n      <td>823</td>\n      <td>...</td>\n      <td>6.0</td>\n      <td>11.0</td>\n      <td>0</td>\n      <td>NaN</td>\n      <td>0</td>\n      <td>NaN</td>\n      <td>NaN</td>\n      <td>NaN</td>\n      <td>NaN</td>\n      <td>NaN</td>\n    </tr>\n    <tr>\n      <td>3270</td>\n      <td>2008</td>\n      <td>1</td>\n      <td>4</td>\n      <td>5</td>\n      <td>1345.0</td>\n      <td>1345</td>\n      <td>1453.0</td>\n      <td>1500</td>\n      <td>WN</td>\n      <td>901</td>\n      <td>...</td>\n      <td>3.0</td>\n      <td>14.0</td>\n      <td>0</td>\n      <td>NaN</td>\n      <td>0</td>\n      <td>NaN</td>\n      <td>NaN</td>\n      <td>NaN</td>\n      <td>NaN</td>\n      <td>NaN</td>\n    </tr>\n    <tr>\n      <td>3271</td>\n      <td>2008</td>\n      <td>1</td>\n      <td>4</td>\n      <td>5</td>\n      <td>736.0</td>\n      <td>735</td>\n      <td>839.0</td>\n      <td>850</td>\n      <td>WN</td>\n      <td>957</td>\n      <td>...</td>\n      <td>3.0</td>\n      <td>9.0</td>\n      <td>0</td>\n      <td>NaN</td>\n      <td>0</td>\n      <td>NaN</td>\n      <td>NaN</td>\n      <td>NaN</td>\n      <td>NaN</td>\n      <td>NaN</td>\n    </tr>\n    <tr>\n      <td>3272</td>\n      <td>2008</td>\n      <td>1</td>\n      <td>4</td>\n      <td>5</td>\n      <td>1603.0</td>\n      <td>1550</td>\n      <td>1647.0</td>\n      <td>1635</td>\n      <td>WN</td>\n      <td>231</td>\n      <td>...</td>\n      <td>5.0</td>\n      <td>10.0</td>\n      <td>0</td>\n      <td>NaN</td>\n      <td>0</td>\n      <td>NaN</td>\n      <td>NaN</td>\n      <td>NaN</td>\n      <td>NaN</td>\n      <td>NaN</td>\n    </tr>\n    <tr>\n      <td>3273</td>\n      <td>2008</td>\n      <td>1</td>\n      <td>4</td>\n      <td>5</td>\n      <td>2105.0</td>\n      <td>2105</td>\n      <td>2151.0</td>\n      <td>2150</td>\n      <td>WN</td>\n      <td>570</td>\n      <td>...</td>\n      <td>7.0</td>\n      <td>11.0</td>\n      <td>0</td>\n      <td>NaN</td>\n      <td>0</td>\n      <td>NaN</td>\n      <td>NaN</td>\n      <td>NaN</td>\n      <td>NaN</td>\n      <td>NaN</td>\n    </tr>\n  </tbody>\n</table>\n<p>5 rows × 29 columns</p>\n</div>"
     },
     "metadata": {},
     "execution_count": 12
    }
   ],
   "source": [
    "df[df.Origin.isin([\"HOU\",\"ATL\"])].head() #La función isin, es como un in de la columna Origin"
   ]
  },
  {
   "cell_type": "code",
   "execution_count": 14,
   "metadata": {},
   "outputs": [],
   "source": [
    "df2 = df[pd.isna(df[\"ArrDelay\"])].head() #La función isna de Pandas, busca valores no facilitads"
   ]
  },
  {
   "cell_type": "code",
   "execution_count": 15,
   "metadata": {},
   "outputs": [
    {
     "output_type": "execute_result",
     "data": {
      "text/plain": "178   NaN\n373   NaN\n399   NaN\n401   NaN\n415   NaN\nName: ArrDelay, dtype: float64"
     },
     "metadata": {},
     "execution_count": 15
    }
   ],
   "source": [
    "df2[\"ArrDelay\"]"
   ]
  },
  {
   "cell_type": "code",
   "execution_count": 16,
   "metadata": {},
   "outputs": [
    {
     "output_type": "execute_result",
     "data": {
      "text/plain": "154699"
     },
     "metadata": {},
     "execution_count": 16
    }
   ],
   "source": [
    "len(df[pd.isna(df[\"ArrDelay\"])]) #cantidad de registros que cumplen la condición"
   ]
  }
 ]
}